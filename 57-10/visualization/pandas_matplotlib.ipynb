{
  "cells": [
    {
      "cell_type": "markdown",
      "id": "lCSve2V79VyV",
      "metadata": {
        "id": "lCSve2V79VyV"
      },
      "source": [
        "## Практическое задание: pandas + matplotlib"
      ]
    },
    {
      "cell_type": "code",
      "execution_count": 3,
      "id": "cf3f277e",
      "metadata": {},
      "outputs": [
        {
          "name": "stdout",
          "output_type": "stream",
          "text": [
            "Requirement already satisfied: pandas in ./.venv/lib/python3.12/site-packages (2.2.2)\n",
            "Requirement already satisfied: matplotlib in ./.venv/lib/python3.12/site-packages (3.9.1.post1)\n",
            "Requirement already satisfied: gdown in ./.venv/lib/python3.12/site-packages (5.2.0)\n",
            "Requirement already satisfied: numpy>=1.26.0 in ./.venv/lib/python3.12/site-packages (from pandas) (1.26.4)\n",
            "Requirement already satisfied: python-dateutil>=2.8.2 in ./.venv/lib/python3.12/site-packages (from pandas) (2.9.0.post0)\n",
            "Requirement already satisfied: pytz>=2020.1 in ./.venv/lib/python3.12/site-packages (from pandas) (2024.1)\n",
            "Requirement already satisfied: tzdata>=2022.7 in ./.venv/lib/python3.12/site-packages (from pandas) (2024.1)\n",
            "Requirement already satisfied: contourpy>=1.0.1 in ./.venv/lib/python3.12/site-packages (from matplotlib) (1.2.1)\n",
            "Requirement already satisfied: cycler>=0.10 in ./.venv/lib/python3.12/site-packages (from matplotlib) (0.12.1)\n",
            "Requirement already satisfied: fonttools>=4.22.0 in ./.venv/lib/python3.12/site-packages (from matplotlib) (4.53.1)\n",
            "Requirement already satisfied: kiwisolver>=1.3.1 in ./.venv/lib/python3.12/site-packages (from matplotlib) (1.4.5)\n",
            "Requirement already satisfied: packaging>=20.0 in ./.venv/lib/python3.12/site-packages (from matplotlib) (24.1)\n",
            "Requirement already satisfied: pillow>=8 in ./.venv/lib/python3.12/site-packages (from matplotlib) (10.4.0)\n",
            "Requirement already satisfied: pyparsing>=2.3.1 in ./.venv/lib/python3.12/site-packages (from matplotlib) (3.1.2)\n",
            "Requirement already satisfied: beautifulsoup4 in ./.venv/lib/python3.12/site-packages (from gdown) (4.12.3)\n",
            "Requirement already satisfied: filelock in ./.venv/lib/python3.12/site-packages (from gdown) (3.16.1)\n",
            "Requirement already satisfied: requests[socks] in ./.venv/lib/python3.12/site-packages (from gdown) (2.32.3)\n",
            "Requirement already satisfied: tqdm in ./.venv/lib/python3.12/site-packages (from gdown) (4.66.5)\n",
            "Requirement already satisfied: six>=1.5 in ./.venv/lib/python3.12/site-packages (from python-dateutil>=2.8.2->pandas) (1.16.0)\n",
            "Requirement already satisfied: soupsieve>1.2 in ./.venv/lib/python3.12/site-packages (from beautifulsoup4->gdown) (2.5)\n",
            "Requirement already satisfied: charset-normalizer<4,>=2 in ./.venv/lib/python3.12/site-packages (from requests[socks]->gdown) (3.3.2)\n",
            "Requirement already satisfied: idna<4,>=2.5 in ./.venv/lib/python3.12/site-packages (from requests[socks]->gdown) (3.7)\n",
            "Requirement already satisfied: urllib3<3,>=1.21.1 in ./.venv/lib/python3.12/site-packages (from requests[socks]->gdown) (2.2.2)\n",
            "Requirement already satisfied: certifi>=2017.4.17 in ./.venv/lib/python3.12/site-packages (from requests[socks]->gdown) (2024.7.4)\n",
            "Requirement already satisfied: PySocks!=1.5.7,>=1.5.6 in ./.venv/lib/python3.12/site-packages (from requests[socks]->gdown) (1.7.1)\n",
            "\n",
            "\u001b[1m[\u001b[0m\u001b[34;49mnotice\u001b[0m\u001b[1;39;49m]\u001b[0m\u001b[39;49m A new release of pip is available: \u001b[0m\u001b[31;49m24.0\u001b[0m\u001b[39;49m -> \u001b[0m\u001b[32;49m24.2\u001b[0m\n",
            "\u001b[1m[\u001b[0m\u001b[34;49mnotice\u001b[0m\u001b[1;39;49m]\u001b[0m\u001b[39;49m To update, run: \u001b[0m\u001b[32;49mpip install --upgrade pip\u001b[0m\n"
          ]
        }
      ],
      "source": [
        "!pip install pandas matplotlib gdown"
      ]
    },
    {
      "cell_type": "markdown",
      "id": "940161ce",
      "metadata": {
        "id": "940161ce",
        "run_control": {
          "frozen": false,
          "read_only": false
        }
      },
      "source": [
        "# Часть 1. Pandas"
      ]
    },
    {
      "cell_type": "code",
      "execution_count": 4,
      "id": "044f67ae",
      "metadata": {
        "id": "044f67ae",
        "run_control": {
          "frozen": false,
          "read_only": false
        }
      },
      "outputs": [],
      "source": [
        "import pandas as pd"
      ]
    },
    {
      "cell_type": "code",
      "execution_count": 2,
      "id": "Sgb_YbNxa131",
      "metadata": {
        "id": "Sgb_YbNxa131"
      },
      "outputs": [
        {
          "name": "stdout",
          "output_type": "stream",
          "text": [
            "Downloading...\n",
            "From: https://drive.google.com/uc?id=1sA-fqJb1WxhS_jaYDcIwXWa_b8b2oZJ6\n",
            "To: /home/i3alumba/Projects/test/youtube_trending_mediterranean.csv\n",
            "100%|██████████████████████████████████████| 6.22M/6.22M [02:31<00:00, 41.1kB/s]\n"
          ]
        }
      ],
      "source": [
        "!gdown 1sA-fqJb1WxhS_jaYDcIwXWa_b8b2oZJ6"
      ]
    },
    {
      "cell_type": "markdown",
      "id": "607cf267",
      "metadata": {
        "id": "607cf267",
        "run_control": {
          "frozen": false,
          "read_only": false
        }
      },
      "source": [
        "#### Задание 1\n",
        "* Откройте файл с таблицей, загруженной выше, и выведите последние 5 строк.\n",
        "* Посмотрите на данные и скажите, что они из себя представляют, сколько в таблице строк и столбцов?"
      ]
    },
    {
      "cell_type": "code",
      "execution_count": null,
      "id": "2216fa8d",
      "metadata": {
        "id": "2216fa8d",
        "run_control": {
          "frozen": false,
          "read_only": false
        }
      },
      "outputs": [],
      "source": [
        "# data = Your code here"
      ]
    },
    {
      "cell_type": "code",
      "execution_count": null,
      "id": "ba33ed6b",
      "metadata": {
        "id": "ba33ed6b",
        "run_control": {
          "frozen": false,
          "read_only": false
        }
      },
      "outputs": [],
      "source": [
        "# Your code here"
      ]
    },
    {
      "cell_type": "markdown",
      "id": "0672fe7f",
      "metadata": {
        "id": "0672fe7f",
        "run_control": {
          "frozen": false,
          "read_only": false
        }
      },
      "source": [
        "**Ответ**: ВАШ ОТВЕТ ЗДЕСЬ"
      ]
    },
    {
      "cell_type": "markdown",
      "id": "8f6dc4a5",
      "metadata": {
        "id": "8f6dc4a5",
        "run_control": {
          "frozen": false,
          "read_only": false
        }
      },
      "source": [
        "#### Задание 2 \n",
        "\n",
        "Ответьте на вопросы:\n",
        "\n",
        "* Для скольких стран (колонка country) есть информация о видеороликах в таблице (отсутствие страны НЕ учитывается как +1 значение)?\n",
        "* Сколько есть видеороликов (== записей в таблице) c разрешенными и запрещенными комментариями? (колонка comments_disabled). Под видеороликом считаем 1 запись в таблице.\n",
        "* Какое максимальное число просмотров у видеороликов, попавших в таблицу? (колонка view_count)"
      ]
    },
    {
      "cell_type": "code",
      "execution_count": null,
      "id": "e966fa7b",
      "metadata": {
        "id": "e966fa7b",
        "run_control": {
          "frozen": false,
          "read_only": false
        }
      },
      "outputs": [],
      "source": [
        "# Your code here"
      ]
    },
    {
      "cell_type": "markdown",
      "id": "327f49bc",
      "metadata": {
        "id": "327f49bc",
        "run_control": {
          "frozen": false,
          "read_only": false
        }
      },
      "source": [
        "**Ответ**:\n",
        "1. ВАШ ОТВЕТ ЗДЕСЬ\n",
        "2. ВАШ ОТВЕТ ЗДЕСЬ\n",
        "3. ВАШ ОТВЕТ ЗДЕСЬ"
      ]
    },
    {
      "cell_type": "markdown",
      "id": "a441d297",
      "metadata": {
        "id": "a441d297",
        "run_control": {
          "frozen": false,
          "read_only": false
        }
      },
      "source": [
        "#### Задание 3\n",
        "\n",
        "* Есть ли в данных пропуски? В каких колонках?"
      ]
    },
    {
      "cell_type": "code",
      "execution_count": null,
      "id": "b1449c7e",
      "metadata": {
        "id": "b1449c7e",
        "run_control": {
          "frozen": false,
          "read_only": false
        },
        "scrolled": true
      },
      "outputs": [],
      "source": [
        "# Your code here"
      ]
    },
    {
      "cell_type": "markdown",
      "id": "ae88b3e9",
      "metadata": {
        "id": "ae88b3e9",
        "run_control": {
          "frozen": false,
          "read_only": false
        }
      },
      "source": [
        "**Ответ**: ВАШ ОТВЕТ ЗДЕСЬ"
      ]
    },
    {
      "cell_type": "markdown",
      "id": "3358a958",
      "metadata": {
        "id": "3358a958",
        "run_control": {
          "frozen": false,
          "read_only": false
        }
      },
      "source": [
        "Заполните пропуски пустой строкой для текстовых колонок, и удалите строки с пропусками для колонок с категориальными значениями.\n",
        "\n",
        "**Внимание!** Для проверки корректности выведите кол-во пропусков во всех столбцах и общее кол-во строк в таблице - должна быть 3021 запись. Ошибка при удалении строк может привести к неправильному выполнению следующих заданий."
      ]
    },
    {
      "cell_type": "code",
      "execution_count": null,
      "id": "dd4b8854",
      "metadata": {
        "id": "dd4b8854",
        "run_control": {
          "frozen": false,
          "read_only": false
        }
      },
      "outputs": [],
      "source": [
        "# Your code here"
      ]
    },
    {
      "cell_type": "code",
      "execution_count": null,
      "id": "8w8us5plN_kd",
      "metadata": {
        "id": "8w8us5plN_kd"
      },
      "outputs": [],
      "source": [
        "assert(data.shape[0] == 3021, \"Проверьте правильность выполнения задания.\")"
      ]
    },
    {
      "cell_type": "markdown",
      "id": "e22bc689",
      "metadata": {
        "id": "e22bc689",
        "run_control": {
          "frozen": false,
          "read_only": false
        }
      },
      "source": [
        "#### Задание 4 \n",
        "\n",
        "Посмотрите на колонку publishedAt\n",
        "* Какого она типа?\n",
        "* Измените тип колонки на datetime. Покажите, что после изменения колонка действительно имеет тип datetime.\n",
        "* В какой месяц было добавлено больше всего видеороликов?"
      ]
    },
    {
      "cell_type": "code",
      "execution_count": null,
      "id": "fb5d5d9b",
      "metadata": {
        "id": "fb5d5d9b",
        "run_control": {
          "frozen": false,
          "read_only": false
        }
      },
      "outputs": [],
      "source": [
        "# Your code here"
      ]
    },
    {
      "cell_type": "markdown",
      "id": "709fe827",
      "metadata": {
        "id": "709fe827",
        "run_control": {
          "frozen": false,
          "read_only": false
        }
      },
      "source": [
        "**Ответ**:\n",
        "1. ВАШ ОТВЕТ ЗДЕСЬ\n",
        "2. ВАШ ОТВЕТ ЗДЕСЬ"
      ]
    },
    {
      "cell_type": "markdown",
      "id": "abbf2da2",
      "metadata": {
        "id": "abbf2da2",
        "run_control": {
          "frozen": false,
          "read_only": false
        }
      },
      "source": [
        "#### Задание 5 \n",
        "\n",
        "Посмотрите на колонку description.\n",
        "* Переведите строки в нижний регистр и обрежьте ненужные пробелы справа и слева.\n",
        "* Замените url-адреса  в описаниях на специальный тэг \\<URL\\>.\n",
        "* Выведите полностью description для видеоролика с video_id = 'Oxexirlmdig'."
      ]
    },
    {
      "cell_type": "code",
      "execution_count": null,
      "id": "oA4j4okecJ08",
      "metadata": {
        "id": "oA4j4okecJ08"
      },
      "outputs": [],
      "source": [
        "pattern = r'http\\S+'"
      ]
    },
    {
      "cell_type": "code",
      "execution_count": null,
      "id": "abef9a9d",
      "metadata": {
        "id": "abef9a9d",
        "run_control": {
          "frozen": false,
          "read_only": false
        }
      },
      "outputs": [],
      "source": [
        "# Your code here"
      ]
    },
    {
      "cell_type": "markdown",
      "id": "b7e65aef",
      "metadata": {
        "id": "b7e65aef",
        "run_control": {
          "frozen": false,
          "read_only": false
        }
      },
      "source": [
        "#### Задание 6 \n",
        "* Какие 5 роликов набрали в Италии (country='IT') наибольшее число просмотров (колонка view_count)? В качестве ответа приведите названия каналов с соответствующими роликами (колонка channelTitle) в порядке убывания числа просмотров полученных роликов.\n",
        "\n",
        "Для решения воспользуйтесь функцией [sort_values](https://pandas.pydata.org/pandas-docs/stable/reference/api/pandas.DataFrame.sort_values.html)."
      ]
    },
    {
      "cell_type": "code",
      "execution_count": null,
      "id": "be47af0b",
      "metadata": {
        "id": "be47af0b",
        "run_control": {
          "frozen": false,
          "read_only": false
        }
      },
      "outputs": [],
      "source": [
        "# Your code here"
      ]
    },
    {
      "cell_type": "markdown",
      "id": "5fc10b5f",
      "metadata": {
        "id": "5fc10b5f",
        "run_control": {
          "frozen": false,
          "read_only": false
        }
      },
      "source": [
        "**Ответ**: ВАШ ОТВЕТ ЗДЕСЬ"
      ]
    },
    {
      "cell_type": "markdown",
      "id": "81878fa6",
      "metadata": {
        "id": "81878fa6",
        "run_control": {
          "frozen": false,
          "read_only": false
        }
      },
      "source": [
        "#### Задание 7 \n",
        "* Какой видеоролик был опубликован в наибольшем кол-ве стран? В качестве ответа привeдите название видеоролика (колонка title).\n",
        "\n",
        "Для решения могут помочь функции [groupby](https://pandas.pydata.org/pandas-docs/stable/reference/api/pandas.DataFrame.groupby.html) и [sort_values](https://pandas.pydata.org/pandas-docs/stable/reference/api/pandas.DataFrame.sort_values.html)."
      ]
    },
    {
      "cell_type": "code",
      "execution_count": null,
      "id": "4b20a67a",
      "metadata": {
        "id": "4b20a67a",
        "run_control": {
          "frozen": false,
          "read_only": false
        },
        "scrolled": true
      },
      "outputs": [],
      "source": [
        "# Your code here"
      ]
    },
    {
      "cell_type": "markdown",
      "id": "07f9f3f5",
      "metadata": {
        "id": "07f9f3f5",
        "run_control": {
          "frozen": false,
          "read_only": false
        }
      },
      "source": [
        "**Ответ**: ВАШ ОТВЕТ ЗДЕСЬ"
      ]
    },
    {
      "cell_type": "markdown",
      "id": "1e776613",
      "metadata": {
        "id": "1e776613",
        "run_control": {
          "frozen": false,
          "read_only": false
        }
      },
      "source": [
        "#### Задание 8\n",
        "* Какое максимальное число просмотров (колонка view_count) у видеороликов, выпущенных во Франции или Италии (в колонке country значениe FR или IT) в июле (колонка publishedAt)?\n",
        "\n",
        "Необходимо придумать решение в одну строку, используя для выбора строк несколько условий, объединенных с помощью | вместо or, & вместо and и ~ вместо not, а также используя функцию [isin](https://pandas.pydata.org/pandas-docs/stable/reference/api/pandas.DataFrame.isin.html)."
      ]
    },
    {
      "cell_type": "code",
      "execution_count": null,
      "id": "ee71c86b",
      "metadata": {
        "id": "ee71c86b",
        "run_control": {
          "frozen": false,
          "read_only": false
        }
      },
      "outputs": [],
      "source": [
        "# Your code here"
      ]
    },
    {
      "cell_type": "markdown",
      "id": "c8260b3f",
      "metadata": {
        "id": "c8260b3f",
        "run_control": {
          "frozen": false,
          "read_only": false
        }
      },
      "source": [
        "**Ответ**: ВАШ ОТВЕТ ЗДЕСЬ"
      ]
    },
    {
      "cell_type": "markdown",
      "id": "c046a2da",
      "metadata": {
        "id": "c046a2da",
        "run_control": {
          "frozen": false,
          "read_only": false
        }
      },
      "source": [
        "#### Задание 9 \n",
        "* Посмотрите на названия каналов из 17 категории (колонка categoryId). Как вы думаете, что это за категория?\n",
        "* Предположим, что была допущена ошибка, и все видеоролики из 17 категории, относятся к 16 категории. Исправьте нужные значения в колонке categoryId, после чего выведите все уникальные категории.\n",
        "\n",
        "Обратите внимание, что при выборе полей с помощью оператора индексирования \\[\\] возвращается копия выбранных значений. При попытке присвоить таким образом новые значения для некоторых полей таблицы, будет выдано предупреждение. Более надежный способ - использовать операторы loc и iloc."
      ]
    },
    {
      "cell_type": "code",
      "execution_count": null,
      "id": "903a52aa",
      "metadata": {
        "id": "903a52aa",
        "run_control": {
          "frozen": false,
          "read_only": false
        }
      },
      "outputs": [],
      "source": [
        "# Your code here"
      ]
    },
    {
      "cell_type": "markdown",
      "id": "8rSEkT74gefG",
      "metadata": {
        "id": "8rSEkT74gefG"
      },
      "source": [
        "**Ответ**: ВАШ ОТВЕТ ЗДЕСЬ"
      ]
    },
    {
      "cell_type": "markdown",
      "id": "1d639ee0",
      "metadata": {
        "id": "1d639ee0",
        "run_control": {
          "frozen": false,
          "read_only": false
        }
      },
      "source": [
        "#### Задание 10 \n",
        "Посмотрите на колонку tags.\n",
        "\n",
        "* Замените строки со значением '[none]' на пустую строку.\n",
        "* Какой самый популярный тэг? Обратите внимание, что у каждого видеоролика может быть более 1 тэга.\n",
        "\n",
        "**Подсказка 1**\n",
        "\n",
        "Чтобы получить правильное значение, не забудьте обработать множество тэгов - убрать пробельные символы по краям и привести строки в нижний регистр.\n",
        "\n",
        "**Подсказка 2**\n",
        "\n",
        "Нужный тэг встречается больше 130 раз."
      ]
    },
    {
      "cell_type": "code",
      "execution_count": null,
      "id": "32d33e19",
      "metadata": {
        "id": "32d33e19",
        "run_control": {
          "frozen": false,
          "read_only": false
        }
      },
      "outputs": [],
      "source": [
        "# Your code here"
      ]
    },
    {
      "cell_type": "markdown",
      "id": "6a1fec21",
      "metadata": {
        "id": "6a1fec21",
        "run_control": {
          "frozen": false,
          "read_only": false
        }
      },
      "source": [
        "**Ответ**: ВАШ ОТВЕТ ЗДЕСЬ"
      ]
    },
    {
      "cell_type": "markdown",
      "id": "b91b39da",
      "metadata": {
        "id": "b91b39da",
        "run_control": {
          "frozen": false,
          "read_only": false
        }
      },
      "source": [
        "# Часть 2. Визуализация данных"
      ]
    },
    {
      "cell_type": "markdown",
      "id": "2b9bcc9c",
      "metadata": {
        "id": "2b9bcc9c",
        "run_control": {
          "frozen": false,
          "read_only": false
        }
      },
      "source": [
        "\n",
        "### Оформление графиков\n",
        "\n",
        "Важно, чтобы все графики выглядели опрятно и соответствовали следующим правилам:\n",
        "\n",
        "- должно быть название (plt.title) графика;\n",
        "- на графиках должны быть подписаны оси (plt.xlabel, plt.ylabel);\n",
        "- должны быть подписаны единицы измерения (если это возможно);\n",
        "- все названия должны быть понятны любому человеку, знакомому с терминологией, без заглядывания в код;\n",
        "- подписи тиков на осях не должны сливаться как на одной оси, так и между ними;\n",
        "- если изображено несколько сущностей на одном холсте (например несколько функций), то необходима поясняющая легенда (plt.legend);\n",
        "- все линии на графиках должны быть чётко видны (нет похожих цветов или цветов, сливающихся с фоном);\n",
        "- если отображена величина, имеющая очевидный диапазон значений (например, проценты могут быть от 0 до 100), то желательно масштабировать ось на весь диапазон значений (исключением является случай, когда вам необходимо показать малое отличие, которое незаметно в таких масштабах);\n",
        "- графики должны быть не супер-микро и не супер-макро по размерам, так, чтобы можно было увидеть все, что нужно.\n",
        "- при необходимости улучшения наглядности графиков, можно пользоваться логарифмической шкалой по осям x/y."
      ]
    },
    {
      "cell_type": "code",
      "execution_count": null,
      "id": "d2920a94",
      "metadata": {
        "id": "d2920a94",
        "run_control": {
          "frozen": false,
          "read_only": false
        }
      },
      "outputs": [],
      "source": [
        "import matplotlib\n",
        "import matplotlib.pyplot as plt\n",
        "\n",
        "#отображение графиков в ноутбуке\n",
        "%matplotlib inline\n",
        "\n",
        "#для четкой прорисовки графиков - осторожно!!! Может съедать много памяти\n",
        "#закоменьте эту строку, если это случилось\n",
        "%config InlineBackend.figure_format = 'svg'"
      ]
    },
    {
      "cell_type": "markdown",
      "id": "1fb6a2ef",
      "metadata": {
        "id": "1fb6a2ef",
        "run_control": {
          "frozen": false,
          "read_only": false
        }
      },
      "source": [
        "### Задание 1\n",
        "\n",
        "Постройте график (line plot) зависимости кол-ва выпущенных роликов от даты публикации.\n",
        "\n",
        "Обратите внимание, что один и тот же ролик может быть опубликован в нескольких странах, и ему может соответствовать несколько строк в таблице. На графике необходимо учесть каждый ролик только 1 раз."
      ]
    },
    {
      "cell_type": "code",
      "execution_count": null,
      "id": "f44c3111",
      "metadata": {
        "id": "f44c3111",
        "run_control": {
          "frozen": false,
          "read_only": false
        }
      },
      "outputs": [],
      "source": [
        "# Your code here"
      ]
    },
    {
      "cell_type": "markdown",
      "id": "ee7f4e09",
      "metadata": {
        "id": "ee7f4e09",
        "run_control": {
          "frozen": false,
          "read_only": false
        }
      },
      "source": [
        "### Задание 2\n",
        "Постройте диаграмму  (bar plot) кол-ва опубликованных роликов в зависимости от страны."
      ]
    },
    {
      "cell_type": "code",
      "execution_count": null,
      "id": "6414d970",
      "metadata": {
        "id": "6414d970",
        "run_control": {
          "frozen": false,
          "read_only": false
        }
      },
      "outputs": [],
      "source": [
        "# Your code here"
      ]
    },
    {
      "cell_type": "markdown",
      "id": "e28d57d4",
      "metadata": {
        "id": "e28d57d4",
        "run_control": {
          "frozen": false,
          "read_only": false
        }
      },
      "source": [
        "### Задание 3 \n",
        "Постройте график (scatter plot) зависимости кол-ва комментариев для ролика от кол-ва просмотров для роликов во Франции (country='FR'). На графике не нужно учитывать ролики с отключенными комментариями (comments_disabled=True). Какой характер зависмости получился?"
      ]
    },
    {
      "cell_type": "code",
      "execution_count": null,
      "id": "afffd617",
      "metadata": {
        "id": "afffd617",
        "run_control": {
          "frozen": false,
          "read_only": false
        }
      },
      "outputs": [],
      "source": [
        "# Your code here"
      ]
    },
    {
      "cell_type": "markdown",
      "id": "5v6kHLsIc83C",
      "metadata": {
        "id": "5v6kHLsIc83C"
      },
      "source": [
        "**Ответ**: ВАШ ОТВЕТ ЗДЕСЬ"
      ]
    }
  ],
  "metadata": {
    "colab": {
      "provenance": []
    },
    "hide_input": false,
    "kernelspec": {
      "display_name": ".venv",
      "language": "python",
      "name": "python3"
    },
    "language_info": {
      "codemirror_mode": {
        "name": "ipython",
        "version": 3
      },
      "file_extension": ".py",
      "mimetype": "text/x-python",
      "name": "python",
      "nbconvert_exporter": "python",
      "pygments_lexer": "ipython3",
      "version": "3.12.6"
    }
  },
  "nbformat": 4,
  "nbformat_minor": 5
}
