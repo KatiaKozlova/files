{
  "nbformat": 4,
  "nbformat_minor": 0,
  "metadata": {
    "colab": {
      "provenance": []
    },
    "kernelspec": {
      "display_name": "Python 3",
      "language": "python",
      "name": "python3"
    },
    "language_info": {
      "codemirror_mode": {
        "name": "ipython",
        "version": 3
      },
      "file_extension": ".py",
      "mimetype": "text/x-python",
      "name": "python",
      "nbconvert_exporter": "python",
      "pygments_lexer": "ipython3",
      "version": "3.7.1"
    }
  },
  "cells": [
    {
      "cell_type": "markdown",
      "metadata": {
        "id": "_PY6DR1XVqhM"
      },
      "source": [
        "# Телеграм боты\n"
      ]
    },
    {
      "cell_type": "markdown",
      "source": [
        "Как и Вконтакте, телеграм предоставляет разработчикам API. На [официальной странице](https://core.telegram.org/bots/api) можно почитать, какие запросы нужно отправлять к API.\n",
        "\n",
        "Если у сервиса есть API, то, скорее всего, найдется программист, который напишет удобный модуль на питоне, который облегчит работу с этим API. Для Телеграма существует довольно много оберток, например: [python-telegram-bot](https://github.com/python-telegram-bot/python-telegram-bot), [pyTelegramBotAPI](https://github.com/eternnoir/pyTelegramBotAPI). Наш вариант последний."
      ],
      "metadata": {
        "id": "mBGauckcadsW"
      }
    },
    {
      "cell_type": "markdown",
      "source": [
        "## Ключ доступа"
      ],
      "metadata": {
        "id": "sAMmoQAvagJK"
      }
    },
    {
      "cell_type": "markdown",
      "metadata": {
        "id": "mWViv-JCYXmo"
      },
      "source": [
        "Сначала создадим приложение. Надо написать [`@BotFather`](https://telegram.me/botfather)'у комманду `/newbot`.\n",
        "\n",
        "\n",
        "Проследуйте по инструкциям и получится токен доступа, какой-то такой:\n",
        "\n",
        "`704418931:AAEtcZ*************`\n",
        "\n",
        "Собственно теперь, когда у вас есть токен и имя бота, запросы ему можно посылать даже через браузер, то есть приложение уже готово. Давайте попробуем:\n",
        "\n",
        "Если послать вот такой запрос, то вернется базовая информация о вашем боте:\n",
        "\n",
        "`https://api.telegram.org/bot<your-bot-token>/getme`\n",
        "\n",
        "```yaml\n",
        "{\n",
        "    \"ok\": true,\n",
        "    \"result\": {\n",
        "        \"id\": 7673324157,\n",
        "        \"is_bot\": true,\n",
        "        \"first_name\": \"Just a Game\",\n",
        "        \"username\": \"PuPuPuBrewCoffeeBot\",\n",
        "        \"can_join_groups\": true,\n",
        "        \"can_read_all_group_messages\": false,\n",
        "        \"supports_inline_queries\": false,\n",
        "        \"can_connect_to_business\": false,\n",
        "        \"has_main_web_app\": false\n",
        "        }\n",
        "}\n",
        "```\n",
        "\n",
        "Помимо этого, мы еще так же можем доставать все сообщения, которые посылались нашему боту за все время работы. Тоже вернется в формате JSON.\n",
        "\n",
        "`https://api.telegram.org/bot<your-bot-token>/getUpdates`\n"
      ]
    },
    {
      "cell_type": "markdown",
      "source": [
        "## Пора создавать полноценного бота"
      ],
      "metadata": {
        "id": "SSK8NQw_bbMu"
      }
    },
    {
      "cell_type": "markdown",
      "metadata": {
        "id": "hGwoyweIcwa1"
      },
      "source": [
        "В той директории, где вы будете писать бота, нужно создать питоновский файл (например, `conf.py`) и записать туда токен:\n",
        "\n",
        "```\n",
        "TOKEN = \"ваш_токен_тут\"\n",
        "```\n",
        "\n",
        "Это нужно для того, чтобы не выкладывать в репозиторий свои логины, пароли и токены доступа. Чтобы ничего не стирать перед выкладыванием в репозиторий, лучше всего выносить секретные данные в отдельный файл и сделать так, чтобы этот файл игнорировался гитом:\n",
        "\n",
        "* создать в той же папке файл `.gitignore`,\n",
        "* и написать в этом файле `conf.py`,\n",
        "* после этого файл будет у вас на компьютере, но никогда не запушится в репозиторий (подробнее [здесь](https://git-scm.com/docs/gitignore)).\n",
        "* Проверьте перед пушем, что он точно не загрузится в удалённый репозиторий с помощью команды `git status`.\n",
        "\n",
        "В основной же файл с программой этот файл можно будет просто импортировать строчкой `import conf`. Тогда переменная `TOKEN` будет доступна внутри основной программы как `conf.TOKEN`."
      ]
    },
    {
      "cell_type": "markdown",
      "metadata": {
        "id": "8SfqaIhy1Tjm"
      },
      "source": [
        "Установим модуль для работы с телеграмом"
      ]
    },
    {
      "cell_type": "code",
      "metadata": {
        "id": "KHCUYwc1VpxP"
      },
      "source": [
        "!pip install pyTelegramBotAPI --q"
      ],
      "execution_count": 2,
      "outputs": []
    },
    {
      "cell_type": "markdown",
      "metadata": {
        "id": "QtDEG78y1dBl"
      },
      "source": [
        "Теперь мы можем писать бота, например, в `my_bot.py`. **Напишем бот, который считает длину сообщения.**\n",
        "\n"
      ]
    },
    {
      "cell_type": "code",
      "metadata": {
        "id": "9IMdNFoZz3IU"
      },
      "source": [
        "import telebot  # импортируем модуль pyTelegramBotAPI\n",
        "import conf  # импортируем наш секретный токен\n",
        "\n",
        "bot = telebot.TeleBot(conf.TOKEN)  # создаем экземпляр бота"
      ],
      "execution_count": 4,
      "outputs": []
    },
    {
      "cell_type": "markdown",
      "metadata": {
        "id": "sEhrT16615U-"
      },
      "source": [
        "Теперь напишем обработчики сообщений (message handlers), которые будут реагировать на сообщения."
      ]
    },
    {
      "cell_type": "code",
      "metadata": {
        "id": "QWxaybdvn--D"
      },
      "source": [
        "# этот обработчик запускает функцию send_welcome,\n",
        "# когда пользователь отправляет команды /start или /help\n",
        "@bot.message_handler(commands=['start', 'help'])\n",
        "def send_welcome(message):\n",
        "    bot.send_message(\n",
        "        message.chat.id,\n",
        "        'Здравствуйте! Это бот, который считает длину вашего сообщения.'\n",
        "        )\n",
        "\n",
        "\n",
        "# этот обработчик реагирует на любое сообщение\n",
        "@bot.message_handler(func=lambda m: True)\n",
        "def send_len(message):\n",
        "    bot.send_message(\n",
        "        message.chat.id,\n",
        "        f'В вашем сообщении {len(message.text)} символов.'\n",
        "        )"
      ],
      "execution_count": 6,
      "outputs": []
    },
    {
      "cell_type": "markdown",
      "metadata": {
        "id": "2I0RtYCM1_Xs"
      },
      "source": [
        "Внутри декоратора `@bot.message_handler(...)` могут находиться фильтры, которые описывают, на какие сообщения реагирует данная функция. Фильтры пишутся так: сначала название фильтра, затем через знак равно его значение. Бывают фильтры четырех типов:\n",
        "\n",
        "* `content_types`, значением является массив строк, задающих тип контента $-$ текст, аудио, файл, стикер и т.д. (по умолчанию `['text']`)\n",
        "* `regexp`, значением является регулярное выражение (строка)\n",
        "* `commands`, значением является массив строк, задающих команды без знака `/`\n",
        "* `func`, значением является какая-то функция\n",
        "\n",
        "Что бывает, когда боту приходит сообщение, которое подходит под несколько наших фильтров, т.е. несколько разных функций? В этом случае запускается функция, которая в вашем коде написана раньше других."
      ]
    },
    {
      "cell_type": "markdown",
      "metadata": {
        "id": "N6WsxEkq2r9N"
      },
      "source": [
        "Теперь просим бота бесконечно опрашивать сервера телеграма на предмет новых сообщений (как-то так: \"Мне что-нибудь пришло? А сейчас пришло что-нибудь? А сейчас? Пришло? Пришло? А сейчас написали что-нибудь мне?\"). Параметр `none_stop=True` говорит, что бот должен стараться не прекращать работу при возникновении каких-либо ошибок."
      ]
    },
    {
      "cell_type": "code",
      "metadata": {
        "id": "5ygR2wyJwRHG"
      },
      "source": [
        "if __name__ == '__main__':\n",
        "    bot.polling(none_stop=True)"
      ],
      "execution_count": 7,
      "outputs": []
    },
    {
      "cell_type": "markdown",
      "metadata": {
        "id": "ek1AcwP6wFPK"
      },
      "source": [
        "Итак, у нас получился примерно вот такой бот:"
      ]
    },
    {
      "cell_type": "markdown",
      "metadata": {
        "id": "tvUg8DFsxhxj"
      },
      "source": [
        "![chatexample](https://github.com/KatiaKozlova/files/blob/main/57-10/tg-bot/tg_bot_1.png?raw=true)"
      ]
    },
    {
      "cell_type": "markdown",
      "metadata": {
        "id": "SplFRZ9jHY0o"
      },
      "source": [
        "Немного усложним наш бот. Например, разрешим пользователю на команду `/dog` получать картинку с рандомной собакой. Почему нет?"
      ]
    },
    {
      "cell_type": "code",
      "metadata": {
        "id": "zDAPmmA-IbeS"
      },
      "source": [
        "@bot.message_handler(commands=['dog'])\n",
        "def bop(message):\n",
        "    contents = requests.get('https://random.dog/woof.json').json()\n",
        "    url = contents['url']\n",
        "    bot.send_photo(chat_id=message.chat.id, photo=url)"
      ],
      "execution_count": null,
      "outputs": []
    },
    {
      "cell_type": "markdown",
      "metadata": {
        "id": "c0rqto83lZ5j"
      },
      "source": [
        "Разберемся поподробнее с `bot.polling(none_stop=True)`\n",
        "\n",
        "Вообще вариантов получения ботом сообщений от Телеграма два:\n",
        "\n",
        "1. опрос (буквальный перевод слова *polling*) сервера Телеграма на наличие сообщений для бота.\n",
        "2. “почтовый ящик” с IP-адресом (*webhook* можно перевести как веб-ловушка), на который приходят сообщения от сервера Телеграма.\n",
        "\n",
        "> Самая простая аналогия с реальной почтой. Пусть почта (почтовое отделение) $-$ это сервер Телеграма, а вы $-$ это ваш бот. Тогда, в первом случае (*polling*) вам приходится ходить на почту за корреспонденцией. И если хотите получать сообщения без задержек, то придется не ходить, а буквально бегать без передышек взад и вперед. Как понимаем, жить на почте в ожидании сообщений запрещено! Во втором случае вы сообщаете почтовому отделению свой домашний адрес и ждете корреспонденцию спокойно дома, попивая чай.\n",
        "\n",
        "См. разбор [тут](https://habr.com/ru/company/ods/blog/462141/).\n",
        "\n",
        "Пока используем *polling*, но это не оптимальное решение, так как если вы выложите ваше приложение на какой-нибудь веб-сервер и на сервере произойдет хоть какая-нибудь ошибка или дисконнект, бот перестанет работать.\n"
      ]
    },
    {
      "cell_type": "markdown",
      "metadata": {
        "id": "rJ0G8cx6bKNb"
      },
      "source": [
        "### Задание"
      ]
    },
    {
      "cell_type": "markdown",
      "source": [
        "Попробуйте написать бот-попугай, который на команды `/start` и `/help` представляется и описывает, что он делает; на любое текстовое сообщение присылает в ответ его же + картинку попугая."
      ],
      "metadata": {
        "id": "Q2SYI7O0cOk-"
      }
    },
    {
      "cell_type": "markdown",
      "metadata": {
        "id": "Km7Zs65IaJql"
      },
      "source": [
        "## Функционал"
      ]
    },
    {
      "cell_type": "markdown",
      "source": [
        "### Привязка данных к пользователю"
      ],
      "metadata": {
        "id": "451lfC3Naa5w"
      }
    },
    {
      "cell_type": "markdown",
      "metadata": {
        "id": "_FLioScqeIJd"
      },
      "source": [
        "Допустим, что мы хотим сделать бота, который запоминает фразу, а потом, по просьбе пользователя, напоминает ее ему. Чтобы решить эту задачу, нам понадобится где-то хранить последнее сообщение пользователя.\n",
        "\n",
        "Если мы будем использовать переменную, то сможем сохранить сообщение только одного пользователя. Например, Ваня попросил запомнить слово *linguist*. Мы положили эту строку в переменную `note`. Потом Василиса попросила запомнить слово *elephant*, и мы снова положили это в переменную `note`. Когда Ваня попросит нас напомнить его последнее сообщение, мы напишем ему *elephant* вместо *linguist*. Неуспех!\n",
        "\n",
        "Удобнее всего хранить все данные, которые привязаны к конкретному пользователю, в словаре. Ключем в этом словаре будет id пользователя, а значением $-$ произвольные данные.\n",
        "\n",
        "Допустим, что наш словарь называется `notes`. Теперь, когда Ваня (`id1076`) пришлет слово *linguist* мы положим его в `notes[1076]`, а слово *elephant* от Василисы (`id1402`) - в `notes[1402]`. Так как теперь мы используем разные переменные для хранения слова, сообщения от разных пользователей не будут путаться."
      ]
    },
    {
      "cell_type": "code",
      "metadata": {
        "id": "z3kYJgtugEtV"
      },
      "source": [
        "import telebot\n",
        "import conf\n",
        "\n",
        "bot = telebot.TeleBot(conf.TOKEN)\n",
        "\n",
        "#создаем словарь\n",
        "notes = {}\n",
        "\n",
        "@bot.message_handler(commands=['remind'])\n",
        "def remind(message):\n",
        "    user_id = message.chat.id\n",
        "    if user_id not in notes:\n",
        "        bot.send_message(user_id, \"Вы мне еще не писали.\")\n",
        "    else:\n",
        "        bot.send_message(user_id, notes[user_id])\n",
        "\n",
        "@bot.message_handler(content_types=['text'])\n",
        "def remember(message):\n",
        "    user_id = message.chat.id\n",
        "    notes[user_id] = message.text\n",
        "    bot.send_message(user_id, \"Я запомнил\")\n",
        "\n",
        "bot.polling(none_stop=True)"
      ],
      "execution_count": 8,
      "outputs": []
    },
    {
      "cell_type": "markdown",
      "source": [
        "#### Задание"
      ],
      "metadata": {
        "id": "OFI29JdBcRKs"
      }
    },
    {
      "cell_type": "markdown",
      "source": [
        "Перепешите код выше так, чтобы бот мог запоминать несколько слов от пользователя, но при просьбе напоминания возвращал ему самое первое в очереди.\n",
        "\n",
        "Реализуйте это при помощи дека ([`collections.deque`](https://docs.python.org/3/library/collections.html#deque-objects))."
      ],
      "metadata": {
        "id": "xrbls_AxcUDD"
      }
    },
    {
      "cell_type": "markdown",
      "source": [
        "### Кнопки"
      ],
      "metadata": {
        "id": "5djqXM9Jd-qP"
      }
    },
    {
      "cell_type": "markdown",
      "metadata": {
        "id": "mAlTKpsPkbKU"
      },
      "source": [
        "Как добавить несколько кнопок к сообщению и реагировать на их нажатия?"
      ]
    },
    {
      "cell_type": "code",
      "metadata": {
        "id": "grpXLwaWkn1N"
      },
      "source": [
        "import telebot\n",
        "from telebot import types\n",
        "\n",
        "import conf\n",
        "\n",
        "bot = telebot.TeleBot(conf.TOKEN)\n",
        "\n",
        "@bot.message_handler(commands=[\"start\"])\n",
        "def repeat_all_messages(message):\n",
        "    # создаем клавиатуру\n",
        "    keyboard = types.InlineKeyboardMarkup()\n",
        "\n",
        "    # добавляем на нее две кнопки\n",
        "    button1 = types.InlineKeyboardButton(\n",
        "        text=\"Кнопка 1\",\n",
        "        callback_data=\"button1\"\n",
        "        )\n",
        "    button2 = types.InlineKeyboardButton(\n",
        "        text=\"Кнопка 2\",\n",
        "        callback_data=\"button2\"\n",
        "        )\n",
        "    keyboard.add(button1)\n",
        "    keyboard.add(button2)\n",
        "\n",
        "    # отправляем сообщение пользователю\n",
        "    bot.send_message(\n",
        "        message.chat.id,\n",
        "        \"Нажмите кнопку!\",\n",
        "        reply_markup=keyboard\n",
        "        )\n",
        "\n",
        "# функция запустится, когда пользователь нажмет на кнопку\n",
        "@bot.callback_query_handler(func=lambda call: True)\n",
        "def callback_inline(call):\n",
        "    if call.message:\n",
        "        if call.data == \"button1\":\n",
        "            bot.send_message(\n",
        "                call.message.chat.id,\n",
        "                \"Вы нажали на первую кнопку.\"\n",
        "                )\n",
        "        if call.data == \"button2\":\n",
        "            bot.send_message(\n",
        "                call.message.chat.id,\n",
        "                \"Вы нажали на вторую кнопку.\"\n",
        "                )\n",
        "\n",
        "bot.polling(none_stop=True)"
      ],
      "execution_count": 10,
      "outputs": []
    },
    {
      "cell_type": "markdown",
      "metadata": {
        "id": "qlRTvLVy1fPg"
      },
      "source": [
        "Можно задать параметры клавиатуры, например, количество рядов кнопок, ширину рядов:\n",
        "\n",
        "```python\n",
        "markup = types.ReplyKeyboardMarkup(row_width=2) # по умолчанию 3\n",
        "itembtna = types.KeyboardButton('a')\n",
        "itembtnv = types.KeyboardButton('b')\n",
        "itembtnc = types.KeyboardButton('c')\n",
        "itembtnd = types.KeyboardButton('d')\n",
        "itembtne = types.KeyboardButton('e')\n",
        "\n",
        "markup.row(itembtna, itembtnv)\n",
        "markup.row(itembtnc, itembtnd, itembtne)\n",
        "\n",
        "tb.send_message(\n",
        "    chat_id,\n",
        "    \"Choose one letter:\",\n",
        "    reply_markup=markup\n",
        "    )\n",
        "```\n",
        "\n"
      ]
    },
    {
      "cell_type": "markdown",
      "metadata": {
        "id": "cwt7tyzt2HTl"
      },
      "source": [
        "Скрывает присланную клавиатуру:\n",
        "\n",
        "```python\n",
        "markup = types.ReplyKeyboardRemove()\n",
        "tb.send_message(\n",
        "    chat_id,\n",
        "    message,\n",
        "    reply_markup=markup\n",
        "    )\n",
        "```\n",
        "\n"
      ]
    },
    {
      "cell_type": "markdown",
      "metadata": {
        "id": "QpksaRT82U6u"
      },
      "source": [
        "Заставляет пользователя ответить на сообщение:\n",
        "```python\n",
        "markup = types.ForceReply()\n",
        "tb.send_message(\n",
        "    chat_id,\n",
        "    \"Send me another word:\",\n",
        "    reply_markup=markup\n",
        "    )\n",
        "```\n",
        "\n"
      ]
    },
    {
      "cell_type": "markdown",
      "metadata": {
        "id": "UQv5Ak_IL7OK"
      },
      "source": [
        "### Какие еще есть функции?"
      ]
    },
    {
      "cell_type": "code",
      "metadata": {
        "id": "Ux0AIRK9MHY4"
      },
      "source": [
        "# sendMessage\n",
        "tb.send_message(chat_id, text)\n",
        "\n",
        "# editMessageText\n",
        "tb.edit_message_text(new_text, chat_id, message_id)\n",
        "\n",
        "# forwardMessage\n",
        "tb.forward_message(to_chat_id, from_chat_id, message_id)\n",
        "\n",
        "# All send_xyz functions which can take a file as an argument,\n",
        "# can also take a file_id instead of a file.\n",
        "# sendPhoto\n",
        "photo = open('/tmp/photo.png', 'rb')\n",
        "tb.send_photo(chat_id, photo)\n",
        "tb.send_photo(chat_id, \"FILEID\")\n",
        "\n",
        "# sendAudio\n",
        "audio = open('/tmp/audio.mp3', 'rb')\n",
        "tb.send_audio(chat_id, audio)\n",
        "tb.send_audio(chat_id, \"FILEID\")\n",
        "\n",
        "## sendAudio with duration, performer and title.\n",
        "tb.send_audio(CHAT_ID, file_data, 1, 'eternnoir', 'pyTelegram')\n",
        "\n",
        "# sendVoice\n",
        "voice = open('/tmp/voice.ogg', 'rb')\n",
        "tb.send_voice(chat_id, voice)\n",
        "tb.send_voice(chat_id, \"FILEID\")\n",
        "\n",
        "# sendDocument\n",
        "doc = open('/tmp/file.txt', 'rb')\n",
        "tb.send_document(chat_id, doc)\n",
        "tb.send_document(chat_id, \"FILEID\")\n",
        "\n",
        "# sendSticker\n",
        "sti = open('/tmp/sti.webp', 'rb')\n",
        "tb.send_sticker(chat_id, sti)\n",
        "tb.send_sticker(chat_id, \"FILEID\")\n",
        "\n",
        "# sendVideo\n",
        "video = open('/tmp/video.mp4', 'rb')\n",
        "tb.send_video(chat_id, video)\n",
        "tb.send_video(chat_id, \"FILEID\")\n",
        "\n",
        "# sendVideoNote\n",
        "videonote = open('/tmp/videonote.mp4', 'rb')\n",
        "tb.send_video_note(chat_id, videonote)\n",
        "tb.send_video_note(chat_id, \"FILEID\")\n",
        "\n",
        "# sendLocation\n",
        "tb.send_location(chat_id, lat, lon)\n",
        "\n",
        "# sendChatAction\n",
        "# action_string can be one of the following strings:\n",
        "# 'typing', 'upload_photo', 'record_video', 'upload_video',\n",
        "# 'record_audio', 'upload_audio', 'upload_document' or 'find_location'.\n",
        "tb.send_chat_action(chat_id, action_string)\n",
        "\n",
        "# getFile\n",
        "# Downloading a file is straightforward\n",
        "# Returns a File object\n",
        "import requests\n",
        "file_info = tb.get_file(file_id)\n",
        "\n",
        "file = requests.get(f'https://api.telegram.org/file/bot{conf.TOKEN}/{file_info.file_path}')"
      ],
      "execution_count": null,
      "outputs": []
    },
    {
      "cell_type": "markdown",
      "source": [
        "### Как отправить и как скачать стикер?"
      ],
      "metadata": {
        "id": "BrBM1_czeelI"
      }
    },
    {
      "cell_type": "markdown",
      "metadata": {
        "id": "7GGnfCsnvp1E"
      },
      "source": [
        "Сначала нужно узнать ID стикера. Например, можно отправить любой стикер боту [`@idstickerbot`](https://telegram.me/idstickerbot), и он вернёт Вам ID."
      ]
    },
    {
      "cell_type": "code",
      "metadata": {
        "id": "PM3sWFOfv5Wg"
      },
      "source": [
        "@bot.message_handler(content_types=[\"text\"])\n",
        "def text(message):\n",
        "    if message.text == 'sticker':\n",
        "        bot.send_sticker(\n",
        "            message.chat.id,\n",
        "            'CAACAgIAAxkBAAENqm5nmwABzztusHt8t3VbtayZvkilLjMAAkcUAALrDclLB7_h-b06JEg2BA'\n",
        "            )"
      ],
      "execution_count": null,
      "outputs": []
    },
    {
      "cell_type": "markdown",
      "metadata": {
        "id": "KA2vFR66wLcn"
      },
      "source": [
        "Если пользователь пришлёт слово `sticker`, то мы отправим ему стикер. Используем метод `send_sticker`.\n",
        "\n",
        "А как сохранить на комп присланный стикер?"
      ]
    },
    {
      "cell_type": "code",
      "metadata": {
        "id": "kt0DemBew-S5"
      },
      "source": [
        "@bot.message_handler(content_types=[\"sticker\"])\n",
        "def handle_docs_audio(message):\n",
        "    # получаем ID стикера\n",
        "    sticker_id = message.sticker.file_id\n",
        "    # получаем путь, где лежит файл стикера на сервере телеграма\n",
        "    file_info = bot.get_file(sticker_id)\n",
        "    # скачиваем файл\n",
        "    urllib.request.urlretrieve(\n",
        "        f'http://api.telegram.org/file/bot{conf.TOKEN}/{file_info.file_path}',\n",
        "        file_info.file_path\n",
        "        )"
      ],
      "execution_count": null,
      "outputs": []
    },
    {
      "cell_type": "markdown",
      "metadata": {
        "id": "MRfzSwJVyeM4"
      },
      "source": [
        "Простой бот, который отвечает текстом или стикером, в зависимости от послания пользователя:"
      ]
    },
    {
      "cell_type": "code",
      "metadata": {
        "id": "JF3JJ1QZylrJ"
      },
      "source": [
        "import telebot\n",
        "import conf\n",
        "\n",
        "bot = telebot.TeleBot(conf.TOKEN)\n",
        "\n",
        "@bot.message_handler(commands=['start'])\n",
        "def start_message(message):\n",
        "    bot.send_message(message.chat.id, 'Привет, ты написал мне, ура!')\n",
        "\n",
        "@bot.message_handler(content_types=['text'])\n",
        "def send_text(message):\n",
        "    if message.text.lower() == 'привет':\n",
        "        bot.send_message(message.chat.id, 'Привет!')\n",
        "    elif message.text.lower() == 'пока':\n",
        "        bot.send_message(message.chat.id, 'Пока!')\n",
        "    elif message.text.lower() == 'люблю программировать':\n",
        "        bot.send_sticker(\n",
        "            message.chat.id,\n",
        "            'CAACAgIAAxkBAAENqm5nmwABzztusHt8t3VbtayZvkilLjMAAkcUAALrDclLB7_h-b06JEg2BA'\n",
        "            )\n",
        "\n",
        "@bot.message_handler(content_types=['sticker'])\n",
        "def sticker_id(message):\n",
        "    print(message)\n",
        "\n",
        "bot.polling()"
      ],
      "execution_count": 11,
      "outputs": []
    },
    {
      "cell_type": "markdown",
      "source": [
        "### Как отправить длинное текстовое сообщение?"
      ],
      "metadata": {
        "id": "PhZUphzDqHqb"
      }
    },
    {
      "cell_type": "markdown",
      "metadata": {
        "id": "c9Ag3dFNgxZK"
      },
      "source": [
        "Если Вы хотите отправить сообщение, где больше 5000 символов, его придется разбить"
      ]
    },
    {
      "cell_type": "code",
      "metadata": {
        "id": "gNYsPI0rg806"
      },
      "source": [
        "from telebot import util\n",
        "\n",
        "large_text = open(\"large_text.txt\", \"rb\").read()\n",
        "\n",
        "# разобьем текст на 3000 символов\n",
        "# split_string возвращает список разбитых кусочков текста\n",
        "splitted_text = util.split_string(large_text, 3000)\n",
        "for text in splitted_text:\n",
        "\tbot.send_message(message.chat.id, text)"
      ],
      "execution_count": null,
      "outputs": []
    },
    {
      "cell_type": "markdown",
      "source": [
        "### Как обратиться к пользователю по имени?"
      ],
      "metadata": {
        "id": "c9BXAF-JqEvR"
      }
    },
    {
      "cell_type": "markdown",
      "metadata": {
        "id": "9X1TGw3XpExu"
      },
      "source": [
        "Объект `message` содержит ин-фу о пользователе; чтобы получить имя, нужно использовать `message.from_user.first_name`"
      ]
    },
    {
      "cell_type": "code",
      "metadata": {
        "id": "cPaGQqHHpODs"
      },
      "source": [
        "import telebot\n",
        "import conf\n",
        "\n",
        "bot = telebot.TeleBot(conf.TOKEN)\n",
        "\n",
        "@bot.message_handler(commands=['start'])\n",
        "def send_welcome(message):\n",
        "    bot.reply_to(message, f\"Привет, {message.from_user.first_name}!\")\n",
        "\n",
        "bot.polling()"
      ],
      "execution_count": 12,
      "outputs": []
    },
    {
      "cell_type": "markdown",
      "metadata": {
        "id": "SFJBfmXIqAKi"
      },
      "source": [
        "Чтобы узнать больше опций, можно просто распечатать:"
      ]
    },
    {
      "cell_type": "code",
      "metadata": {
        "id": "OURXO6eCqIur"
      },
      "source": [
        "def send_welcome(message):\n",
        "    print(message.from_user)"
      ],
      "execution_count": null,
      "outputs": []
    },
    {
      "cell_type": "markdown",
      "source": [
        "### Ещё чуть-чуть про `polling`"
      ],
      "metadata": {
        "id": "J6IFVIoiq4nC"
      }
    },
    {
      "cell_type": "markdown",
      "metadata": {
        "id": "Gi5TD11ZnTJU"
      },
      "source": [
        "- `none_stop`: boolean (`default=False`) $-$ не прекращай запрашивать, пока не получишь от серверов Телеграма ошибку.\n",
        "- `interval`: boolean (`default=False`) $-$ интервал между запросами, модификация приводит к замедлению реакции бота.\n",
        "- `timeout`: integer (`default=20`) $-$ промежутки в секундах.\n"
      ]
    },
    {
      "cell_type": "code",
      "metadata": {
        "id": "A5Ctr6pEnbF4"
      },
      "source": [
        "bot.polling(none_stop=False, interval=False, timeout=20)"
      ],
      "execution_count": 13,
      "outputs": []
    },
    {
      "cell_type": "markdown",
      "source": [
        "# Марковские цепи"
      ],
      "metadata": {
        "id": "PvKXi_gyr85r"
      }
    },
    {
      "cell_type": "markdown",
      "metadata": {
        "id": "otb3g-NFxqna"
      },
      "source": [
        "> **Цепь Маркова** *(англ. Markov chain)* — последовательность случайных событий с конечным или счётным числом исходов, характеризующаяся тем, что при фиксированном настоящем будущее независимо от прошлого. Процесс в каждый момент времени находится в одном из состояний.\n",
        "\n",
        "[Вот хороший тьюториал](https://tproger.ru/translations/markov-chains/), где подробно (с картинками!) описан процесс работы этого алгоритма и дан пример написания генератора текста на основе цепи Маркова с нуля. В этом полезно разобраться на досуге, хотя все уже сделано за нас. Есть несколько питоновских библиотек для генерации текста с помощью марковских цепей — например, [`markovify`](https://github.com/jsvine/markovify)."
      ]
    },
    {
      "cell_type": "code",
      "metadata": {
        "id": "W3xmcP0Lxqnb"
      },
      "source": [
        "!pip install markovify --q"
      ],
      "execution_count": null,
      "outputs": []
    },
    {
      "cell_type": "code",
      "source": [
        "!wget https://raw.githubusercontent.com/KatiaKozlova/files/refs/heads/main/57-10/tg-bot/citations.txt"
      ],
      "metadata": {
        "colab": {
          "base_uri": "https://localhost:8080/"
        },
        "id": "4c3ERFxWsaCg",
        "outputId": "ef66be87-41bc-42cc-c3bc-97130bf22154"
      },
      "execution_count": 25,
      "outputs": [
        {
          "output_type": "stream",
          "name": "stdout",
          "text": [
            "--2025-01-30 05:37:03--  https://raw.githubusercontent.com/KatiaKozlova/files/refs/heads/main/57-10/tg-bot/citations.txt\n",
            "Resolving raw.githubusercontent.com (raw.githubusercontent.com)... 185.199.108.133, 185.199.109.133, 185.199.110.133, ...\n",
            "Connecting to raw.githubusercontent.com (raw.githubusercontent.com)|185.199.108.133|:443... connected.\n",
            "HTTP request sent, awaiting response... 200 OK\n",
            "Length: 46900 (46K) [text/plain]\n",
            "Saving to: ‘citations.txt’\n",
            "\n",
            "\rcitations.txt         0%[                    ]       0  --.-KB/s               \rcitations.txt       100%[===================>]  45.80K  --.-KB/s    in 0.01s   \n",
            "\n",
            "2025-01-30 05:37:03 (3.88 MB/s) - ‘citations.txt’ saved [46900/46900]\n",
            "\n"
          ]
        }
      ]
    },
    {
      "cell_type": "code",
      "metadata": {
        "id": "H4sh54MGxqnc"
      },
      "source": [
        "with open('citations.txt', encoding='utf-8') as citations_file:\n",
        "    train = citations_file.read()"
      ],
      "execution_count": 17,
      "outputs": []
    },
    {
      "cell_type": "code",
      "metadata": {
        "id": "1Lb0aRmCxqnk",
        "outputId": "c6746d02-2cdc-43a3-f224-54a7416480b1",
        "colab": {
          "base_uri": "https://localhost:8080/",
          "height": 72
        }
      },
      "source": [
        "train[:200]"
      ],
      "execution_count": 18,
      "outputs": [
        {
          "output_type": "execute_result",
          "data": {
            "text/plain": [
              "'“Dogs have Owners, Cats have Staff.”\\n“I do not fear computers. I fear lack of them.” – Isaac Asimov\\n“A computer once beat me at chess, but it was no match for me at kick boxing.” – Emo Philips\\n“Comput'"
            ],
            "application/vnd.google.colaboratory.intrinsic+json": {
              "type": "string"
            }
          },
          "metadata": {},
          "execution_count": 18
        }
      ]
    },
    {
      "cell_type": "code",
      "metadata": {
        "id": "J_VUUmrtxqnm"
      },
      "source": [
        "import markovify\n",
        "\n",
        "m = markovify.Text(train)"
      ],
      "execution_count": 19,
      "outputs": []
    },
    {
      "cell_type": "code",
      "metadata": {
        "id": "JDYgA9G0xqnn",
        "outputId": "9f8b0584-3a24-425a-89e9-c4d3dfd7d061",
        "colab": {
          "base_uri": "https://localhost:8080/"
        }
      },
      "source": [
        "for i in range(5):\n",
        "    print(m.make_sentence())"
      ],
      "execution_count": 22,
      "outputs": [
        {
          "output_type": "stream",
          "name": "stdout",
          "text": [
            "Therefore, if you write the code in the way of your work.\n",
            "~Albert W. Atwood When solving problems, dig at the roots instead of how little he can give for a dollar, instead of just hacking at the roots instead of how little he can give for a dollar, is bound to succeed.\n",
            "~Bruce Hamilton If you don't have time to do it right you must give up before you get it right.\n",
            "~Abraham Lincoln It is more than probable that the only form of life we have never done before.\n",
            "~Peter F. Drucker Continuous improvement is all about.\n"
          ]
        }
      ]
    },
    {
      "cell_type": "code",
      "metadata": {
        "id": "pj18QQ2Ixqno",
        "outputId": "d2af39e3-e738-44e6-bd16-d746a70b398d",
        "colab": {
          "base_uri": "https://localhost:8080/"
        }
      },
      "source": [
        "for i in range(5):\n",
        "    print(m.make_short_sentence(max_chars=100))"
      ],
      "execution_count": 23,
      "outputs": [
        {
          "output_type": "stream",
          "name": "stdout",
          "text": [
            "~Al Diamond One half of knowing what you must give up before you get it.\n",
            "~Peter F. Drucker ~ The world we have created so far is purely destructive.\n",
            "~Author Unknown It is the specific instrument of entrepreneurship.\n",
            "~Ken Stork Everything can be a lean process.\n",
            "It is more than probable that the parts you are reassembling were disassembled by you.\n"
          ]
        }
      ]
    },
    {
      "cell_type": "markdown",
      "source": [
        "#### Задание"
      ],
      "metadata": {
        "id": "375MfRUpqvcF"
      }
    },
    {
      "cell_type": "markdown",
      "source": [
        "Напишите простого бота, который присылет пользователю сгенерированную с помощью марковской цепи ([`markovify`](https://github.com/jsvine/markovify)) фразу. Пользователь может ввести желаемую длину фразы, а если он этого не сделал, то шлем фразу произвольной длины. Обучить марковскую цепь можно на чем угодно. Чем больше будет объем обучающих данных, тем интереснее будут результаты! А чтобы было не скучно, можно смешать несколько разных по тематике и стилю текстов."
      ],
      "metadata": {
        "id": "O3jgas9qqyEM"
      }
    }
  ]
}