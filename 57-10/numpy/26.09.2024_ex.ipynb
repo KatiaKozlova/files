{
 "cells": [
  {
   "cell_type": "markdown",
   "id": "26678a39-b559-4731-a7b2-1934ae8c4589",
   "metadata": {},
   "source": [
    "### Задания для самостоятельного решения"
   ]
  },
  {
   "cell_type": "markdown",
   "id": "ea268775-dcac-4071-8e60-97b1d53fd906",
   "metadata": {},
   "source": [
    "1. Развернуть одномерный массив (сделать так, чтобы его элементы шли в обратном порядке)."
   ]
  },
  {
   "cell_type": "code",
   "execution_count": null,
   "id": "a3454b6d-5bf9-4284-961f-41e19391225b",
   "metadata": {},
   "outputs": [],
   "source": []
  },
  {
   "cell_type": "markdown",
   "id": "41c0ba5d-fd45-49a2-9a46-84fd62ec111b",
   "metadata": {},
   "source": [
    "2. Найти максимальный нечетный элемент в массиве."
   ]
  },
  {
   "cell_type": "code",
   "execution_count": null,
   "id": "8661db35-e699-42b2-9c93-67dfddd80ff6",
   "metadata": {},
   "outputs": [],
   "source": []
  },
  {
   "cell_type": "markdown",
   "id": "e6ae48bb-a70d-4120-a5e0-6ec38d366e16",
   "metadata": {},
   "source": [
    "3. Замените все нечетные элементы массива на ваше любимое число."
   ]
  },
  {
   "cell_type": "code",
   "execution_count": null,
   "id": "1390e0ce-545d-49d3-bc51-17f19809d2c8",
   "metadata": {},
   "outputs": [],
   "source": []
  },
  {
   "cell_type": "markdown",
   "id": "0e5ffb67-8f54-4701-a4ca-d8b6a0e55574",
   "metadata": {},
   "source": [
    "4. Создайте массив первых n нечетных чисел, записанных в порядке убывания. Например, если `n=5`, то ответом будет `array([9, 7, 5, 3, 1])`. <br>*Функции, которые могут пригодиться при решении: `.arange()`*"
   ]
  },
  {
   "cell_type": "code",
   "execution_count": null,
   "id": "6b6efc89-0536-41f2-bf22-c9593a1cb642",
   "metadata": {},
   "outputs": [],
   "source": []
  },
  {
   "cell_type": "markdown",
   "id": "8ebeb265-2618-4865-ae71-69278afdd493",
   "metadata": {},
   "source": [
    "5. Вычислите самое близкое и самое дальнее числа к данному в рассматриваемом массиве чисел. Например, если на вход поступают массив `array([0, 1, 2, 3, 4])` и число `1.33`, то ответом будет `(1, 4)`. <br>_Функции, которые могут пригодиться при решении: `.abs()`, `.argmax()`, `.argmin()`_"
   ]
  },
  {
   "cell_type": "code",
   "execution_count": null,
   "id": "8c1a3372-2dd3-4b2a-9a39-991e65eb5762",
   "metadata": {},
   "outputs": [],
   "source": []
  },
  {
   "cell_type": "markdown",
   "id": "83f35d24-9807-482d-8aa0-1b0f285b9a76",
   "metadata": {},
   "source": [
    "6. Напишите функцию, возвращающую округленную взвешенную сумму оценок по данным оценкам и весам, как это делается в Вышке. Например, вес экзамена равен 0.3, вес домашек - 0.42, вес контрольной - 0.14, вес самостоятельных - 0.14. Например, если за экзамен у вас 7, за домашки 10, за контрольную 8, а за самостоятельные 6, то вы получите отличную оценку 8!"
   ]
  },
  {
   "cell_type": "code",
   "execution_count": null,
   "id": "d94917a7-ce98-4610-a205-60eef6fc452f",
   "metadata": {},
   "outputs": [],
   "source": []
  },
  {
   "cell_type": "markdown",
   "id": "1f182df3-d264-45e6-92e1-d656bbcae7f6",
   "metadata": {},
   "source": [
    "7. Напишите функцию, меняющую все каждое третье (начиная с 0) значение массива целых чисел на заданное число. Например, если на вход поступает массив `array([3, 5, 1, 0, -3, 22, 213436])` и число `-111`, то на выходе должен получиться массив `array([-111, 5, 1, -111, -3, 22, -111])`."
   ]
  },
  {
   "cell_type": "code",
   "execution_count": null,
   "id": "f80fa03e-a2ba-4e88-b31a-6158f3adab8e",
   "metadata": {},
   "outputs": [],
   "source": []
  },
  {
   "cell_type": "markdown",
   "id": "951ddba4-e581-465d-97f7-e8f08b8ebb20",
   "metadata": {},
   "source": [
    "8. Напишите функцию, выдающую индексы \"близких\" элементов заданных массивов, а именно тех пар элементов, чей модуль разницы не превосходит заданного значения. Например, если на вход поступают массив `array([1.5, 0.5, 2, -4.1, -3, 6, -1])`, массив `array([1.2, 0.5, 1, -4, 3, 0, -1.2])` и число `0.5`, то на выходе должен получиться массив `array([0, 1, 3, 6])`.<br>*Не `tuple`, а одномерный массив типа `numpy.ndarray`!*"
   ]
  },
  {
   "cell_type": "code",
   "execution_count": null,
   "id": "a0858509-dd0e-40ab-b2f3-b32c536b4c54",
   "metadata": {},
   "outputs": [],
   "source": []
  },
  {
   "cell_type": "markdown",
   "id": "96cc5ae5-e73b-4f1c-b71a-6e2d41168539",
   "metadata": {},
   "source": [
    "9. Напишите функцию, которая составляет блочную матрицу из четырех блоков, где каждый блок - это заданная матрица. Например, если на вход поступает матрица:\n",
    "$$\n",
    "\\begin{pmatrix}\n",
    "0 & 1 & 2\\\\\n",
    "3 & 4 & 5\\\\\n",
    "\\end{pmatrix}\n",
    "$$\n",
    "то ответом будет матрица:\n",
    "$$\n",
    "\\begin{pmatrix}\n",
    "0 & 1 & 2 & 0 & 1 & 2\\\\\n",
    "3 & 4 & 5 & 3 & 4 & 5\\\\\n",
    "0 & 1 & 2 & 0 & 1 & 2\\\\\n",
    "3 & 4 & 5 & 3 & 4 & 5\\\\\n",
    "\\end{pmatrix}\n",
    "$$"
   ]
  },
  {
   "cell_type": "code",
   "execution_count": null,
   "id": "1b003de9-2bc9-416a-b8be-b2989c7049bc",
   "metadata": {},
   "outputs": [],
   "source": []
  },
  {
   "cell_type": "markdown",
   "id": "a2fac5f9-70da-4625-9886-d223b662ccc3",
   "metadata": {},
   "source": [
    "10. Напишите функцию, создающую прямоугольную матрицу из m одинаковых строк, заполненных последовательными натуральными числами от a до b включительно в возрастающем порядке. Например, если m = 5, a = 3, b = 10, то на выходе будет матрица:\r\n",
    " $$\n",
    "\\begin{pmatrix}\n",
    "3 & 4 & 5 & 6 & 7 & 8 & 8 & 10\\\\\n",
    "3 & 4 & 5 & 6 & 7 & 8 & 8 & 10\\\\\n",
    "3 & 4 & 5 & 6 & 7 & 8 & 8 & 10\\\\\n",
    "3 & 4 & 5 & 6 & 7 & 8 & 8 & 10\\\\\n",
    "3 & 4 & 5 & 6 & 7 & 8 & 8 & 10\\\\\n",
    "\\end{pmatrix}\n",
    "$$\r\n"
   ]
  },
  {
   "cell_type": "code",
   "execution_count": null,
   "id": "8797e6ee-5afc-44a4-abc2-013488c71847",
   "metadata": {},
   "outputs": [],
   "source": []
  },
  {
   "cell_type": "markdown",
   "id": "feb30b52-6155-4785-b2a2-a9ecd8bfdd52",
   "metadata": {},
   "source": [
    "11. Напишите функцию, вычисляющую косинусную близость двух векторов. Например, если на вход поступают вектора `array([-2, 1, 0, -5, 4, 3, -3])` и `array([0, 2, -2, 10, 6, 0, 0])`, ответом будет `-0.25`. Формула косинусной близости:\n",
    "$$ similarity = \\cos(\\theta) = \\frac{A \\times B}{\\| A \\| \\times \\| B \\|} = \\frac{\\sum_{i=1}^{n} A_i \\times B_i}{\\sqrt{\\sum_{i=1}^{n} A_i^2} \\times \\sqrt{\\sum_{i=1}^{n} B_i^2}} $$"
   ]
  },
  {
   "cell_type": "code",
   "execution_count": null,
   "id": "ba75ca94-2bd0-4646-862a-fda46d8f94e2",
   "metadata": {},
   "outputs": [],
   "source": []
  }
 ],
 "metadata": {
  "kernelspec": {
   "display_name": "Python 3 (ipykernel)",
   "language": "python",
   "name": "python3"
  },
  "language_info": {
   "codemirror_mode": {
    "name": "ipython",
    "version": 3
   },
   "file_extension": ".py",
   "mimetype": "text/x-python",
   "name": "python",
   "nbconvert_exporter": "python",
   "pygments_lexer": "ipython3",
   "version": "3.11.5"
  }
 },
 "nbformat": 4,
 "nbformat_minor": 5
}
