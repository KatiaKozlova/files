{
 "cells": [
  {
   "cell_type": "markdown",
   "id": "495d9678-10e8-4f1d-aa98-df882d167b2a",
   "metadata": {},
   "source": [
    "## Задачи\n",
    "\n",
    "Для каждой из **задач 1-5** приведите 2 реализации: \n",
    "- без использования `numpy`,\n",
    "- полностью векторизованная(**без использования циклов / `map` / list comprehension**).\n",
    "\n",
    "Для каждой задачи сравните скорость работы невекторизованной и векторизованной реализации. Код генерации данных разных размеров и функция для замера времени работы функций уже написаны. Сделайте выводы о времени работы функций."
   ]
  },
  {
   "cell_type": "code",
   "execution_count": 74,
   "id": "f7dcadce-e121-4410-aba5-aad15d78c2a7",
   "metadata": {},
   "outputs": [],
   "source": [
    "import time\n",
    "import numpy as np"
   ]
  },
  {
   "cell_type": "code",
   "execution_count": 80,
   "id": "cb95a007-2b95-489f-82fc-e25d1de0f859",
   "metadata": {},
   "outputs": [],
   "source": [
    "# генерация данных\n",
    "\n",
    "sum_non_neg_diag_data = []\n",
    "for n in [10, 100, 1000, 10000]:\n",
    "    X = np.random.randint(0, 3, (n, n))\n",
    "    sum_non_neg_diag_data += [X]\n",
    "\n",
    "are_multisets_equal_data = []\n",
    "for n in [10, 100, 1000, 10000]:\n",
    "    x = np.random.randint(0, 2, n)\n",
    "    y = np.random.randint(0, 2, n)\n",
    "    are_multisets_equal_data += [(x, y)]\n",
    "\n",
    "max_prod_mod_3_data = []\n",
    "for n in [10, 100, 1000, 10000]:\n",
    "    x = np.random.randint(1, 100, n)\n",
    "    max_prod_mod_3_data += [x]\n",
    "\n",
    "convert_image_data = []\n",
    "for n in [10, 100, 1000]:\n",
    "    image = np.random.random((n, n, 10))\n",
    "    weights = np.random.random(10)\n",
    "    convert_image_data += [(image, weights)]\n",
    "\n",
    "rle_scalar_data = []\n",
    "for n in [10, 100, 1000, 10000]:\n",
    "    x = np.random.randint(1, 3, (n, 2))\n",
    "    y = np.random.randint(1, 3, (n, 2))\n",
    "    shapes = np.random.randint(1, 3, n)\n",
    "    x[:, 1] = shapes\n",
    "    y[:, 1] = shapes\n",
    "\n",
    "    rle_scalar_data += [(x, y)]\n",
    "\n",
    "cosine_distance_data = []\n",
    "for n in [10, 100]:\n",
    "    X = np.random.random(n)\n",
    "    Y = np.random.random(n)\n",
    "    cosine_distance_data += [(X, Y)]"
   ]
  },
  {
   "cell_type": "code",
   "execution_count": 78,
   "id": "989ade5b-e658-4d50-940f-f5e3ac4f5012",
   "metadata": {},
   "outputs": [],
   "source": [
    "# функция для подсчета времени работы\n",
    "\n",
    "def count_time(func, *data):\n",
    "    tick = time.perf_counter()\n",
    "    func(*data)\n",
    "    return time.perf_counter() - tick"
   ]
  },
  {
   "cell_type": "code",
   "execution_count": 84,
   "id": "8f539537-ad32-4432-9ac7-e28a2ab31bcf",
   "metadata": {},
   "outputs": [],
   "source": [
    "# Пример на задаче 1\n",
    "\n",
    "def func_sum_non_neg_diag(vec_X):\n",
    "    # your code here\n",
    "    return ...\n",
    "    \n",
    "def func_vectorised_sum_non_neg_diag(vec_X):\n",
    "    # your code here\n",
    "    return ...\n",
    "\n",
    "sum_non_neg_diag_time = []\n",
    "sum_non_neg_diag_vectorised_time = []\n",
    "\n",
    "for X in sum_non_neg_diag_data:\n",
    "    sum_non_neg_diag_time += [count_time(func_sum_non_neg_diag, X.tolist())]\n",
    "    sum_non_neg_diag_vectorised_time += [count_time(func_vectorised_sum_non_neg_diag, X)]"
   ]
  },
  {
   "cell_type": "markdown",
   "id": "4cfb2d35-4618-4439-83ff-95c8a94e0250",
   "metadata": {},
   "source": [
    "### __Задача 1__\n",
    "\n",
    "Посчитать  сумму неотрицательных элементов на диагонали прямоугольной матрицы X. Если неотрицательных элементов на диагонали нет, то вернуть -1.\n",
    "\n",
    "  **Пример:**\n",
    "```python\n",
    ">>> X = np.array([[-1, 0, 1], [2, 0, 2], [3, 0, 3], [4, 4, 4]])\n",
    "\n",
    "<<< 3\n",
    "```\n",
    "\n",
    "<details><summary>Подсказки:</summary>\n",
    "В NumPy есть специальная функция для диагонали матрицы.\n",
    "</details>"
   ]
  },
  {
   "cell_type": "code",
   "execution_count": null,
   "id": "7dbaf372-215c-48c5-8272-0a277ce852b1",
   "metadata": {},
   "outputs": [],
   "source": []
  },
  {
   "cell_type": "markdown",
   "id": "458e7823-2b79-4ca1-9abb-b0b8db70bd8a",
   "metadata": {},
   "source": [
    "###  __Задача 2__\n",
    "\n",
    "Даны два вектора `x` и `y`. Проверить, задают ли они одно и то же мультимножество, т.е. кол-во элементов в них и их набор совпадает.\n",
    "\n",
    "Мультимножество $-$ это множество, в котором один и тот же элемент может встречаться несколько раз.\n",
    "\n",
    "```python\n",
    ">>> x = [1, 2, 2, 4]\n",
    ">>> y = [4, 2, 1, 2]\n",
    "\n",
    "<<< True\n",
    "```\n",
    "\n",
    "<details><summary>Подсказки:</summary>\n",
    "В NumPy есть <a href='https://numpy.org/doc/2.1/reference/routines.logic.html'>логические функции</a>.\n",
    "</details>"
   ]
  },
  {
   "cell_type": "code",
   "execution_count": null,
   "id": "00799ffe-3700-4450-badb-e1d7635295e4",
   "metadata": {},
   "outputs": [],
   "source": []
  },
  {
   "cell_type": "markdown",
   "id": "f606f5e1-93ca-49c6-8e48-44eea688f3f5",
   "metadata": {},
   "source": [
    "### __Задача 3__\n",
    "\n",
    "Найти максимальное прозведение соседних элементов в массиве `x`, таких что хотя бы один множитель в произведении делится на 3. Если таких произведений нет, то вернуть -1.\n",
    "\n",
    "```python\n",
    ">>> x = [6, 2, 0, 3, 0, 0, 5, 7, 0]\n",
    "\n",
    "<<< 12\n",
    "```\n",
    "\n",
    "<details><summary>Подсказки:</summary>\n",
    "Подумайте про то, какие срезы можно сделать от массива, чтобы умножить массив на массив. А еще вам пригодятся булевые массивы.\n",
    "</details>"
   ]
  },
  {
   "cell_type": "code",
   "execution_count": null,
   "id": "e6e6f566-7ffd-493c-b53e-0e5940e79ec1",
   "metadata": {},
   "outputs": [],
   "source": []
  },
  {
   "cell_type": "markdown",
   "id": "a54438cf-ab1b-499d-aa2f-1f7985041b20",
   "metadata": {},
   "source": [
    "### __Задача 4__\n",
    "\n",
    "Дан трёхмерный массив `image`, содержащий изображение, размера `(height, width, num_channels)`, а также вектор весов `weights` длины `num_channels`. Сложить каналы изображения с указанными весами, и вернуть результат в виде матрицы размера `(height, width)`.<br>\n",
    "**Обратите внимание, что в изображении может быть не три канала!**\n",
    "\n",
    "```python\n",
    ">>> image = [[[1, 1, 1], [2, 2, 2], [3, 3, 3]], [[4, 4, 4], [5, 5, 5], [6, 6, 6]], [[7, 7, 7], [8, 8, 8], [9, 9, 9]]]\n",
    ">>> weights= [1, 2, 3]\n",
    "\n",
    "<<< [[6, 12, 18], [24, 30, 36], [42, 48, 54]]\n",
    "```\n",
    "\n",
    "  **Комментарий**:\n",
    "  - В примере исходное изображение с тремя каналами, где по всем каналам значения равны: <br>`[[1, 2, 3], [4, 5, 6], [7, 8, 9]]`\n",
    "  - После умножения первого канала на вес 1 получим значения для первого канала: <br>`[[1, 2, 3], [4, 5, 6], [7, 8, 9]]`\n",
    "  - После умножения второго канала на вес 2 получим значения для второго канала: <br>`[[2, 4, 6], [8, 10, 12], [14, 16, 18]]`\n",
    "  - После умножения третьего канала на вес 3 получим значения для третьего канала: <br>`[[3, 6, 9], [12, 15, 18], [21, 24, 27]]`\n",
    "  - Если сложить полученное изображение поканально получим: <br>`[[6, 12, 18], [24, 30, 36], [42, 48, 54]]`"
   ]
  },
  {
   "cell_type": "code",
   "execution_count": null,
   "id": "66702233-d9d2-4c71-b06b-800b202479d2",
   "metadata": {},
   "outputs": [],
   "source": []
  },
  {
   "cell_type": "markdown",
   "id": "6d722336-06c0-411d-be7d-94826c6a98b8",
   "metadata": {},
   "source": [
    "### __Задача 5__\n",
    "\n",
    "Найти произведение векторов `x` и `y`, заданными в формате RLE (Run-length encoding, кодирование длин серий). Каждый закодированный вектор представлен двумерным массивом, каждая строка которого имеет размерность 2, где первое число $-$ элемент, а второе число $-$ сколько раз элемент нужно повторить. Например, `[[1,2], [2, 3], [3, 1]]` соответствует вектору `[1, 1, 2, 2, 2, 3]`. В случае несовпадения длин исходных векторов вернуть -1.\n",
    "\n",
    "```python\n",
    ">>> x = [[1, 2], [2, 3], [3, 1]]\n",
    ">>> y = [[1, 1], [0, 5]]\n",
    "\n",
    "<<< 1\n",
    "```\n",
    "\n",
    "<details><summary>Подсказки:</summary>\n",
    "В NumPy есть функция <a href='https://numpy.org/doc/stable/reference/generated/numpy.repeat.html'>repeat</a>, которая может вам в этом помочь.\n",
    "</details>"
   ]
  },
  {
   "cell_type": "code",
   "execution_count": null,
   "id": "ccebca5a-e454-4bd6-a4a2-96947cf3f89b",
   "metadata": {},
   "outputs": [],
   "source": []
  },
  {
   "cell_type": "markdown",
   "id": "007f2eed-9a72-47c4-9050-f64577b676dc",
   "metadata": {},
   "source": [
    "### Задача 6\n",
    "\n",
    "Для **этой задачи** приведите 2 реализации: \n",
    "- полностью векторизованная(**без использования циклов / `map` / list comprehension**),\n",
    "- с использованием [`scipy.spatial.distance.cosine`](https://docs.scipy.org/doc/scipy/reference/generated/scipy.spatial.distance.cosine.html).\n",
    "\n",
    "Напишите функцию, вычисляющую косинусную близость двух векторов `x` и `y`. \n",
    "\n",
    "```python\n",
    ">>> x = [-2, 1, 0, -5, 4, 3, -3]\n",
    ">>> y = [0, 2, -2, 10, 6, 0, 0]\n",
    "\n",
    "<<< -0.25\n",
    "```\n",
    "\n",
    "Формула косинусной близости:\n",
    "$$ similarity = \\cos(\\theta) = \\frac{A \\times B}{\\| A \\| \\times \\| B \\|} = \\frac{\\sum_{i=1}^{n} A_i \\times B_i}{\\sqrt{\\sum_{i=1}^{n} A_i^2} \\times \\sqrt{\\sum_{i=1}^{n} B_i^2}} $$\n",
    "\n",
    "<details><summary>Подсказки:</summary>\n",
    "Из NumPy вам помогут функции sqrt, sum и dot.\n",
    "</details>"
   ]
  },
  {
   "cell_type": "code",
   "execution_count": null,
   "id": "ffd151bd-9585-4548-916c-1ab6bd685d66",
   "metadata": {},
   "outputs": [],
   "source": []
  }
 ],
 "metadata": {
  "kernelspec": {
   "display_name": "Python 3 (ipykernel)",
   "language": "python",
   "name": "python3"
  },
  "language_info": {
   "codemirror_mode": {
    "name": "ipython",
    "version": 3
   },
   "file_extension": ".py",
   "mimetype": "text/x-python",
   "name": "python",
   "nbconvert_exporter": "python",
   "pygments_lexer": "ipython3",
   "version": "3.11.5"
  }
 },
 "nbformat": 4,
 "nbformat_minor": 5
}
