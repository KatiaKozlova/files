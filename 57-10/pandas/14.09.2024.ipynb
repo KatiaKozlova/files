{
 "cells": [
  {
   "cell_type": "markdown",
   "metadata": {
    "id": "ewvXjv0Myuqg"
   },
   "source": [
    "# ¿Вспоминаем? pandas\n",
    "\n",
    "[Документация](https://pandas.pydata.org/docs/)"
   ]
  },
  {
   "cell_type": "code",
   "execution_count": 5,
   "metadata": {
    "id": "B5Paj3DfPU1i"
   },
   "outputs": [],
   "source": [
    "import wget\n",
    "import pandas as pd"
   ]
  },
  {
   "cell_type": "code",
   "execution_count": 7,
   "metadata": {},
   "outputs": [
    {
     "data": {
      "text/plain": [
       "'restaurant_reviews.csv'"
      ]
     },
     "execution_count": 7,
     "metadata": {},
     "output_type": "execute_result"
    }
   ],
   "source": [
    "wget.download('https://raw.githubusercontent.com/KatiaKozlova/files/main/57-10/pandas/restaurant_reviews.csv')"
   ]
  },
  {
   "cell_type": "code",
   "execution_count": 9,
   "metadata": {
    "id": "0ZgHO-rbqWUZ"
   },
   "outputs": [],
   "source": [
    "df = pd.read_csv('restaurant_reviews.csv')"
   ]
  },
  {
   "cell_type": "markdown",
   "metadata": {
    "id": "qNNayGN2ra27"
   },
   "source": [
    "### Посмотрим, как выглядит таблица:"
   ]
  },
  {
   "cell_type": "code",
   "execution_count": 30,
   "metadata": {
    "colab": {
     "base_uri": "https://localhost:8080/",
     "height": 112
    },
    "id": "mgPQ6tsarXq2",
    "outputId": "7f349c93-0354-49c2-9a4d-2946f6e064d0"
   },
   "outputs": [
    {
     "data": {
      "text/html": [
       "<div>\n",
       "<style scoped>\n",
       "    .dataframe tbody tr th:only-of-type {\n",
       "        vertical-align: middle;\n",
       "    }\n",
       "\n",
       "    .dataframe tbody tr th {\n",
       "        vertical-align: top;\n",
       "    }\n",
       "\n",
       "    .dataframe thead th {\n",
       "        text-align: right;\n",
       "    }\n",
       "</style>\n",
       "<table border=\"1\" class=\"dataframe\">\n",
       "  <thead>\n",
       "    <tr style=\"text-align: right;\">\n",
       "      <th></th>\n",
       "      <th>Restaurant</th>\n",
       "      <th>Reviewer</th>\n",
       "      <th>Review</th>\n",
       "      <th>Rating</th>\n",
       "      <th>Metadata</th>\n",
       "      <th>Time</th>\n",
       "      <th>Pictures</th>\n",
       "      <th>7514</th>\n",
       "    </tr>\n",
       "  </thead>\n",
       "  <tbody>\n",
       "    <tr>\n",
       "      <th>7806</th>\n",
       "      <td>Khaan Saab</td>\n",
       "      <td>Kalyan Madduru</td>\n",
       "      <td>Khaan Saab, in Gachibowli was known for it's a...</td>\n",
       "      <td>4</td>\n",
       "      <td>46 Reviews , 23 Followers</td>\n",
       "      <td>5/5/2019 22:43</td>\n",
       "      <td>3</td>\n",
       "      <td>NaN</td>\n",
       "    </tr>\n",
       "    <tr>\n",
       "      <th>5435</th>\n",
       "      <td>Asian Meal Box</td>\n",
       "      <td>Aditya Chopra</td>\n",
       "      <td>The rice is not well steamed and is hard. Did ...</td>\n",
       "      <td>3</td>\n",
       "      <td>87 Reviews , 1165 Followers</td>\n",
       "      <td>1/19/2019 15:19</td>\n",
       "      <td>0</td>\n",
       "      <td>NaN</td>\n",
       "    </tr>\n",
       "    <tr>\n",
       "      <th>9915</th>\n",
       "      <td>Chinese Pavilion</td>\n",
       "      <td>Sravani Gade</td>\n",
       "      <td>Been to this place twice for dinner and haven'...</td>\n",
       "      <td>4</td>\n",
       "      <td>1 Review , 49 Followers</td>\n",
       "      <td>3/11/2019 19:51</td>\n",
       "      <td>0</td>\n",
       "      <td>NaN</td>\n",
       "    </tr>\n",
       "    <tr>\n",
       "      <th>1589</th>\n",
       "      <td>KFC</td>\n",
       "      <td>Srinivas Tanukonda</td>\n",
       "      <td>good</td>\n",
       "      <td>4</td>\n",
       "      <td>0 Reviews</td>\n",
       "      <td>7/25/2018 19:43</td>\n",
       "      <td>0</td>\n",
       "      <td>NaN</td>\n",
       "    </tr>\n",
       "  </tbody>\n",
       "</table>\n",
       "</div>"
      ],
      "text/plain": [
       "            Restaurant            Reviewer  \\\n",
       "7806        Khaan Saab      Kalyan Madduru   \n",
       "5435    Asian Meal Box       Aditya Chopra   \n",
       "9915  Chinese Pavilion        Sravani Gade   \n",
       "1589               KFC  Srinivas Tanukonda   \n",
       "\n",
       "                                                 Review Rating  \\\n",
       "7806  Khaan Saab, in Gachibowli was known for it's a...      4   \n",
       "5435  The rice is not well steamed and is hard. Did ...      3   \n",
       "9915  Been to this place twice for dinner and haven'...      4   \n",
       "1589                                               good      4   \n",
       "\n",
       "                         Metadata             Time  Pictures  7514  \n",
       "7806    46 Reviews , 23 Followers   5/5/2019 22:43         3   NaN  \n",
       "5435  87 Reviews , 1165 Followers  1/19/2019 15:19         0   NaN  \n",
       "9915      1 Review , 49 Followers  3/11/2019 19:51         0   NaN  \n",
       "1589                    0 Reviews  7/25/2018 19:43         0   NaN  "
      ]
     },
     "execution_count": 30,
     "metadata": {},
     "output_type": "execute_result"
    }
   ],
   "source": [
    "df.sample(4)  # случайные строки"
   ]
  },
  {
   "cell_type": "markdown",
   "metadata": {
    "id": "q-sBGmlsRTPn"
   },
   "source": [
    "Мы знаем, как обратиться к нескольким строкам, но как обратиться к одной?"
   ]
  },
  {
   "cell_type": "code",
   "execution_count": 20,
   "metadata": {},
   "outputs": [
    {
     "data": {
      "text/html": [
       "<div>\n",
       "<style scoped>\n",
       "    .dataframe tbody tr th:only-of-type {\n",
       "        vertical-align: middle;\n",
       "    }\n",
       "\n",
       "    .dataframe tbody tr th {\n",
       "        vertical-align: top;\n",
       "    }\n",
       "\n",
       "    .dataframe thead th {\n",
       "        text-align: right;\n",
       "    }\n",
       "</style>\n",
       "<table border=\"1\" class=\"dataframe\">\n",
       "  <thead>\n",
       "    <tr style=\"text-align: right;\">\n",
       "      <th></th>\n",
       "      <th>Restaurant</th>\n",
       "      <th>Reviewer</th>\n",
       "      <th>Review</th>\n",
       "      <th>Rating</th>\n",
       "      <th>Metadata</th>\n",
       "      <th>Time</th>\n",
       "      <th>Pictures</th>\n",
       "      <th>7514</th>\n",
       "    </tr>\n",
       "  </thead>\n",
       "  <tbody>\n",
       "    <tr>\n",
       "      <th>2</th>\n",
       "      <td>Beyond Flavours</td>\n",
       "      <td>Ashok Shekhawat</td>\n",
       "      <td>A must try.. great food great ambience. Thnx f...</td>\n",
       "      <td>5</td>\n",
       "      <td>2 Reviews , 3 Followers</td>\n",
       "      <td>5/24/2019 22:54</td>\n",
       "      <td>0</td>\n",
       "      <td>NaN</td>\n",
       "    </tr>\n",
       "    <tr>\n",
       "      <th>3</th>\n",
       "      <td>Beyond Flavours</td>\n",
       "      <td>Swapnil Sarkar</td>\n",
       "      <td>Soumen das and Arun was a great guy. Only beca...</td>\n",
       "      <td>5</td>\n",
       "      <td>1 Review , 1 Follower</td>\n",
       "      <td>5/24/2019 22:11</td>\n",
       "      <td>0</td>\n",
       "      <td>NaN</td>\n",
       "    </tr>\n",
       "    <tr>\n",
       "      <th>4</th>\n",
       "      <td>Beyond Flavours</td>\n",
       "      <td>Dileep</td>\n",
       "      <td>Food is good.we ordered Kodi drumsticks and ba...</td>\n",
       "      <td>5</td>\n",
       "      <td>3 Reviews , 2 Followers</td>\n",
       "      <td>5/24/2019 21:37</td>\n",
       "      <td>0</td>\n",
       "      <td>NaN</td>\n",
       "    </tr>\n",
       "    <tr>\n",
       "      <th>5</th>\n",
       "      <td>Beyond Flavours</td>\n",
       "      <td>Nagabhavani K</td>\n",
       "      <td>Ambiance is good, service is good, food is aPr...</td>\n",
       "      <td>5</td>\n",
       "      <td>1 Review</td>\n",
       "      <td>5/24/2019 15:22</td>\n",
       "      <td>0</td>\n",
       "      <td>NaN</td>\n",
       "    </tr>\n",
       "    <tr>\n",
       "      <th>6</th>\n",
       "      <td>Beyond Flavours</td>\n",
       "      <td>Jamuna Bhuwalka</td>\n",
       "      <td>Its a very nice place, ambience is different, ...</td>\n",
       "      <td>5</td>\n",
       "      <td>1 Review</td>\n",
       "      <td>5/24/2019 1:02</td>\n",
       "      <td>0</td>\n",
       "      <td>NaN</td>\n",
       "    </tr>\n",
       "  </tbody>\n",
       "</table>\n",
       "</div>"
      ],
      "text/plain": [
       "        Restaurant         Reviewer  \\\n",
       "2  Beyond Flavours  Ashok Shekhawat   \n",
       "3  Beyond Flavours   Swapnil Sarkar   \n",
       "4  Beyond Flavours           Dileep   \n",
       "5  Beyond Flavours    Nagabhavani K   \n",
       "6  Beyond Flavours  Jamuna Bhuwalka   \n",
       "\n",
       "                                              Review Rating  \\\n",
       "2  A must try.. great food great ambience. Thnx f...      5   \n",
       "3  Soumen das and Arun was a great guy. Only beca...      5   \n",
       "4  Food is good.we ordered Kodi drumsticks and ba...      5   \n",
       "5  Ambiance is good, service is good, food is aPr...      5   \n",
       "6  Its a very nice place, ambience is different, ...      5   \n",
       "\n",
       "                  Metadata             Time  Pictures  7514  \n",
       "2  2 Reviews , 3 Followers  5/24/2019 22:54         0   NaN  \n",
       "3    1 Review , 1 Follower  5/24/2019 22:11         0   NaN  \n",
       "4  3 Reviews , 2 Followers  5/24/2019 21:37         0   NaN  \n",
       "5                 1 Review  5/24/2019 15:22         0   NaN  \n",
       "6                 1 Review   5/24/2019 1:02         0   NaN  "
      ]
     },
     "execution_count": 20,
     "metadata": {},
     "output_type": "execute_result"
    }
   ],
   "source": [
    "df[2:7]"
   ]
  },
  {
   "cell_type": "code",
   "execution_count": 23,
   "metadata": {},
   "outputs": [
    {
     "ename": "KeyError",
     "evalue": "8",
     "output_type": "error",
     "traceback": [
      "\u001b[1;31m---------------------------------------------------------------------------\u001b[0m",
      "\u001b[1;31mKeyError\u001b[0m                                  Traceback (most recent call last)",
      "File \u001b[1;32m~\\anaconda3\\Lib\\site-packages\\pandas\\core\\indexes\\base.py:3653\u001b[0m, in \u001b[0;36mIndex.get_loc\u001b[1;34m(self, key)\u001b[0m\n\u001b[0;32m   3652\u001b[0m \u001b[38;5;28;01mtry\u001b[39;00m:\n\u001b[1;32m-> 3653\u001b[0m     \u001b[38;5;28;01mreturn\u001b[39;00m \u001b[38;5;28mself\u001b[39m\u001b[38;5;241m.\u001b[39m_engine\u001b[38;5;241m.\u001b[39mget_loc(casted_key)\n\u001b[0;32m   3654\u001b[0m \u001b[38;5;28;01mexcept\u001b[39;00m \u001b[38;5;167;01mKeyError\u001b[39;00m \u001b[38;5;28;01mas\u001b[39;00m err:\n",
      "File \u001b[1;32m~\\anaconda3\\Lib\\site-packages\\pandas\\_libs\\index.pyx:147\u001b[0m, in \u001b[0;36mpandas._libs.index.IndexEngine.get_loc\u001b[1;34m()\u001b[0m\n",
      "File \u001b[1;32m~\\anaconda3\\Lib\\site-packages\\pandas\\_libs\\index.pyx:176\u001b[0m, in \u001b[0;36mpandas._libs.index.IndexEngine.get_loc\u001b[1;34m()\u001b[0m\n",
      "File \u001b[1;32mpandas\\_libs\\hashtable_class_helper.pxi:7080\u001b[0m, in \u001b[0;36mpandas._libs.hashtable.PyObjectHashTable.get_item\u001b[1;34m()\u001b[0m\n",
      "File \u001b[1;32mpandas\\_libs\\hashtable_class_helper.pxi:7088\u001b[0m, in \u001b[0;36mpandas._libs.hashtable.PyObjectHashTable.get_item\u001b[1;34m()\u001b[0m\n",
      "\u001b[1;31mKeyError\u001b[0m: 8",
      "\nThe above exception was the direct cause of the following exception:\n",
      "\u001b[1;31mKeyError\u001b[0m                                  Traceback (most recent call last)",
      "Cell \u001b[1;32mIn[23], line 1\u001b[0m\n\u001b[1;32m----> 1\u001b[0m df[\u001b[38;5;241m8\u001b[39m]\n",
      "File \u001b[1;32m~\\anaconda3\\Lib\\site-packages\\pandas\\core\\frame.py:3761\u001b[0m, in \u001b[0;36mDataFrame.__getitem__\u001b[1;34m(self, key)\u001b[0m\n\u001b[0;32m   3759\u001b[0m \u001b[38;5;28;01mif\u001b[39;00m \u001b[38;5;28mself\u001b[39m\u001b[38;5;241m.\u001b[39mcolumns\u001b[38;5;241m.\u001b[39mnlevels \u001b[38;5;241m>\u001b[39m \u001b[38;5;241m1\u001b[39m:\n\u001b[0;32m   3760\u001b[0m     \u001b[38;5;28;01mreturn\u001b[39;00m \u001b[38;5;28mself\u001b[39m\u001b[38;5;241m.\u001b[39m_getitem_multilevel(key)\n\u001b[1;32m-> 3761\u001b[0m indexer \u001b[38;5;241m=\u001b[39m \u001b[38;5;28mself\u001b[39m\u001b[38;5;241m.\u001b[39mcolumns\u001b[38;5;241m.\u001b[39mget_loc(key)\n\u001b[0;32m   3762\u001b[0m \u001b[38;5;28;01mif\u001b[39;00m is_integer(indexer):\n\u001b[0;32m   3763\u001b[0m     indexer \u001b[38;5;241m=\u001b[39m [indexer]\n",
      "File \u001b[1;32m~\\anaconda3\\Lib\\site-packages\\pandas\\core\\indexes\\base.py:3655\u001b[0m, in \u001b[0;36mIndex.get_loc\u001b[1;34m(self, key)\u001b[0m\n\u001b[0;32m   3653\u001b[0m     \u001b[38;5;28;01mreturn\u001b[39;00m \u001b[38;5;28mself\u001b[39m\u001b[38;5;241m.\u001b[39m_engine\u001b[38;5;241m.\u001b[39mget_loc(casted_key)\n\u001b[0;32m   3654\u001b[0m \u001b[38;5;28;01mexcept\u001b[39;00m \u001b[38;5;167;01mKeyError\u001b[39;00m \u001b[38;5;28;01mas\u001b[39;00m err:\n\u001b[1;32m-> 3655\u001b[0m     \u001b[38;5;28;01mraise\u001b[39;00m \u001b[38;5;167;01mKeyError\u001b[39;00m(key) \u001b[38;5;28;01mfrom\u001b[39;00m \u001b[38;5;21;01merr\u001b[39;00m\n\u001b[0;32m   3656\u001b[0m \u001b[38;5;28;01mexcept\u001b[39;00m \u001b[38;5;167;01mTypeError\u001b[39;00m:\n\u001b[0;32m   3657\u001b[0m     \u001b[38;5;66;03m# If we have a listlike key, _check_indexing_error will raise\u001b[39;00m\n\u001b[0;32m   3658\u001b[0m     \u001b[38;5;66;03m#  InvalidIndexError. Otherwise we fall through and re-raise\u001b[39;00m\n\u001b[0;32m   3659\u001b[0m     \u001b[38;5;66;03m#  the TypeError.\u001b[39;00m\n\u001b[0;32m   3660\u001b[0m     \u001b[38;5;28mself\u001b[39m\u001b[38;5;241m.\u001b[39m_check_indexing_error(key)\n",
      "\u001b[1;31mKeyError\u001b[0m: 8"
     ]
    }
   ],
   "source": [
    "df[8]"
   ]
  },
  {
   "cell_type": "markdown",
   "metadata": {},
   "source": [
    "Упало...("
   ]
  },
  {
   "cell_type": "markdown",
   "metadata": {},
   "source": [
    "### `(i)loc`"
   ]
  },
  {
   "cell_type": "code",
   "execution_count": 32,
   "metadata": {
    "colab": {
     "base_uri": "https://localhost:8080/",
     "height": 335
    },
    "id": "gCiiRrNsRUep",
    "outputId": "d765c70e-2d24-4523-9593-50e10695d78a"
   },
   "outputs": [
    {
     "data": {
      "text/plain": [
       "Restaurant                                      Beyond Flavours\n",
       "Reviewer                                       Saubhagya Bhuyan\n",
       "Review        The service was great and the food was awesome...\n",
       "Rating                                                        5\n",
       "Metadata                                  1 Review , 1 Follower\n",
       "Time                                            5/22/2019 22:22\n",
       "Pictures                                                      0\n",
       "7514                                                        NaN\n",
       "Name: 10, dtype: object"
      ]
     },
     "execution_count": 32,
     "metadata": {},
     "output_type": "execute_result"
    }
   ],
   "source": [
    "df.iloc[10]  # именно 10-я стока таблицы"
   ]
  },
  {
   "cell_type": "code",
   "execution_count": 34,
   "metadata": {
    "colab": {
     "base_uri": "https://localhost:8080/",
     "height": 335
    },
    "id": "ABsHS_51R_Z0",
    "outputId": "7d8f48d9-ced0-41f5-d422-eac4923e27bc"
   },
   "outputs": [
    {
     "data": {
      "text/plain": [
       "Restaurant                                      Beyond Flavours\n",
       "Reviewer                                       Saubhagya Bhuyan\n",
       "Review        The service was great and the food was awesome...\n",
       "Rating                                                        5\n",
       "Metadata                                  1 Review , 1 Follower\n",
       "Time                                            5/22/2019 22:22\n",
       "Pictures                                                      0\n",
       "7514                                                        NaN\n",
       "Name: 10, dtype: object"
      ]
     },
     "execution_count": 34,
     "metadata": {},
     "output_type": "execute_result"
    }
   ],
   "source": [
    "df.loc[10]  # стока таблицы с индексом 10"
   ]
  },
  {
   "cell_type": "markdown",
   "metadata": {
    "id": "n17jFZMdSHuH"
   },
   "source": [
    "Казалось, бы `loc` и `iloc` очень похожи, однако:\n",
    "- `iloc` работает именно с целым числом – номером строки (есть еще нюансы, но про них лучше в [документации](https://pandas.pydata.org/docs/index.html) почитать),\n",
    "- `loc` работает с индексом строки, который в общем случае может быть и строковым типом и даже числом с плавающей точкой или логической переменной.\n",
    "\n",
    "А еще с помощью `loc` можно вот так:"
   ]
  },
  {
   "cell_type": "code",
   "execution_count": 38,
   "metadata": {
    "colab": {
     "base_uri": "https://localhost:8080/",
     "height": 238
    },
    "id": "zVZkh_GwSlIX",
    "outputId": "7dd1fc79-1850-4530-c92b-bf644eb6a87d"
   },
   "outputs": [
    {
     "data": {
      "text/html": [
       "<div>\n",
       "<style scoped>\n",
       "    .dataframe tbody tr th:only-of-type {\n",
       "        vertical-align: middle;\n",
       "    }\n",
       "\n",
       "    .dataframe tbody tr th {\n",
       "        vertical-align: top;\n",
       "    }\n",
       "\n",
       "    .dataframe thead th {\n",
       "        text-align: right;\n",
       "    }\n",
       "</style>\n",
       "<table border=\"1\" class=\"dataframe\">\n",
       "  <thead>\n",
       "    <tr style=\"text-align: right;\">\n",
       "      <th></th>\n",
       "      <th>Rating</th>\n",
       "      <th>Metadata</th>\n",
       "    </tr>\n",
       "  </thead>\n",
       "  <tbody>\n",
       "    <tr>\n",
       "      <th>5</th>\n",
       "      <td>5</td>\n",
       "      <td>1 Review</td>\n",
       "    </tr>\n",
       "    <tr>\n",
       "      <th>6</th>\n",
       "      <td>5</td>\n",
       "      <td>1 Review</td>\n",
       "    </tr>\n",
       "    <tr>\n",
       "      <th>7</th>\n",
       "      <td>4</td>\n",
       "      <td>1 Review</td>\n",
       "    </tr>\n",
       "    <tr>\n",
       "      <th>8</th>\n",
       "      <td>5</td>\n",
       "      <td>1 Review , 1 Follower</td>\n",
       "    </tr>\n",
       "    <tr>\n",
       "      <th>9</th>\n",
       "      <td>5</td>\n",
       "      <td>1 Review , 1 Follower</td>\n",
       "    </tr>\n",
       "    <tr>\n",
       "      <th>10</th>\n",
       "      <td>5</td>\n",
       "      <td>1 Review , 1 Follower</td>\n",
       "    </tr>\n",
       "  </tbody>\n",
       "</table>\n",
       "</div>"
      ],
      "text/plain": [
       "   Rating               Metadata\n",
       "5       5               1 Review\n",
       "6       5               1 Review\n",
       "7       4               1 Review\n",
       "8       5  1 Review , 1 Follower\n",
       "9       5  1 Review , 1 Follower\n",
       "10      5  1 Review , 1 Follower"
      ]
     },
     "execution_count": 38,
     "metadata": {},
     "output_type": "execute_result"
    }
   ],
   "source": [
    "df.loc[5:10, 'Rating':'Metadata']"
   ]
  },
  {
   "cell_type": "markdown",
   "metadata": {
    "id": "gWCzteX2T1HJ"
   },
   "source": [
    "И даже вот так"
   ]
  },
  {
   "cell_type": "code",
   "execution_count": 41,
   "metadata": {
    "colab": {
     "base_uri": "https://localhost:8080/",
     "height": 143
    },
    "id": "sX3ljVNtTwxX",
    "outputId": "718fd8a4-81cd-46b1-809b-19db6558900a"
   },
   "outputs": [
    {
     "data": {
      "text/html": [
       "<div>\n",
       "<style scoped>\n",
       "    .dataframe tbody tr th:only-of-type {\n",
       "        vertical-align: middle;\n",
       "    }\n",
       "\n",
       "    .dataframe tbody tr th {\n",
       "        vertical-align: top;\n",
       "    }\n",
       "\n",
       "    .dataframe thead th {\n",
       "        text-align: right;\n",
       "    }\n",
       "</style>\n",
       "<table border=\"1\" class=\"dataframe\">\n",
       "  <thead>\n",
       "    <tr style=\"text-align: right;\">\n",
       "      <th></th>\n",
       "      <th>Restaurant</th>\n",
       "      <th>Rating</th>\n",
       "      <th>Metadata</th>\n",
       "    </tr>\n",
       "  </thead>\n",
       "  <tbody>\n",
       "    <tr>\n",
       "      <th>0</th>\n",
       "      <td>Beyond Flavours</td>\n",
       "      <td>5</td>\n",
       "      <td>1 Review , 2 Followers</td>\n",
       "    </tr>\n",
       "    <tr>\n",
       "      <th>1</th>\n",
       "      <td>Beyond Flavours</td>\n",
       "      <td>5</td>\n",
       "      <td>3 Reviews , 2 Followers</td>\n",
       "    </tr>\n",
       "    <tr>\n",
       "      <th>2</th>\n",
       "      <td>Beyond Flavours</td>\n",
       "      <td>5</td>\n",
       "      <td>2 Reviews , 3 Followers</td>\n",
       "    </tr>\n",
       "  </tbody>\n",
       "</table>\n",
       "</div>"
      ],
      "text/plain": [
       "        Restaurant Rating                 Metadata\n",
       "0  Beyond Flavours      5   1 Review , 2 Followers\n",
       "1  Beyond Flavours      5  3 Reviews , 2 Followers\n",
       "2  Beyond Flavours      5  2 Reviews , 3 Followers"
      ]
     },
     "execution_count": 41,
     "metadata": {},
     "output_type": "execute_result"
    }
   ],
   "source": [
    "df.loc[df.Restaurant == 'Beyond Flavours',\n",
    " ['Restaurant', 'Rating', 'Metadata']].head(3)"
   ]
  },
  {
   "cell_type": "markdown",
   "metadata": {
    "id": "j_5GB7A7Sv14"
   },
   "source": [
    "С помощью одного метода мы смогли вытощить нужные нам строки и столбцы. И здесь видно еще одно отличие `loc` и `iloc`: в первом случае обе границы диапазона будут включены при срезе. А с `iloc` - нет, там все как у списков:"
   ]
  },
  {
   "cell_type": "code",
   "execution_count": 44,
   "metadata": {
    "colab": {
     "base_uri": "https://localhost:8080/",
     "height": 206
    },
    "id": "FFfCdDULTEwG",
    "outputId": "cba44f72-4b9b-49cb-ded5-6e25a7103fcf"
   },
   "outputs": [
    {
     "data": {
      "text/html": [
       "<div>\n",
       "<style scoped>\n",
       "    .dataframe tbody tr th:only-of-type {\n",
       "        vertical-align: middle;\n",
       "    }\n",
       "\n",
       "    .dataframe tbody tr th {\n",
       "        vertical-align: top;\n",
       "    }\n",
       "\n",
       "    .dataframe thead th {\n",
       "        text-align: right;\n",
       "    }\n",
       "</style>\n",
       "<table border=\"1\" class=\"dataframe\">\n",
       "  <thead>\n",
       "    <tr style=\"text-align: right;\">\n",
       "      <th></th>\n",
       "      <th>Restaurant</th>\n",
       "      <th>Reviewer</th>\n",
       "      <th>Review</th>\n",
       "      <th>Rating</th>\n",
       "      <th>Metadata</th>\n",
       "      <th>Time</th>\n",
       "      <th>Pictures</th>\n",
       "      <th>7514</th>\n",
       "    </tr>\n",
       "  </thead>\n",
       "  <tbody>\n",
       "    <tr>\n",
       "      <th>5</th>\n",
       "      <td>Beyond Flavours</td>\n",
       "      <td>Nagabhavani K</td>\n",
       "      <td>Ambiance is good, service is good, food is aPr...</td>\n",
       "      <td>5</td>\n",
       "      <td>1 Review</td>\n",
       "      <td>5/24/2019 15:22</td>\n",
       "      <td>0</td>\n",
       "      <td>NaN</td>\n",
       "    </tr>\n",
       "    <tr>\n",
       "      <th>6</th>\n",
       "      <td>Beyond Flavours</td>\n",
       "      <td>Jamuna Bhuwalka</td>\n",
       "      <td>Its a very nice place, ambience is different, ...</td>\n",
       "      <td>5</td>\n",
       "      <td>1 Review</td>\n",
       "      <td>5/24/2019 1:02</td>\n",
       "      <td>0</td>\n",
       "      <td>NaN</td>\n",
       "    </tr>\n",
       "    <tr>\n",
       "      <th>7</th>\n",
       "      <td>Beyond Flavours</td>\n",
       "      <td>Sandhya S</td>\n",
       "      <td>Well after reading so many reviews finally vis...</td>\n",
       "      <td>4</td>\n",
       "      <td>1 Review</td>\n",
       "      <td>5/23/2019 15:01</td>\n",
       "      <td>0</td>\n",
       "      <td>NaN</td>\n",
       "    </tr>\n",
       "    <tr>\n",
       "      <th>8</th>\n",
       "      <td>Beyond Flavours</td>\n",
       "      <td>Akash Thorat</td>\n",
       "      <td>Excellent food , specially if you like spicy f...</td>\n",
       "      <td>5</td>\n",
       "      <td>1 Review , 1 Follower</td>\n",
       "      <td>5/22/2019 23:12</td>\n",
       "      <td>0</td>\n",
       "      <td>NaN</td>\n",
       "    </tr>\n",
       "    <tr>\n",
       "      <th>9</th>\n",
       "      <td>Beyond Flavours</td>\n",
       "      <td>Smarak Patnaik</td>\n",
       "      <td>Came for the birthday treat of a close friend....</td>\n",
       "      <td>5</td>\n",
       "      <td>1 Review , 1 Follower</td>\n",
       "      <td>5/22/2019 22:37</td>\n",
       "      <td>0</td>\n",
       "      <td>NaN</td>\n",
       "    </tr>\n",
       "  </tbody>\n",
       "</table>\n",
       "</div>"
      ],
      "text/plain": [
       "        Restaurant         Reviewer  \\\n",
       "5  Beyond Flavours    Nagabhavani K   \n",
       "6  Beyond Flavours  Jamuna Bhuwalka   \n",
       "7  Beyond Flavours        Sandhya S   \n",
       "8  Beyond Flavours     Akash Thorat   \n",
       "9  Beyond Flavours   Smarak Patnaik   \n",
       "\n",
       "                                              Review Rating  \\\n",
       "5  Ambiance is good, service is good, food is aPr...      5   \n",
       "6  Its a very nice place, ambience is different, ...      5   \n",
       "7  Well after reading so many reviews finally vis...      4   \n",
       "8  Excellent food , specially if you like spicy f...      5   \n",
       "9  Came for the birthday treat of a close friend....      5   \n",
       "\n",
       "                Metadata             Time  Pictures  7514  \n",
       "5               1 Review  5/24/2019 15:22         0   NaN  \n",
       "6               1 Review   5/24/2019 1:02         0   NaN  \n",
       "7               1 Review  5/23/2019 15:01         0   NaN  \n",
       "8  1 Review , 1 Follower  5/22/2019 23:12         0   NaN  \n",
       "9  1 Review , 1 Follower  5/22/2019 22:37         0   NaN  "
      ]
     },
     "execution_count": 44,
     "metadata": {},
     "output_type": "execute_result"
    }
   ],
   "source": [
    "df.iloc[5:10]"
   ]
  },
  {
   "cell_type": "markdown",
   "metadata": {},
   "source": [
    "### Поиграем с данными еще немного:"
   ]
  },
  {
   "cell_type": "markdown",
   "metadata": {
    "id": "EiKWwDLBY0iW"
   },
   "source": [
    "В целом, логика фильтрации в пандасе достаточно мощная, хотя и \"многословная\". Например, мы можем выделить отзывы о B-Dubs или Paradise, которые дали люди с именем на N."
   ]
  },
  {
   "cell_type": "code",
   "execution_count": 47,
   "metadata": {
    "colab": {
     "base_uri": "https://localhost:8080/",
     "height": 321
    },
    "id": "Z47GZ-JoY1V7",
    "outputId": "46bc4a8e-c73d-49b4-ee94-16453444f298"
   },
   "outputs": [
    {
     "data": {
      "text/html": [
       "<div>\n",
       "<style scoped>\n",
       "    .dataframe tbody tr th:only-of-type {\n",
       "        vertical-align: middle;\n",
       "    }\n",
       "\n",
       "    .dataframe tbody tr th {\n",
       "        vertical-align: top;\n",
       "    }\n",
       "\n",
       "    .dataframe thead th {\n",
       "        text-align: right;\n",
       "    }\n",
       "</style>\n",
       "<table border=\"1\" class=\"dataframe\">\n",
       "  <thead>\n",
       "    <tr style=\"text-align: right;\">\n",
       "      <th></th>\n",
       "      <th>Restaurant</th>\n",
       "      <th>Reviewer</th>\n",
       "      <th>Review</th>\n",
       "      <th>Rating</th>\n",
       "      <th>Metadata</th>\n",
       "      <th>Time</th>\n",
       "      <th>Pictures</th>\n",
       "      <th>7514</th>\n",
       "    </tr>\n",
       "  </thead>\n",
       "  <tbody>\n",
       "    <tr>\n",
       "      <th>132</th>\n",
       "      <td>Paradise</td>\n",
       "      <td>Nitesh</td>\n",
       "      <td>Awesome biryani and kebabs. Apollo fish is the...</td>\n",
       "      <td>5</td>\n",
       "      <td>0 Reviews</td>\n",
       "      <td>5/22/2019 22:55</td>\n",
       "      <td>0</td>\n",
       "      <td>NaN</td>\n",
       "    </tr>\n",
       "    <tr>\n",
       "      <th>140</th>\n",
       "      <td>Paradise</td>\n",
       "      <td>Noor Mohammed Zubair</td>\n",
       "      <td>Taste: there was huge hype about biryani hence...</td>\n",
       "      <td>3</td>\n",
       "      <td>45 Reviews , 48 Followers</td>\n",
       "      <td>5/22/2019 12:46</td>\n",
       "      <td>0</td>\n",
       "      <td>NaN</td>\n",
       "    </tr>\n",
       "    <tr>\n",
       "      <th>168</th>\n",
       "      <td>Paradise</td>\n",
       "      <td>Nikhil Reddy</td>\n",
       "      <td>Gud food..fast service.. best people in the re...</td>\n",
       "      <td>4</td>\n",
       "      <td>1 Review , 1 Follower</td>\n",
       "      <td>5/15/2019 20:22</td>\n",
       "      <td>0</td>\n",
       "      <td>NaN</td>\n",
       "    </tr>\n",
       "    <tr>\n",
       "      <th>191</th>\n",
       "      <td>Paradise</td>\n",
       "      <td>N Bharath Kumar Goud</td>\n",
       "      <td>Paradise is one my favourite restaurants to ea...</td>\n",
       "      <td>4</td>\n",
       "      <td>1 Review</td>\n",
       "      <td>5/11/2019 17:31</td>\n",
       "      <td>0</td>\n",
       "      <td>NaN</td>\n",
       "    </tr>\n",
       "    <tr>\n",
       "      <th>2214</th>\n",
       "      <td>B-Dubs</td>\n",
       "      <td>Nikhil Raj</td>\n",
       "      <td>Was my first visit and it was awesome experien...</td>\n",
       "      <td>5</td>\n",
       "      <td>1 Review , 2 Followers</td>\n",
       "      <td>5/14/2019 23:39</td>\n",
       "      <td>0</td>\n",
       "      <td>NaN</td>\n",
       "    </tr>\n",
       "    <tr>\n",
       "      <th>2224</th>\n",
       "      <td>B-Dubs</td>\n",
       "      <td>Nrusimha Akundy</td>\n",
       "      <td>Polite and friendly and service is awesome and...</td>\n",
       "      <td>5</td>\n",
       "      <td>1 Review , 14 Followers</td>\n",
       "      <td>5/8/2019 23:28</td>\n",
       "      <td>0</td>\n",
       "      <td>NaN</td>\n",
       "    </tr>\n",
       "    <tr>\n",
       "      <th>2232</th>\n",
       "      <td>B-Dubs</td>\n",
       "      <td>NAGUBANDI ANOOP 14BEC0308</td>\n",
       "      <td>The party was great...the food was awesome and...</td>\n",
       "      <td>5</td>\n",
       "      <td>1 Review</td>\n",
       "      <td>5/8/2019 22:51</td>\n",
       "      <td>0</td>\n",
       "      <td>NaN</td>\n",
       "    </tr>\n",
       "    <tr>\n",
       "      <th>2266</th>\n",
       "      <td>B-Dubs</td>\n",
       "      <td>Nishanth Bhan</td>\n",
       "      <td>Fantastic place to watch ipl. Great wings. Fan...</td>\n",
       "      <td>5</td>\n",
       "      <td>1 Review , 16 Followers</td>\n",
       "      <td>4/21/2019 22:11</td>\n",
       "      <td>1</td>\n",
       "      <td>NaN</td>\n",
       "    </tr>\n",
       "  </tbody>\n",
       "</table>\n",
       "</div>"
      ],
      "text/plain": [
       "     Restaurant                   Reviewer  \\\n",
       "132    Paradise                     Nitesh   \n",
       "140    Paradise       Noor Mohammed Zubair   \n",
       "168    Paradise               Nikhil Reddy   \n",
       "191    Paradise       N Bharath Kumar Goud   \n",
       "2214     B-Dubs                 Nikhil Raj   \n",
       "2224     B-Dubs            Nrusimha Akundy   \n",
       "2232     B-Dubs  NAGUBANDI ANOOP 14BEC0308   \n",
       "2266     B-Dubs              Nishanth Bhan   \n",
       "\n",
       "                                                 Review Rating  \\\n",
       "132   Awesome biryani and kebabs. Apollo fish is the...      5   \n",
       "140   Taste: there was huge hype about biryani hence...      3   \n",
       "168   Gud food..fast service.. best people in the re...      4   \n",
       "191   Paradise is one my favourite restaurants to ea...      4   \n",
       "2214  Was my first visit and it was awesome experien...      5   \n",
       "2224  Polite and friendly and service is awesome and...      5   \n",
       "2232  The party was great...the food was awesome and...      5   \n",
       "2266  Fantastic place to watch ipl. Great wings. Fan...      5   \n",
       "\n",
       "                       Metadata             Time  Pictures  7514  \n",
       "132                   0 Reviews  5/22/2019 22:55         0   NaN  \n",
       "140   45 Reviews , 48 Followers  5/22/2019 12:46         0   NaN  \n",
       "168       1 Review , 1 Follower  5/15/2019 20:22         0   NaN  \n",
       "191                    1 Review  5/11/2019 17:31         0   NaN  \n",
       "2214     1 Review , 2 Followers  5/14/2019 23:39         0   NaN  \n",
       "2224    1 Review , 14 Followers   5/8/2019 23:28         0   NaN  \n",
       "2232                   1 Review   5/8/2019 22:51         0   NaN  \n",
       "2266    1 Review , 16 Followers  4/21/2019 22:11         1   NaN  "
      ]
     },
     "execution_count": 47,
     "metadata": {},
     "output_type": "execute_result"
    }
   ],
   "source": [
    "df[(df.Restaurant.isin(['B-Dubs', 'Paradise'])) & (df[\"Reviewer\"].str.startswith('N'))]"
   ]
  },
  {
   "cell_type": "markdown",
   "metadata": {
    "id": "iIqyHevxZfRz"
   },
   "source": [
    "Для связи отдельных условий могут использоваться `&` (и), `|` (или), `^` (либо) или `~` (не)"
   ]
  },
  {
   "cell_type": "markdown",
   "metadata": {
    "id": "mAPfjCn3rl2N"
   },
   "source": [
    "Колонки и строки можно добавлять и удалять достаточно легко. Вот у нас есть какая-то странная колонка 7514 — явно ошибка в данных. Удалим ее:"
   ]
  },
  {
   "cell_type": "code",
   "execution_count": 49,
   "metadata": {
    "colab": {
     "base_uri": "https://localhost:8080/",
     "height": 112
    },
    "id": "6koMJFyVriu2",
    "outputId": "d306d85b-15eb-4803-9279-d726af9c40f3"
   },
   "outputs": [
    {
     "data": {
      "text/html": [
       "<div>\n",
       "<style scoped>\n",
       "    .dataframe tbody tr th:only-of-type {\n",
       "        vertical-align: middle;\n",
       "    }\n",
       "\n",
       "    .dataframe tbody tr th {\n",
       "        vertical-align: top;\n",
       "    }\n",
       "\n",
       "    .dataframe thead th {\n",
       "        text-align: right;\n",
       "    }\n",
       "</style>\n",
       "<table border=\"1\" class=\"dataframe\">\n",
       "  <thead>\n",
       "    <tr style=\"text-align: right;\">\n",
       "      <th></th>\n",
       "      <th>Restaurant</th>\n",
       "      <th>Reviewer</th>\n",
       "      <th>Review</th>\n",
       "      <th>Rating</th>\n",
       "      <th>Metadata</th>\n",
       "      <th>Time</th>\n",
       "      <th>Pictures</th>\n",
       "    </tr>\n",
       "  </thead>\n",
       "  <tbody>\n",
       "    <tr>\n",
       "      <th>0</th>\n",
       "      <td>Beyond Flavours</td>\n",
       "      <td>Rusha Chakraborty</td>\n",
       "      <td>The ambience was good, food was quite good . h...</td>\n",
       "      <td>5</td>\n",
       "      <td>1 Review , 2 Followers</td>\n",
       "      <td>5/25/2019 15:54</td>\n",
       "      <td>0</td>\n",
       "    </tr>\n",
       "    <tr>\n",
       "      <th>1</th>\n",
       "      <td>Beyond Flavours</td>\n",
       "      <td>Anusha Tirumalaneedi</td>\n",
       "      <td>Ambience is too good for a pleasant evening. S...</td>\n",
       "      <td>5</td>\n",
       "      <td>3 Reviews , 2 Followers</td>\n",
       "      <td>5/25/2019 14:20</td>\n",
       "      <td>0</td>\n",
       "    </tr>\n",
       "  </tbody>\n",
       "</table>\n",
       "</div>"
      ],
      "text/plain": [
       "        Restaurant              Reviewer  \\\n",
       "0  Beyond Flavours     Rusha Chakraborty   \n",
       "1  Beyond Flavours  Anusha Tirumalaneedi   \n",
       "\n",
       "                                              Review Rating  \\\n",
       "0  The ambience was good, food was quite good . h...      5   \n",
       "1  Ambience is too good for a pleasant evening. S...      5   \n",
       "\n",
       "                  Metadata             Time  Pictures  \n",
       "0   1 Review , 2 Followers  5/25/2019 15:54         0  \n",
       "1  3 Reviews , 2 Followers  5/25/2019 14:20         0  "
      ]
     },
     "execution_count": 49,
     "metadata": {},
     "output_type": "execute_result"
    }
   ],
   "source": [
    "df = df.drop('7514', axis='columns')  \n",
    "# axis=1 / axis='columns' отвечает за столбцы\n",
    "# axis=0 / axis='index' отвечает за строки\n",
    "\n",
    "# или вот так\n",
    "# df = df.drop(columns=['7514'])\n",
    "\n",
    "df.head(2)"
   ]
  },
  {
   "cell_type": "markdown",
   "metadata": {
    "id": "eM8LN_2-U8dC"
   },
   "source": [
    "Теперь давайте добавим колонку, в котрой будет True, если картинок больше нуля, и False - если меньше"
   ]
  },
  {
   "cell_type": "code",
   "execution_count": 52,
   "metadata": {
    "colab": {
     "base_uri": "https://localhost:8080/",
     "height": 112
    },
    "id": "hvQIApn7VMfr",
    "outputId": "0061d125-677b-4054-b8c5-e39dd0af0f1e"
   },
   "outputs": [
    {
     "data": {
      "text/html": [
       "<div>\n",
       "<style scoped>\n",
       "    .dataframe tbody tr th:only-of-type {\n",
       "        vertical-align: middle;\n",
       "    }\n",
       "\n",
       "    .dataframe tbody tr th {\n",
       "        vertical-align: top;\n",
       "    }\n",
       "\n",
       "    .dataframe thead th {\n",
       "        text-align: right;\n",
       "    }\n",
       "</style>\n",
       "<table border=\"1\" class=\"dataframe\">\n",
       "  <thead>\n",
       "    <tr style=\"text-align: right;\">\n",
       "      <th></th>\n",
       "      <th>Restaurant</th>\n",
       "      <th>Reviewer</th>\n",
       "      <th>Review</th>\n",
       "      <th>Rating</th>\n",
       "      <th>Metadata</th>\n",
       "      <th>Time</th>\n",
       "      <th>Pictures</th>\n",
       "      <th>Pics_exist</th>\n",
       "    </tr>\n",
       "  </thead>\n",
       "  <tbody>\n",
       "    <tr>\n",
       "      <th>0</th>\n",
       "      <td>Beyond Flavours</td>\n",
       "      <td>Rusha Chakraborty</td>\n",
       "      <td>The ambience was good, food was quite good . h...</td>\n",
       "      <td>5</td>\n",
       "      <td>1 Review , 2 Followers</td>\n",
       "      <td>5/25/2019 15:54</td>\n",
       "      <td>0</td>\n",
       "      <td>False</td>\n",
       "    </tr>\n",
       "    <tr>\n",
       "      <th>1</th>\n",
       "      <td>Beyond Flavours</td>\n",
       "      <td>Anusha Tirumalaneedi</td>\n",
       "      <td>Ambience is too good for a pleasant evening. S...</td>\n",
       "      <td>5</td>\n",
       "      <td>3 Reviews , 2 Followers</td>\n",
       "      <td>5/25/2019 14:20</td>\n",
       "      <td>0</td>\n",
       "      <td>False</td>\n",
       "    </tr>\n",
       "  </tbody>\n",
       "</table>\n",
       "</div>"
      ],
      "text/plain": [
       "        Restaurant              Reviewer  \\\n",
       "0  Beyond Flavours     Rusha Chakraborty   \n",
       "1  Beyond Flavours  Anusha Tirumalaneedi   \n",
       "\n",
       "                                              Review Rating  \\\n",
       "0  The ambience was good, food was quite good . h...      5   \n",
       "1  Ambience is too good for a pleasant evening. S...      5   \n",
       "\n",
       "                  Metadata             Time  Pictures  Pics_exist  \n",
       "0   1 Review , 2 Followers  5/25/2019 15:54         0       False  \n",
       "1  3 Reviews , 2 Followers  5/25/2019 14:20         0       False  "
      ]
     },
     "execution_count": 52,
     "metadata": {},
     "output_type": "execute_result"
    }
   ],
   "source": [
    "df['Pics_exist'] = df.Pictures > 0\n",
    "df.head(2)"
   ]
  },
  {
   "cell_type": "markdown",
   "metadata": {
    "id": "3f6BUSh9r2Fw"
   },
   "source": [
    "Еще мы можем получать всякую статистику по нашим данным.\n",
    "- Как часто встречаются разные рестораны (спойлер - датасет идеален с этой точки зрения, всех ресторанов поровну)\n"
   ]
  },
  {
   "cell_type": "code",
   "execution_count": 54,
   "metadata": {
    "colab": {
     "base_uri": "https://localhost:8080/",
     "height": 490
    },
    "id": "bXWLjchLVtoq",
    "outputId": "b346ee59-fb9e-4084-d550-a9432c076863"
   },
   "outputs": [
    {
     "data": {
      "text/plain": [
       "Restaurant\n",
       "Beyond Flavours                   100\n",
       "Dine O China                      100\n",
       "Driven Cafe                       100\n",
       "Labonel                           100\n",
       "Eat India Company                 100\n",
       "                                 ... \n",
       "Pot Pourri                        100\n",
       "Hunger Maggi Point                100\n",
       "Behrouz Biryani                   100\n",
       "3B's - Buddies, Bar & Barbecue    100\n",
       "Chinese Pavilion                  100\n",
       "Name: count, Length: 100, dtype: int64"
      ]
     },
     "execution_count": 54,
     "metadata": {},
     "output_type": "execute_result"
    }
   ],
   "source": [
    "df.Restaurant.value_counts()\n",
    "\n",
    "# или так, что более универсально, так как можно по нескольким колонкам считать\n",
    "# df.value_counts('Restaurant')"
   ]
  },
  {
   "cell_type": "markdown",
   "metadata": {
    "id": "YNgPdsgZVoH4"
   },
   "source": [
    "- Нет ли у нас пропущенных значений в колонках?"
   ]
  },
  {
   "cell_type": "code",
   "execution_count": 57,
   "metadata": {
    "colab": {
     "base_uri": "https://localhost:8080/"
    },
    "id": "oyClXz3OrycE",
    "outputId": "7a4f6fe1-57c8-4c7e-ce7f-190a41573af2"
   },
   "outputs": [
    {
     "name": "stdout",
     "output_type": "stream",
     "text": [
      "<class 'pandas.core.frame.DataFrame'>\n",
      "RangeIndex: 10000 entries, 0 to 9999\n",
      "Data columns (total 8 columns):\n",
      " #   Column      Non-Null Count  Dtype \n",
      "---  ------      --------------  ----- \n",
      " 0   Restaurant  10000 non-null  object\n",
      " 1   Reviewer    9962 non-null   object\n",
      " 2   Review      9955 non-null   object\n",
      " 3   Rating      9962 non-null   object\n",
      " 4   Metadata    9962 non-null   object\n",
      " 5   Time        9962 non-null   object\n",
      " 6   Pictures    10000 non-null  int64 \n",
      " 7   Pics_exist  10000 non-null  bool  \n",
      "dtypes: bool(1), int64(1), object(6)\n",
      "memory usage: 556.8+ KB\n"
     ]
    }
   ],
   "source": [
    "df.info()"
   ]
  },
  {
   "cell_type": "markdown",
   "metadata": {
    "id": "d63mjp_5sCxe"
   },
   "source": [
    "Есть, но немного. Если они нам мешают, то их можно удалить:"
   ]
  },
  {
   "cell_type": "code",
   "execution_count": 60,
   "metadata": {
    "colab": {
     "base_uri": "https://localhost:8080/"
    },
    "id": "1vhY7HdJr7BC",
    "outputId": "9a59ba39-205d-45e1-d562-79879c91f911"
   },
   "outputs": [
    {
     "name": "stdout",
     "output_type": "stream",
     "text": [
      "<class 'pandas.core.frame.DataFrame'>\n",
      "Index: 9955 entries, 0 to 9999\n",
      "Data columns (total 8 columns):\n",
      " #   Column      Non-Null Count  Dtype \n",
      "---  ------      --------------  ----- \n",
      " 0   Restaurant  9955 non-null   object\n",
      " 1   Reviewer    9955 non-null   object\n",
      " 2   Review      9955 non-null   object\n",
      " 3   Rating      9955 non-null   object\n",
      " 4   Metadata    9955 non-null   object\n",
      " 5   Time        9955 non-null   object\n",
      " 6   Pictures    9955 non-null   int64 \n",
      " 7   Pics_exist  9955 non-null   bool  \n",
      "dtypes: bool(1), int64(1), object(6)\n",
      "memory usage: 631.9+ KB\n"
     ]
    }
   ],
   "source": [
    "df = df.dropna()\n",
    "\n",
    "\n",
    "df.info()"
   ]
  },
  {
   "cell_type": "markdown",
   "metadata": {
    "id": "pedu5UXbs0cu"
   },
   "source": [
    "Выше можно увидеть, что у колонок бывают разные типы. Самый общий - это тип `object`, с ним не работает никакая математика, чаще всего он содержит строки или какие-то пользовательские объекты.\n",
    "\n",
    "Есть еще тип `int64` (числа) и `datetime64`, который отвечает за время. Переделаем наш столбец Time под последний формат:"
   ]
  },
  {
   "cell_type": "code",
   "execution_count": 63,
   "metadata": {},
   "outputs": [
    {
     "data": {
      "text/plain": [
       "0      2019-05-25 15:54:00\n",
       "1      2019-05-25 14:20:00\n",
       "2      2019-05-24 22:54:00\n",
       "3      2019-05-24 22:11:00\n",
       "4      2019-05-24 21:37:00\n",
       "               ...        \n",
       "9995   2016-06-05 00:08:00\n",
       "9996   2016-06-04 22:01:00\n",
       "9997   2016-06-03 10:37:00\n",
       "9998   2016-05-31 17:22:00\n",
       "9999   2016-05-31 16:41:00\n",
       "Name: Time, Length: 9955, dtype: datetime64[ns]"
      ]
     },
     "execution_count": 63,
     "metadata": {},
     "output_type": "execute_result"
    }
   ],
   "source": [
    "pd.to_datetime(df['Time'])"
   ]
  },
  {
   "cell_type": "markdown",
   "metadata": {},
   "source": [
    "Заметим, что колонка Rating почему-то тоже `object`, хотя должна быть `int64`, как Pictures. Попробуем это поправить:"
   ]
  },
  {
   "cell_type": "code",
   "execution_count": 71,
   "metadata": {
    "colab": {
     "base_uri": "https://localhost:8080/",
     "height": 419
    },
    "id": "hdweSed4tG8N",
    "outputId": "5cc252f4-0447-4160-f127-6a134580e154"
   },
   "outputs": [
    {
     "ename": "ValueError",
     "evalue": "Unable to parse string \"Like\" at position 7597",
     "output_type": "error",
     "traceback": [
      "\u001b[1;31m---------------------------------------------------------------------------\u001b[0m",
      "\u001b[1;31mValueError\u001b[0m                                Traceback (most recent call last)",
      "File \u001b[1;32m~\\anaconda3\\Lib\\site-packages\\pandas\\_libs\\lib.pyx:2280\u001b[0m, in \u001b[0;36mpandas._libs.lib.maybe_convert_numeric\u001b[1;34m()\u001b[0m\n",
      "\u001b[1;31mValueError\u001b[0m: Unable to parse string \"Like\"",
      "\nDuring handling of the above exception, another exception occurred:\n",
      "\u001b[1;31mValueError\u001b[0m                                Traceback (most recent call last)",
      "Cell \u001b[1;32mIn[71], line 1\u001b[0m\n\u001b[1;32m----> 1\u001b[0m df[\u001b[38;5;124m\"\u001b[39m\u001b[38;5;124mRating\u001b[39m\u001b[38;5;124m\"\u001b[39m] \u001b[38;5;241m=\u001b[39m pd\u001b[38;5;241m.\u001b[39mto_numeric(df[\u001b[38;5;124m\"\u001b[39m\u001b[38;5;124mRating\u001b[39m\u001b[38;5;124m\"\u001b[39m])\n",
      "File \u001b[1;32m~\\anaconda3\\Lib\\site-packages\\pandas\\core\\tools\\numeric.py:217\u001b[0m, in \u001b[0;36mto_numeric\u001b[1;34m(arg, errors, downcast, dtype_backend)\u001b[0m\n\u001b[0;32m    215\u001b[0m coerce_numeric \u001b[38;5;241m=\u001b[39m errors \u001b[38;5;129;01mnot\u001b[39;00m \u001b[38;5;129;01min\u001b[39;00m (\u001b[38;5;124m\"\u001b[39m\u001b[38;5;124mignore\u001b[39m\u001b[38;5;124m\"\u001b[39m, \u001b[38;5;124m\"\u001b[39m\u001b[38;5;124mraise\u001b[39m\u001b[38;5;124m\"\u001b[39m)\n\u001b[0;32m    216\u001b[0m \u001b[38;5;28;01mtry\u001b[39;00m:\n\u001b[1;32m--> 217\u001b[0m     values, new_mask \u001b[38;5;241m=\u001b[39m lib\u001b[38;5;241m.\u001b[39mmaybe_convert_numeric(  \u001b[38;5;66;03m# type: ignore[call-overload]  # noqa\u001b[39;00m\n\u001b[0;32m    218\u001b[0m         values,\n\u001b[0;32m    219\u001b[0m         \u001b[38;5;28mset\u001b[39m(),\n\u001b[0;32m    220\u001b[0m         coerce_numeric\u001b[38;5;241m=\u001b[39mcoerce_numeric,\n\u001b[0;32m    221\u001b[0m         convert_to_masked_nullable\u001b[38;5;241m=\u001b[39mdtype_backend \u001b[38;5;129;01mis\u001b[39;00m \u001b[38;5;129;01mnot\u001b[39;00m lib\u001b[38;5;241m.\u001b[39mno_default\n\u001b[0;32m    222\u001b[0m         \u001b[38;5;129;01mor\u001b[39;00m \u001b[38;5;28misinstance\u001b[39m(values_dtype, StringDtype),\n\u001b[0;32m    223\u001b[0m     )\n\u001b[0;32m    224\u001b[0m \u001b[38;5;28;01mexcept\u001b[39;00m (\u001b[38;5;167;01mValueError\u001b[39;00m, \u001b[38;5;167;01mTypeError\u001b[39;00m):\n\u001b[0;32m    225\u001b[0m     \u001b[38;5;28;01mif\u001b[39;00m errors \u001b[38;5;241m==\u001b[39m \u001b[38;5;124m\"\u001b[39m\u001b[38;5;124mraise\u001b[39m\u001b[38;5;124m\"\u001b[39m:\n",
      "File \u001b[1;32m~\\anaconda3\\Lib\\site-packages\\pandas\\_libs\\lib.pyx:2322\u001b[0m, in \u001b[0;36mpandas._libs.lib.maybe_convert_numeric\u001b[1;34m()\u001b[0m\n",
      "\u001b[1;31mValueError\u001b[0m: Unable to parse string \"Like\" at position 7597"
     ]
    }
   ],
   "source": [
    "df[\"Rating\"] = pd.to_numeric(df[\"Rating\"])"
   ]
  },
  {
   "cell_type": "markdown",
   "metadata": {
    "id": "geSf7hFltoiF"
   },
   "source": [
    "Упало :(\n",
    "\n",
    "Попробуем посмотреть, что там вообoе встречается:"
   ]
  },
  {
   "cell_type": "code",
   "execution_count": 73,
   "metadata": {
    "colab": {
     "base_uri": "https://localhost:8080/"
    },
    "id": "jDPZOUd_tiWx",
    "outputId": "cc63de53-95a9-492e-810b-cde715cc15b3"
   },
   "outputs": [
    {
     "data": {
      "text/plain": [
       "array(['5', '4', '1', '3', '2', '3.5', '4.5', '2.5', '1.5', 'Like'],\n",
       "      dtype=object)"
      ]
     },
     "execution_count": 73,
     "metadata": {},
     "output_type": "execute_result"
    }
   ],
   "source": [
    "df[\"Rating\"].unique()"
   ]
  },
  {
   "cell_type": "markdown",
   "metadata": {
    "id": "WfX-eEdFt3_t"
   },
   "source": [
    "Много всякой ерунды и все строковый тип данных. Давайте напишем функцию, которая поможет нам с этим справиться, и применим ее к столбцу:"
   ]
  },
  {
   "cell_type": "code",
   "execution_count": null,
   "metadata": {},
   "outputs": [],
   "source": [
    "# примените apply к столбцу Rating так, чтобы значения стали как ниже\n",
    "\n",
    "df[\"Rating\"] = df[\"Rating\"].apply(...)"
   ]
  },
  {
   "cell_type": "code",
   "execution_count": 75,
   "metadata": {
    "colab": {
     "base_uri": "https://localhost:8080/",
     "height": 272
    },
    "id": "KbpLkpsHt3ht",
    "outputId": "8da6a67b-c78c-405c-eb38-0b56cdffb798"
   },
   "outputs": [
    {
     "data": {
      "text/plain": [
       "Rating\n",
       "5.0    3827\n",
       "4.0    2373\n",
       "1.0    1735\n",
       "3.0    1192\n",
       "2.0     684\n",
       "4.5      69\n",
       "3.5      47\n",
       "2.5      19\n",
       "1.5       9\n",
       "Name: count, dtype: int64"
      ]
     },
     "execution_count": 75,
     "metadata": {},
     "output_type": "execute_result"
    }
   ],
   "source": [
    "df[\"Rating\"].value_counts()"
   ]
  },
  {
   "cell_type": "markdown",
   "metadata": {
    "id": "aEkX8royubgW"
   },
   "source": [
    "Теперь мы можем посмотреть всякие статистики по столбцу с рейтингом:"
   ]
  },
  {
   "cell_type": "code",
   "execution_count": 77,
   "metadata": {
    "colab": {
     "base_uri": "https://localhost:8080/",
     "height": 300
    },
    "id": "cFw6c2X4sgBX",
    "outputId": "251b0bc1-1222-455c-8104-e7df77fa8946"
   },
   "outputs": [
    {
     "data": {
      "text/html": [
       "<div>\n",
       "<style scoped>\n",
       "    .dataframe tbody tr th:only-of-type {\n",
       "        vertical-align: middle;\n",
       "    }\n",
       "\n",
       "    .dataframe tbody tr th {\n",
       "        vertical-align: top;\n",
       "    }\n",
       "\n",
       "    .dataframe thead th {\n",
       "        text-align: right;\n",
       "    }\n",
       "</style>\n",
       "<table border=\"1\" class=\"dataframe\">\n",
       "  <thead>\n",
       "    <tr style=\"text-align: right;\">\n",
       "      <th></th>\n",
       "      <th>Rating</th>\n",
       "      <th>Pictures</th>\n",
       "    </tr>\n",
       "  </thead>\n",
       "  <tbody>\n",
       "    <tr>\n",
       "      <th>count</th>\n",
       "      <td>9955.000000</td>\n",
       "      <td>9955.000000</td>\n",
       "    </tr>\n",
       "    <tr>\n",
       "      <th>mean</th>\n",
       "      <td>3.600402</td>\n",
       "      <td>0.751984</td>\n",
       "    </tr>\n",
       "    <tr>\n",
       "      <th>std</th>\n",
       "      <td>1.483565</td>\n",
       "      <td>2.575691</td>\n",
       "    </tr>\n",
       "    <tr>\n",
       "      <th>min</th>\n",
       "      <td>1.000000</td>\n",
       "      <td>0.000000</td>\n",
       "    </tr>\n",
       "    <tr>\n",
       "      <th>25%</th>\n",
       "      <td>3.000000</td>\n",
       "      <td>0.000000</td>\n",
       "    </tr>\n",
       "    <tr>\n",
       "      <th>50%</th>\n",
       "      <td>4.000000</td>\n",
       "      <td>0.000000</td>\n",
       "    </tr>\n",
       "    <tr>\n",
       "      <th>75%</th>\n",
       "      <td>5.000000</td>\n",
       "      <td>0.000000</td>\n",
       "    </tr>\n",
       "    <tr>\n",
       "      <th>max</th>\n",
       "      <td>5.000000</td>\n",
       "      <td>64.000000</td>\n",
       "    </tr>\n",
       "  </tbody>\n",
       "</table>\n",
       "</div>"
      ],
      "text/plain": [
       "            Rating     Pictures\n",
       "count  9955.000000  9955.000000\n",
       "mean      3.600402     0.751984\n",
       "std       1.483565     2.575691\n",
       "min       1.000000     0.000000\n",
       "25%       3.000000     0.000000\n",
       "50%       4.000000     0.000000\n",
       "75%       5.000000     0.000000\n",
       "max       5.000000    64.000000"
      ]
     },
     "execution_count": 77,
     "metadata": {},
     "output_type": "execute_result"
    }
   ],
   "source": [
    "df.describe()"
   ]
  },
  {
   "cell_type": "markdown",
   "metadata": {
    "id": "HXIR89Uaum5U"
   },
   "source": [
    "И порисовать графики:"
   ]
  },
  {
   "cell_type": "code",
   "execution_count": 79,
   "metadata": {
    "colab": {
     "base_uri": "https://localhost:8080/",
     "height": 451
    },
    "id": "niPJH4vbstSj",
    "outputId": "6b8cd6a3-a354-440b-c866-9941b42ee5f7"
   },
   "outputs": [
    {
     "data": {
      "text/plain": [
       "<Axes: ylabel='Frequency'>"
      ]
     },
     "execution_count": 79,
     "metadata": {},
     "output_type": "execute_result"
    },
    {
     "data": {
      "image/png": "[encoded data removed]",
      "text/plain": [
       "<Figure size 640x480 with 1 Axes>"
      ]
     },
     "metadata": {},
     "output_type": "display_data"
    }
   ],
   "source": [
    "df[\"Rating\"].plot(kind=\"hist\", xticks=[1, 2, 3, 4, 5])"
   ]
  },
  {
   "cell_type": "markdown",
   "metadata": {
    "id": "qNRdXmSBvIJm"
   },
   "source": [
    "Но сейчас мы все замеряем по всем ресторанам в целом. Давайте сгруппируем по названию ресторана:"
   ]
  },
  {
   "cell_type": "markdown",
   "metadata": {
    "id": "gwz4C7jiviKP"
   },
   "source": [
    "Можем собирать все в списки"
   ]
  },
  {
   "cell_type": "code",
   "execution_count": 83,
   "metadata": {
    "colab": {
     "base_uri": "https://localhost:8080/",
     "height": 279
    },
    "id": "B_Cy6dSmumEq",
    "outputId": "91500bd4-82af-45c9-a0b9-a3f1e951bb2a"
   },
   "outputs": [
    {
     "data": {
      "text/html": [
       "<div>\n",
       "<style scoped>\n",
       "    .dataframe tbody tr th:only-of-type {\n",
       "        vertical-align: middle;\n",
       "    }\n",
       "\n",
       "    .dataframe tbody tr th {\n",
       "        vertical-align: top;\n",
       "    }\n",
       "\n",
       "    .dataframe thead th {\n",
       "        text-align: right;\n",
       "    }\n",
       "</style>\n",
       "<table border=\"1\" class=\"dataframe\">\n",
       "  <thead>\n",
       "    <tr style=\"text-align: right;\">\n",
       "      <th></th>\n",
       "      <th>Reviewer</th>\n",
       "      <th>Review</th>\n",
       "      <th>Rating</th>\n",
       "      <th>Metadata</th>\n",
       "      <th>Time</th>\n",
       "      <th>Pictures</th>\n",
       "      <th>Pics_exist</th>\n",
       "    </tr>\n",
       "    <tr>\n",
       "      <th>Restaurant</th>\n",
       "      <th></th>\n",
       "      <th></th>\n",
       "      <th></th>\n",
       "      <th></th>\n",
       "      <th></th>\n",
       "      <th></th>\n",
       "      <th></th>\n",
       "    </tr>\n",
       "  </thead>\n",
       "  <tbody>\n",
       "    <tr>\n",
       "      <th>10 Downing Street</th>\n",
       "      <td>[Smrati Saxena, Jayaprakash Reddy, Ram K, Shru...</td>\n",
       "      <td>[I've been to this place about two times and i...</td>\n",
       "      <td>[3.0, 4.0, 4.0, 5.0, 4.0, 4.0, 1.0, 1.0, 1.0, ...</td>\n",
       "      <td>[18 Reviews , 41 Followers, 2 Reviews , 11 Fol...</td>\n",
       "      <td>[5/23/2019 21:04, 5/21/2019 16:00, 5/19/2019 1...</td>\n",
       "      <td>[0, 0, 0, 0, 0, 4, 0, 0, 0, 1, 0, 2, 0, 1, 0, ...</td>\n",
       "      <td>[False, False, False, False, False, True, Fals...</td>\n",
       "    </tr>\n",
       "    <tr>\n",
       "      <th>13 Dhaba</th>\n",
       "      <td>[Sarika, Ankur, Kumar Ajay, Henna Mittal, Yoge...</td>\n",
       "      <td>[I didn't go and eat at the Dhaba.\\nI had orde...</td>\n",
       "      <td>[4.0, 5.0, 5.0, 1.0, 5.0, 1.0, 1.0, 5.0, 3.0, ...</td>\n",
       "      <td>[34 Reviews , 12 Followers, 0 Reviews, 1 Revie...</td>\n",
       "      <td>[5/25/2019 15:05, 5/25/2019 13:03, 5/19/2019 1...</td>\n",
       "      <td>[0, 0, 0, 0, 0, 0, 0, 0, 0, 2, 0, 0, 0, 0, 0, ...</td>\n",
       "      <td>[False, False, False, False, False, False, Fal...</td>\n",
       "    </tr>\n",
       "    <tr>\n",
       "      <th>3B's - Buddies, Bar &amp; Barbecue</th>\n",
       "      <td>[Kairamkonda Saikiran, Saiswapnil, Naveen, K P...</td>\n",
       "      <td>[We go their for a team dinner.The name of the...</td>\n",
       "      <td>[5.0, 5.0, 5.0, 5.0, 5.0, 5.0, 5.0, 5.0, 5.0, ...</td>\n",
       "      <td>[1 Review , 3 Followers, 1 Review , 2 Follower...</td>\n",
       "      <td>[5/23/2019 23:39, 5/23/2019 23:21, 5/23/2019 2...</td>\n",
       "      <td>[0, 0, 0, 0, 0, 0, 0, 0, 0, 2, 0, 0, 0, 0, 0, ...</td>\n",
       "      <td>[False, False, False, False, False, False, Fal...</td>\n",
       "    </tr>\n",
       "  </tbody>\n",
       "</table>\n",
       "</div>"
      ],
      "text/plain": [
       "                                                                         Reviewer  \\\n",
       "Restaurant                                                                          \n",
       "10 Downing Street               [Smrati Saxena, Jayaprakash Reddy, Ram K, Shru...   \n",
       "13 Dhaba                        [Sarika, Ankur, Kumar Ajay, Henna Mittal, Yoge...   \n",
       "3B's - Buddies, Bar & Barbecue  [Kairamkonda Saikiran, Saiswapnil, Naveen, K P...   \n",
       "\n",
       "                                                                           Review  \\\n",
       "Restaurant                                                                          \n",
       "10 Downing Street               [I've been to this place about two times and i...   \n",
       "13 Dhaba                        [I didn't go and eat at the Dhaba.\\nI had orde...   \n",
       "3B's - Buddies, Bar & Barbecue  [We go their for a team dinner.The name of the...   \n",
       "\n",
       "                                                                           Rating  \\\n",
       "Restaurant                                                                          \n",
       "10 Downing Street               [3.0, 4.0, 4.0, 5.0, 4.0, 4.0, 1.0, 1.0, 1.0, ...   \n",
       "13 Dhaba                        [4.0, 5.0, 5.0, 1.0, 5.0, 1.0, 1.0, 5.0, 3.0, ...   \n",
       "3B's - Buddies, Bar & Barbecue  [5.0, 5.0, 5.0, 5.0, 5.0, 5.0, 5.0, 5.0, 5.0, ...   \n",
       "\n",
       "                                                                         Metadata  \\\n",
       "Restaurant                                                                          \n",
       "10 Downing Street               [18 Reviews , 41 Followers, 2 Reviews , 11 Fol...   \n",
       "13 Dhaba                        [34 Reviews , 12 Followers, 0 Reviews, 1 Revie...   \n",
       "3B's - Buddies, Bar & Barbecue  [1 Review , 3 Followers, 1 Review , 2 Follower...   \n",
       "\n",
       "                                                                             Time  \\\n",
       "Restaurant                                                                          \n",
       "10 Downing Street               [5/23/2019 21:04, 5/21/2019 16:00, 5/19/2019 1...   \n",
       "13 Dhaba                        [5/25/2019 15:05, 5/25/2019 13:03, 5/19/2019 1...   \n",
       "3B's - Buddies, Bar & Barbecue  [5/23/2019 23:39, 5/23/2019 23:21, 5/23/2019 2...   \n",
       "\n",
       "                                                                         Pictures  \\\n",
       "Restaurant                                                                          \n",
       "10 Downing Street               [0, 0, 0, 0, 0, 4, 0, 0, 0, 1, 0, 2, 0, 1, 0, ...   \n",
       "13 Dhaba                        [0, 0, 0, 0, 0, 0, 0, 0, 0, 2, 0, 0, 0, 0, 0, ...   \n",
       "3B's - Buddies, Bar & Barbecue  [0, 0, 0, 0, 0, 0, 0, 0, 0, 2, 0, 0, 0, 0, 0, ...   \n",
       "\n",
       "                                                                       Pics_exist  \n",
       "Restaurant                                                                         \n",
       "10 Downing Street               [False, False, False, False, False, True, Fals...  \n",
       "13 Dhaba                        [False, False, False, False, False, False, Fal...  \n",
       "3B's - Buddies, Bar & Barbecue  [False, False, False, False, False, False, Fal...  "
      ]
     },
     "execution_count": 83,
     "metadata": {},
     "output_type": "execute_result"
    }
   ],
   "source": [
    "df.groupby(by=\"Restaurant\").agg(list).head(3)"
   ]
  },
  {
   "cell_type": "markdown",
   "metadata": {
    "id": "Q5wSsG-Mvmjp"
   },
   "source": [
    "Можем сразу посчитать среднее. `numeric_only=True` позволяет избежать ситуации, когда пандас пытается считать среднее по списку строк и падает с ошибкой, закономерно не справившись с этой задачей"
   ]
  },
  {
   "cell_type": "code",
   "execution_count": 86,
   "metadata": {
    "colab": {
     "base_uri": "https://localhost:8080/",
     "height": 175
    },
    "id": "QZmi5pjzvTsb",
    "outputId": "5ff28502-fd39-4800-9fdb-a5d7f5b94ad6"
   },
   "outputs": [
    {
     "data": {
      "text/html": [
       "<div>\n",
       "<style scoped>\n",
       "    .dataframe tbody tr th:only-of-type {\n",
       "        vertical-align: middle;\n",
       "    }\n",
       "\n",
       "    .dataframe tbody tr th {\n",
       "        vertical-align: top;\n",
       "    }\n",
       "\n",
       "    .dataframe thead th {\n",
       "        text-align: right;\n",
       "    }\n",
       "</style>\n",
       "<table border=\"1\" class=\"dataframe\">\n",
       "  <thead>\n",
       "    <tr style=\"text-align: right;\">\n",
       "      <th></th>\n",
       "      <th>Rating</th>\n",
       "      <th>Pictures</th>\n",
       "      <th>Pics_exist</th>\n",
       "    </tr>\n",
       "    <tr>\n",
       "      <th>Restaurant</th>\n",
       "      <th></th>\n",
       "      <th></th>\n",
       "      <th></th>\n",
       "    </tr>\n",
       "  </thead>\n",
       "  <tbody>\n",
       "    <tr>\n",
       "      <th>10 Downing Street</th>\n",
       "      <td>3.80</td>\n",
       "      <td>1.05</td>\n",
       "      <td>0.24</td>\n",
       "    </tr>\n",
       "    <tr>\n",
       "      <th>13 Dhaba</th>\n",
       "      <td>3.48</td>\n",
       "      <td>0.41</td>\n",
       "      <td>0.19</td>\n",
       "    </tr>\n",
       "    <tr>\n",
       "      <th>3B's - Buddies, Bar &amp; Barbecue</th>\n",
       "      <td>4.76</td>\n",
       "      <td>0.13</td>\n",
       "      <td>0.07</td>\n",
       "    </tr>\n",
       "  </tbody>\n",
       "</table>\n",
       "</div>"
      ],
      "text/plain": [
       "                                Rating  Pictures  Pics_exist\n",
       "Restaurant                                                  \n",
       "10 Downing Street                 3.80      1.05        0.24\n",
       "13 Dhaba                          3.48      0.41        0.19\n",
       "3B's - Buddies, Bar & Barbecue    4.76      0.13        0.07"
      ]
     },
     "execution_count": 86,
     "metadata": {},
     "output_type": "execute_result"
    }
   ],
   "source": [
    "df.groupby(by=\"Restaurant\").mean(numeric_only=True).head(3)"
   ]
  },
  {
   "cell_type": "markdown",
   "metadata": {
    "id": "5rRivjeNxynq"
   },
   "source": [
    "Можно заодно еще минимум, максимум и стандартное отклонение"
   ]
  },
  {
   "cell_type": "code",
   "execution_count": 89,
   "metadata": {
    "colab": {
     "base_uri": "https://localhost:8080/",
     "height": 206
    },
    "id": "CqbP_-Owx1bn",
    "outputId": "4a8d7c55-ad4d-41f7-c102-06bf7746646f"
   },
   "outputs": [
    {
     "data": {
      "text/html": [
       "<div>\n",
       "<style scoped>\n",
       "    .dataframe tbody tr th:only-of-type {\n",
       "        vertical-align: middle;\n",
       "    }\n",
       "\n",
       "    .dataframe tbody tr th {\n",
       "        vertical-align: top;\n",
       "    }\n",
       "\n",
       "    .dataframe thead tr th {\n",
       "        text-align: left;\n",
       "    }\n",
       "\n",
       "    .dataframe thead tr:last-of-type th {\n",
       "        text-align: right;\n",
       "    }\n",
       "</style>\n",
       "<table border=\"1\" class=\"dataframe\">\n",
       "  <thead>\n",
       "    <tr>\n",
       "      <th></th>\n",
       "      <th colspan=\"4\" halign=\"left\">Rating</th>\n",
       "    </tr>\n",
       "    <tr>\n",
       "      <th></th>\n",
       "      <th>mean</th>\n",
       "      <th>min</th>\n",
       "      <th>max</th>\n",
       "      <th>std</th>\n",
       "    </tr>\n",
       "    <tr>\n",
       "      <th>Restaurant</th>\n",
       "      <th></th>\n",
       "      <th></th>\n",
       "      <th></th>\n",
       "      <th></th>\n",
       "    </tr>\n",
       "  </thead>\n",
       "  <tbody>\n",
       "    <tr>\n",
       "      <th>10 Downing Street</th>\n",
       "      <td>3.80</td>\n",
       "      <td>1.0</td>\n",
       "      <td>5.0</td>\n",
       "      <td>1.091751</td>\n",
       "    </tr>\n",
       "    <tr>\n",
       "      <th>13 Dhaba</th>\n",
       "      <td>3.48</td>\n",
       "      <td>1.0</td>\n",
       "      <td>5.0</td>\n",
       "      <td>1.566570</td>\n",
       "    </tr>\n",
       "    <tr>\n",
       "      <th>3B's - Buddies, Bar &amp; Barbecue</th>\n",
       "      <td>4.76</td>\n",
       "      <td>1.0</td>\n",
       "      <td>5.0</td>\n",
       "      <td>0.830237</td>\n",
       "    </tr>\n",
       "  </tbody>\n",
       "</table>\n",
       "</div>"
      ],
      "text/plain": [
       "                               Rating                    \n",
       "                                 mean  min  max       std\n",
       "Restaurant                                               \n",
       "10 Downing Street                3.80  1.0  5.0  1.091751\n",
       "13 Dhaba                         3.48  1.0  5.0  1.566570\n",
       "3B's - Buddies, Bar & Barbecue   4.76  1.0  5.0  0.830237"
      ]
     },
     "execution_count": 89,
     "metadata": {},
     "output_type": "execute_result"
    }
   ],
   "source": [
    "df.groupby(by=\"Restaurant\").agg({\"Rating\": [\"mean\", \"min\", \"max\", \"std\"]}).head(3)"
   ]
  },
  {
   "cell_type": "markdown",
   "metadata": {
    "id": "IEyExIpwvtLU"
   },
   "source": [
    "Или задать разные способы агреггации для разных колонок"
   ]
  },
  {
   "cell_type": "code",
   "execution_count": 92,
   "metadata": {
    "colab": {
     "base_uri": "https://localhost:8080/",
     "height": 175
    },
    "id": "p3TRaKiuvppM",
    "outputId": "e80ddaba-7619-426a-cd3e-f6840a9fdb2d"
   },
   "outputs": [
    {
     "data": {
      "text/html": [
       "<div>\n",
       "<style scoped>\n",
       "    .dataframe tbody tr th:only-of-type {\n",
       "        vertical-align: middle;\n",
       "    }\n",
       "\n",
       "    .dataframe tbody tr th {\n",
       "        vertical-align: top;\n",
       "    }\n",
       "\n",
       "    .dataframe thead th {\n",
       "        text-align: right;\n",
       "    }\n",
       "</style>\n",
       "<table border=\"1\" class=\"dataframe\">\n",
       "  <thead>\n",
       "    <tr style=\"text-align: right;\">\n",
       "      <th></th>\n",
       "      <th>Rating</th>\n",
       "      <th>Review</th>\n",
       "    </tr>\n",
       "    <tr>\n",
       "      <th>Restaurant</th>\n",
       "      <th></th>\n",
       "      <th></th>\n",
       "    </tr>\n",
       "  </thead>\n",
       "  <tbody>\n",
       "    <tr>\n",
       "      <th>10 Downing Street</th>\n",
       "      <td>3.80</td>\n",
       "      <td>[I've been to this place about two times and i...</td>\n",
       "    </tr>\n",
       "    <tr>\n",
       "      <th>13 Dhaba</th>\n",
       "      <td>3.48</td>\n",
       "      <td>[I didn't go and eat at the Dhaba.\\nI had orde...</td>\n",
       "    </tr>\n",
       "    <tr>\n",
       "      <th>3B's - Buddies, Bar &amp; Barbecue</th>\n",
       "      <td>4.76</td>\n",
       "      <td>[We go their for a team dinner.The name of the...</td>\n",
       "    </tr>\n",
       "  </tbody>\n",
       "</table>\n",
       "</div>"
      ],
      "text/plain": [
       "                                Rating  \\\n",
       "Restaurant                               \n",
       "10 Downing Street                 3.80   \n",
       "13 Dhaba                          3.48   \n",
       "3B's - Buddies, Bar & Barbecue    4.76   \n",
       "\n",
       "                                                                           Review  \n",
       "Restaurant                                                                         \n",
       "10 Downing Street               [I've been to this place about two times and i...  \n",
       "13 Dhaba                        [I didn't go and eat at the Dhaba.\\nI had orde...  \n",
       "3B's - Buddies, Bar & Barbecue  [We go their for a team dinner.The name of the...  "
      ]
     },
     "execution_count": 92,
     "metadata": {},
     "output_type": "execute_result"
    }
   ],
   "source": [
    "df.groupby(\"Restaurant\").agg(\n",
    "    {\n",
    "        \"Rating\": lambda x: x.mean(),\n",
    "        \"Review\": lambda x: list(x)\n",
    "    }\n",
    ").head(3)"
   ]
  },
  {
   "cell_type": "markdown",
   "metadata": {
    "id": "JDYDVNbowPrr"
   },
   "source": [
    "А как отсортировать по среднему рейтингу?"
   ]
  },
  {
   "cell_type": "code",
   "execution_count": 95,
   "metadata": {
    "colab": {
     "base_uri": "https://localhost:8080/",
     "height": 455
    },
    "id": "6O2NXMgBwSQQ",
    "outputId": "850bc250-731d-42b1-b1e9-448e5254699c"
   },
   "outputs": [
    {
     "data": {
      "text/html": [
       "<div>\n",
       "<style scoped>\n",
       "    .dataframe tbody tr th:only-of-type {\n",
       "        vertical-align: middle;\n",
       "    }\n",
       "\n",
       "    .dataframe tbody tr th {\n",
       "        vertical-align: top;\n",
       "    }\n",
       "\n",
       "    .dataframe thead th {\n",
       "        text-align: right;\n",
       "    }\n",
       "</style>\n",
       "<table border=\"1\" class=\"dataframe\">\n",
       "  <thead>\n",
       "    <tr style=\"text-align: right;\">\n",
       "      <th></th>\n",
       "      <th>Rating</th>\n",
       "      <th>Pictures</th>\n",
       "      <th>Pics_exist</th>\n",
       "    </tr>\n",
       "    <tr>\n",
       "      <th>Restaurant</th>\n",
       "      <th></th>\n",
       "      <th></th>\n",
       "      <th></th>\n",
       "    </tr>\n",
       "  </thead>\n",
       "  <tbody>\n",
       "    <tr>\n",
       "      <th>AB's - Absolute Barbecues</th>\n",
       "      <td>4.880</td>\n",
       "      <td>0.24</td>\n",
       "      <td>0.07</td>\n",
       "    </tr>\n",
       "    <tr>\n",
       "      <th>B-Dubs</th>\n",
       "      <td>4.810</td>\n",
       "      <td>0.16</td>\n",
       "      <td>0.11</td>\n",
       "    </tr>\n",
       "    <tr>\n",
       "      <th>3B's - Buddies, Bar &amp; Barbecue</th>\n",
       "      <td>4.760</td>\n",
       "      <td>0.13</td>\n",
       "      <td>0.07</td>\n",
       "    </tr>\n",
       "    <tr>\n",
       "      <th>Paradise</th>\n",
       "      <td>4.700</td>\n",
       "      <td>0.02</td>\n",
       "      <td>0.02</td>\n",
       "    </tr>\n",
       "    <tr>\n",
       "      <th>Flechazo</th>\n",
       "      <td>4.660</td>\n",
       "      <td>0.55</td>\n",
       "      <td>0.14</td>\n",
       "    </tr>\n",
       "    <tr>\n",
       "      <th>...</th>\n",
       "      <td>...</td>\n",
       "      <td>...</td>\n",
       "      <td>...</td>\n",
       "    </tr>\n",
       "    <tr>\n",
       "      <th>Behrouz Biryani</th>\n",
       "      <td>2.825</td>\n",
       "      <td>0.36</td>\n",
       "      <td>0.23</td>\n",
       "    </tr>\n",
       "    <tr>\n",
       "      <th>Mathura Vilas</th>\n",
       "      <td>2.820</td>\n",
       "      <td>0.31</td>\n",
       "      <td>0.16</td>\n",
       "    </tr>\n",
       "    <tr>\n",
       "      <th>Pakwaan Grand</th>\n",
       "      <td>2.710</td>\n",
       "      <td>0.17</td>\n",
       "      <td>0.10</td>\n",
       "    </tr>\n",
       "    <tr>\n",
       "      <th>Asian Meal Box</th>\n",
       "      <td>2.580</td>\n",
       "      <td>0.17</td>\n",
       "      <td>0.12</td>\n",
       "    </tr>\n",
       "    <tr>\n",
       "      <th>Hotel Zara Hi-Fi</th>\n",
       "      <td>2.400</td>\n",
       "      <td>0.05</td>\n",
       "      <td>0.05</td>\n",
       "    </tr>\n",
       "  </tbody>\n",
       "</table>\n",
       "<p>100 rows × 3 columns</p>\n",
       "</div>"
      ],
      "text/plain": [
       "                                Rating  Pictures  Pics_exist\n",
       "Restaurant                                                  \n",
       "AB's - Absolute Barbecues        4.880      0.24        0.07\n",
       "B-Dubs                           4.810      0.16        0.11\n",
       "3B's - Buddies, Bar & Barbecue   4.760      0.13        0.07\n",
       "Paradise                         4.700      0.02        0.02\n",
       "Flechazo                         4.660      0.55        0.14\n",
       "...                                ...       ...         ...\n",
       "Behrouz Biryani                  2.825      0.36        0.23\n",
       "Mathura Vilas                    2.820      0.31        0.16\n",
       "Pakwaan Grand                    2.710      0.17        0.10\n",
       "Asian Meal Box                   2.580      0.17        0.12\n",
       "Hotel Zara Hi-Fi                 2.400      0.05        0.05\n",
       "\n",
       "[100 rows x 3 columns]"
      ]
     },
     "execution_count": 95,
     "metadata": {},
     "output_type": "execute_result"
    }
   ],
   "source": [
    "df.groupby(by=\"Restaurant\").mean(numeric_only=True).sort_values(by=\"Rating\",\n",
    "                                                                ascending=False)"
   ]
  }
 ],
 "metadata": {
  "colab": {
   "provenance": []
  },
  "kernelspec": {
   "display_name": "Python 3 (ipykernel)",
   "language": "python",
   "name": "python3"
  },
  "language_info": {
   "codemirror_mode": {
    "name": "ipython",
    "version": 3
   },
   "file_extension": ".py",
   "mimetype": "text/x-python",
   "name": "python",
   "nbconvert_exporter": "python",
   "pygments_lexer": "ipython3",
   "version": "3.11.5"
  }
 },
 "nbformat": 4,
 "nbformat_minor": 4
}
