{
 "cells": [
  {
   "cell_type": "markdown",
   "metadata": {
    "id": "PeK-SihUBSbI"
   },
   "source": [
    "# О красоте и удобстве\n",
    "\n",
    "Мы все помним про отдельную кнвенцию о том, как надо писать код – **[PEP-8](https://www.python.org/dev/peps/pep-0008/)**. В PyCharm есть встроенная функция проверки и справа от кода есть полоса, где можно найти советы и исправления. Плюс к этому есть подчеркивания, при наведении на которые вы тоже можете найти полезные советы.\n",
    "\n",
    "Для Jupyter есть расширения для проверки PEP-8:"
   ]
  },
  {
   "cell_type": "code",
   "execution_count": 1,
   "metadata": {
    "colab": {
     "base_uri": "https://localhost:8080/"
    },
    "id": "dZe45PAEBSbI",
    "outputId": "338a8d10-2d70-493a-982d-b7b1442fa280"
   },
   "outputs": [],
   "source": [
    "!pip3 install pycodestyle flake8 pycodestyle_magic --q"
   ]
  },
  {
   "cell_type": "markdown",
   "metadata": {
    "id": "M2Pc5nEVBSbK"
   },
   "source": [
    "Импортируем и активируем модуль проверки"
   ]
  },
  {
   "cell_type": "code",
   "execution_count": 4,
   "metadata": {
    "id": "WOS7kTHYBSbK"
   },
   "outputs": [],
   "source": [
    "%load_ext pycodestyle_magic\n",
    "%pycodestyle_on"
   ]
  },
  {
   "cell_type": "code",
   "execution_count": 5,
   "metadata": {
    "colab": {
     "base_uri": "https://localhost:8080/"
    },
    "id": "wjKoNyS5BSbL",
    "outputId": "ad613850-c0a5-4310-fcf6-a8fdad0528b3"
   },
   "outputs": [
    {
     "name": "stderr",
     "output_type": "stream",
     "text": [
      "1:80: E501 line too long (111 > 79 characters)\n"
     ]
    }
   ],
   "source": [
    "name = 'this is very very very very very very very very very very very very very very very very very long line'"
   ]
  },
  {
   "cell_type": "code",
   "execution_count": 6,
   "metadata": {
    "colab": {
     "base_uri": "https://localhost:8080/"
    },
    "id": "GjNqauFwBSbM",
    "outputId": "0a34a3db-16a9-429c-f5e0-f28080e6c018"
   },
   "outputs": [
    {
     "name": "stderr",
     "output_type": "stream",
     "text": [
      "1:2: E225 missing whitespace around operator\n"
     ]
    }
   ],
   "source": [
    "t=5+3"
   ]
  },
  {
   "cell_type": "code",
   "execution_count": 7,
   "metadata": {
    "id": "fqrrX9vxBSbN"
   },
   "outputs": [],
   "source": [
    "t = 5 + 3"
   ]
  },
  {
   "cell_type": "markdown",
   "metadata": {
    "id": "_xpQfgBTKQZN"
   },
   "source": [
    "# **Pandas**\n",
    "\n",
    "Pandas – это библиотека для удобной работы с данными, в основном – с таблицами. В библиотеке есть много методов, которые нужны для чтения данных в разном формате, взаимодействия с базами данных и для разных манипуляций, которые часто нужны в процессе работы.\n",
    "\n",
    "Документация есть [здесь по-английски](https://pandas.pydata.org/docs/index.html) и [pдесь по-русски](http://pandas.geekwriter.ru/getting_started/index.html).\n",
    "\n",
    "Чтобы сократить число символов, часто при импорте `pandas` заменяют просто на `pd`."
   ]
  },
  {
   "cell_type": "code",
   "execution_count": 9,
   "metadata": {
    "id": "U5G-6WuQKQZP"
   },
   "outputs": [],
   "source": [
    "import pandas as pd"
   ]
  },
  {
   "cell_type": "markdown",
   "metadata": {
    "id": "Fo3l2Xt1YLNe"
   },
   "source": [
    "## *Создание массивов*\n",
    "В библиотеке pandas определены два класса объектов для работы с данными:\n",
    "* `Series` — одномерный массив, который может хранить значения любого типа данных;\n",
    "* `DataFrame` — двумерный массив (таблица), в котором столбцами являются объекты класса `Series`.\n",
    "\n",
    "Создать объект класса `Series` можно следующим образом:\n",
    "\n",
    "\n",
    "\n",
    "```python\n",
    "s = pd.Series(data, index=index)\n",
    "```\n",
    "\n",
    "В качестве `data` могут выступать: массивы, словари, числа. В аргумент `index` передаётся список меток осей. Метка может быть числом, но чаще используются метки-строки.\n",
    "\n",
    "Если `data` является массивом, то `index` должен иметь такую же длину, как и `data`. Если аргумент `index` не передаётся, то по умолчанию для `index` автоматически назначается список `[0, ..., len(data) - 1]`:"
   ]
  },
  {
   "cell_type": "code",
   "execution_count": 17,
   "metadata": {
    "colab": {
     "base_uri": "https://localhost:8080/"
    },
    "id": "64HwuBe3YYlT",
    "outputId": "0b42985c-b1ae-41ca-bfaa-2e245163b88f"
   },
   "outputs": [
    {
     "name": "stdout",
     "output_type": "stream",
     "text": [
      "a    0\n",
      "b    1\n",
      "c    2\n",
      "d    3\n",
      "e    4\n",
      "dtype: int64\n",
      "\n",
      "0    1\n",
      "1    3\n",
      "2    5\n",
      "3    7\n",
      "4    9\n",
      "dtype: int64\n"
     ]
    }
   ],
   "source": [
    "s_1 = pd.Series(range(5), index=['a', 'b', 'c', 'd', 'e'])\n",
    "print(s_1, end='\\n\\n')\n",
    "s_2 = pd.Series(range(1, 10, 2))\n",
    "print(s_2)"
   ]
  },
  {
   "cell_type": "markdown",
   "metadata": {
    "id": "lTwshP4-Z8_E"
   },
   "source": [
    "`Series` фактически является аналогом словаря, так как вместо числовых индексов может использовать метки в виде строк.\n",
    "\n",
    "Если `data` задаётся словарём, а `index` не передаётся, то в качестве индекса используются ключи-словари. Если `index` передаётся, то его длина может не совпадать с длиной словаря `data`. В таком случае по индексам, для которых нет ключа с соответствующим значением в словаре, будут храниться значения `NaN` — стандартное обозначение отсутствия данных в библиотеке pandas."
   ]
  },
  {
   "cell_type": "code",
   "execution_count": 22,
   "metadata": {
    "colab": {
     "base_uri": "https://localhost:8080/"
    },
    "id": "jTA0k5MqaHoR",
    "outputId": "f3b85b92-9203-4e25-99ea-140315c7e202"
   },
   "outputs": [
    {
     "name": "stdout",
     "output_type": "stream",
     "text": [
      "a    10\n",
      "b    20\n",
      "c    30\n",
      "d    40\n",
      "dtype: int64\n",
      "\n",
      "a    10.0\n",
      "b    20.0\n",
      "c    30.0\n",
      "d    40.0\n",
      "e     NaN\n",
      "dtype: float64\n"
     ]
    }
   ],
   "source": [
    "d_1 = pd.Series({'a': 10, 'b': 20, 'c': 30, 'd': 40})\n",
    "print(d_1, end='\\n\\n')\n",
    "\n",
    "d_2 = pd.Series(\n",
    "    {'a': 10, 'b': 20, 'c': 30, 'd': 40},\n",
    "    index=['a', 'b', 'c', 'd', 'e']\n",
    "    )\n",
    "print(d_2)"
   ]
  },
  {
   "cell_type": "markdown",
   "metadata": {
    "id": "jZzN3n31KQZQ"
   },
   "source": [
    "### Создание таблиц\n",
    "\n",
    "Теперь посмотрим, как выглядят таблицы (объекты) в pandas на примере небольших таблиц, созданных вручную.\n",
    "\n",
    "Есть специальный объект типа `DataFrame` и мы туда передаем информацию о данных, которые у нас есть. Это может быть разный вид, например:\n",
    "\n",
    "1. Словарь, где ключ - название будущего столбца, а значение - это список значений.\n",
    "2. Список словарей, где одна запись - это отдельная строка таблицы, где ключи - это параметры (название столбца).\n",
    "3. Список списков (или кортежей), где каждый элемент - это одна строка таблицы. В этом случае названия стобцов задаются отдельно."
   ]
  },
  {
   "cell_type": "code",
   "execution_count": 26,
   "metadata": {
    "colab": {
     "base_uri": "https://localhost:8080/",
     "height": 174
    },
    "id": "_cSrBTMqKQZQ",
    "outputId": "ab64d947-5f4f-4757-e915-33b0ea819843"
   },
   "outputs": [
    {
     "data": {
      "text/html": [
       "<div>\n",
       "<style scoped>\n",
       "    .dataframe tbody tr th:only-of-type {\n",
       "        vertical-align: middle;\n",
       "    }\n",
       "\n",
       "    .dataframe tbody tr th {\n",
       "        vertical-align: top;\n",
       "    }\n",
       "\n",
       "    .dataframe thead th {\n",
       "        text-align: right;\n",
       "    }\n",
       "</style>\n",
       "<table border=\"1\" class=\"dataframe\">\n",
       "  <thead>\n",
       "    <tr style=\"text-align: right;\">\n",
       "      <th></th>\n",
       "      <th>name</th>\n",
       "      <th>age</th>\n",
       "      <th>height</th>\n",
       "    </tr>\n",
       "  </thead>\n",
       "  <tbody>\n",
       "    <tr>\n",
       "      <th>0</th>\n",
       "      <td>Mary</td>\n",
       "      <td>25</td>\n",
       "      <td>175</td>\n",
       "    </tr>\n",
       "    <tr>\n",
       "      <th>1</th>\n",
       "      <td>Jane</td>\n",
       "      <td>14</td>\n",
       "      <td>168</td>\n",
       "    </tr>\n",
       "    <tr>\n",
       "      <th>2</th>\n",
       "      <td>Ivan</td>\n",
       "      <td>34</td>\n",
       "      <td>185</td>\n",
       "    </tr>\n",
       "    <tr>\n",
       "      <th>3</th>\n",
       "      <td>Mark</td>\n",
       "      <td>78</td>\n",
       "      <td>170</td>\n",
       "    </tr>\n",
       "  </tbody>\n",
       "</table>\n",
       "</div>"
      ],
      "text/plain": [
       "   name  age  height\n",
       "0  Mary   25     175\n",
       "1  Jane   14     168\n",
       "2  Ivan   34     185\n",
       "3  Mark   78     170"
      ]
     },
     "execution_count": 26,
     "metadata": {},
     "output_type": "execute_result"
    }
   ],
   "source": [
    "data = {\n",
    "    'name': ['Mary', 'Jane', 'Ivan', 'Mark'],\n",
    "    'age': [25, 14, 34, 78],\n",
    "    'height': [175, 168, 185, 170]\n",
    "    }\n",
    "\n",
    "df = pd.DataFrame(data)\n",
    "df"
   ]
  },
  {
   "cell_type": "code",
   "execution_count": 28,
   "metadata": {
    "colab": {
     "base_uri": "https://localhost:8080/",
     "height": 174
    },
    "id": "dx44vx9eKQZR",
    "outputId": "09b8768f-2501-4a67-dc0a-8c842d429f6c"
   },
   "outputs": [
    {
     "data": {
      "text/html": [
       "<div>\n",
       "<style scoped>\n",
       "    .dataframe tbody tr th:only-of-type {\n",
       "        vertical-align: middle;\n",
       "    }\n",
       "\n",
       "    .dataframe tbody tr th {\n",
       "        vertical-align: top;\n",
       "    }\n",
       "\n",
       "    .dataframe thead th {\n",
       "        text-align: right;\n",
       "    }\n",
       "</style>\n",
       "<table border=\"1\" class=\"dataframe\">\n",
       "  <thead>\n",
       "    <tr style=\"text-align: right;\">\n",
       "      <th></th>\n",
       "      <th>name</th>\n",
       "      <th>age</th>\n",
       "      <th>height</th>\n",
       "    </tr>\n",
       "  </thead>\n",
       "  <tbody>\n",
       "    <tr>\n",
       "      <th>0</th>\n",
       "      <td>Mary</td>\n",
       "      <td>25</td>\n",
       "      <td>175</td>\n",
       "    </tr>\n",
       "    <tr>\n",
       "      <th>1</th>\n",
       "      <td>Jane</td>\n",
       "      <td>14</td>\n",
       "      <td>168</td>\n",
       "    </tr>\n",
       "    <tr>\n",
       "      <th>2</th>\n",
       "      <td>Ivan</td>\n",
       "      <td>34</td>\n",
       "      <td>185</td>\n",
       "    </tr>\n",
       "    <tr>\n",
       "      <th>3</th>\n",
       "      <td>Mark</td>\n",
       "      <td>78</td>\n",
       "      <td>170</td>\n",
       "    </tr>\n",
       "  </tbody>\n",
       "</table>\n",
       "</div>"
      ],
      "text/plain": [
       "   name  age  height\n",
       "0  Mary   25     175\n",
       "1  Jane   14     168\n",
       "2  Ivan   34     185\n",
       "3  Mark   78     170"
      ]
     },
     "execution_count": 28,
     "metadata": {},
     "output_type": "execute_result"
    }
   ],
   "source": [
    "data = [\n",
    "    {'name': 'Mary', 'age': 25, 'height': 175},\n",
    "    {'name': 'Jane', 'age': 14, 'height': 168},\n",
    "    {'name': 'Ivan', 'age': 34, 'height': 185},\n",
    "    {'name': 'Mark', 'age': 78, 'height': 170}\n",
    "    ]\n",
    "\n",
    "df = pd.DataFrame(data)\n",
    "df"
   ]
  },
  {
   "cell_type": "code",
   "execution_count": 30,
   "metadata": {
    "colab": {
     "base_uri": "https://localhost:8080/",
     "height": 174
    },
    "id": "G-FMH6vZKQZR",
    "outputId": "b908b472-c780-4a92-b93b-af70dbf01687"
   },
   "outputs": [
    {
     "data": {
      "text/html": [
       "<div>\n",
       "<style scoped>\n",
       "    .dataframe tbody tr th:only-of-type {\n",
       "        vertical-align: middle;\n",
       "    }\n",
       "\n",
       "    .dataframe tbody tr th {\n",
       "        vertical-align: top;\n",
       "    }\n",
       "\n",
       "    .dataframe thead th {\n",
       "        text-align: right;\n",
       "    }\n",
       "</style>\n",
       "<table border=\"1\" class=\"dataframe\">\n",
       "  <thead>\n",
       "    <tr style=\"text-align: right;\">\n",
       "      <th></th>\n",
       "      <th>name</th>\n",
       "      <th>age</th>\n",
       "      <th>height</th>\n",
       "    </tr>\n",
       "  </thead>\n",
       "  <tbody>\n",
       "    <tr>\n",
       "      <th>0</th>\n",
       "      <td>Mary</td>\n",
       "      <td>25</td>\n",
       "      <td>175</td>\n",
       "    </tr>\n",
       "    <tr>\n",
       "      <th>1</th>\n",
       "      <td>Jane</td>\n",
       "      <td>14</td>\n",
       "      <td>168</td>\n",
       "    </tr>\n",
       "    <tr>\n",
       "      <th>2</th>\n",
       "      <td>Ivan</td>\n",
       "      <td>34</td>\n",
       "      <td>185</td>\n",
       "    </tr>\n",
       "    <tr>\n",
       "      <th>3</th>\n",
       "      <td>Mark</td>\n",
       "      <td>78</td>\n",
       "      <td>170</td>\n",
       "    </tr>\n",
       "  </tbody>\n",
       "</table>\n",
       "</div>"
      ],
      "text/plain": [
       "   name  age  height\n",
       "0  Mary   25     175\n",
       "1  Jane   14     168\n",
       "2  Ivan   34     185\n",
       "3  Mark   78     170"
      ]
     },
     "execution_count": 30,
     "metadata": {},
     "output_type": "execute_result"
    }
   ],
   "source": [
    "data = [\n",
    "    ['Mary', 25, 175],\n",
    "    ['Jane', 14, 168],\n",
    "    ['Ivan', 34, 185],\n",
    "    ['Mark', 78, 170]\n",
    "    ]\n",
    "\n",
    "df = pd.DataFrame(data, columns=['name', 'age', 'height'])\n",
    "df"
   ]
  },
  {
   "cell_type": "markdown",
   "metadata": {
    "id": "pttp8YCrKQZR"
   },
   "source": [
    "Метод `rename` позволяет переименовывать `indexes` и `columns`"
   ]
  },
  {
   "cell_type": "code",
   "execution_count": 33,
   "metadata": {
    "colab": {
     "base_uri": "https://localhost:8080/",
     "height": 174
    },
    "id": "DAgcG-G3KQZS",
    "outputId": "4c5ac6c5-9125-4e07-9e5c-529ab6bda9e8"
   },
   "outputs": [
    {
     "data": {
      "text/html": [
       "<div>\n",
       "<style scoped>\n",
       "    .dataframe tbody tr th:only-of-type {\n",
       "        vertical-align: middle;\n",
       "    }\n",
       "\n",
       "    .dataframe tbody tr th {\n",
       "        vertical-align: top;\n",
       "    }\n",
       "\n",
       "    .dataframe thead th {\n",
       "        text-align: right;\n",
       "    }\n",
       "</style>\n",
       "<table border=\"1\" class=\"dataframe\">\n",
       "  <thead>\n",
       "    <tr style=\"text-align: right;\">\n",
       "      <th></th>\n",
       "      <th>col_name</th>\n",
       "      <th>col_age</th>\n",
       "      <th>height</th>\n",
       "    </tr>\n",
       "  </thead>\n",
       "  <tbody>\n",
       "    <tr>\n",
       "      <th>0</th>\n",
       "      <td>Mary</td>\n",
       "      <td>25</td>\n",
       "      <td>175</td>\n",
       "    </tr>\n",
       "    <tr>\n",
       "      <th>1</th>\n",
       "      <td>Jane</td>\n",
       "      <td>14</td>\n",
       "      <td>168</td>\n",
       "    </tr>\n",
       "    <tr>\n",
       "      <th>2</th>\n",
       "      <td>Ivan</td>\n",
       "      <td>34</td>\n",
       "      <td>185</td>\n",
       "    </tr>\n",
       "    <tr>\n",
       "      <th>3</th>\n",
       "      <td>Mark</td>\n",
       "      <td>78</td>\n",
       "      <td>170</td>\n",
       "    </tr>\n",
       "  </tbody>\n",
       "</table>\n",
       "</div>"
      ],
      "text/plain": [
       "  col_name  col_age  height\n",
       "0     Mary       25     175\n",
       "1     Jane       14     168\n",
       "2     Ivan       34     185\n",
       "3     Mark       78     170"
      ]
     },
     "execution_count": 33,
     "metadata": {},
     "output_type": "execute_result"
    }
   ],
   "source": [
    "df.rename(columns={'name': 'col_name', 'age': 'col_age'})"
   ]
  },
  {
   "cell_type": "markdown",
   "metadata": {
    "id": "7v_ZVRYbKQZS"
   },
   "source": [
    "Метод `pd.concat` дает возможность объединить два или больше датафреймов вместе."
   ]
  },
  {
   "cell_type": "code",
   "execution_count": 36,
   "metadata": {
    "colab": {
     "base_uri": "https://localhost:8080/",
     "height": 300
    },
    "id": "w6KPAviCKQZS",
    "outputId": "87e94f4d-e1f4-4c99-fb19-0e0f1b358a2d"
   },
   "outputs": [
    {
     "data": {
      "text/html": [
       "<div>\n",
       "<style scoped>\n",
       "    .dataframe tbody tr th:only-of-type {\n",
       "        vertical-align: middle;\n",
       "    }\n",
       "\n",
       "    .dataframe tbody tr th {\n",
       "        vertical-align: top;\n",
       "    }\n",
       "\n",
       "    .dataframe thead th {\n",
       "        text-align: right;\n",
       "    }\n",
       "</style>\n",
       "<table border=\"1\" class=\"dataframe\">\n",
       "  <thead>\n",
       "    <tr style=\"text-align: right;\">\n",
       "      <th></th>\n",
       "      <th>name</th>\n",
       "      <th>age</th>\n",
       "      <th>height</th>\n",
       "    </tr>\n",
       "  </thead>\n",
       "  <tbody>\n",
       "    <tr>\n",
       "      <th>0</th>\n",
       "      <td>Mary</td>\n",
       "      <td>25</td>\n",
       "      <td>175</td>\n",
       "    </tr>\n",
       "    <tr>\n",
       "      <th>1</th>\n",
       "      <td>Jane</td>\n",
       "      <td>14</td>\n",
       "      <td>168</td>\n",
       "    </tr>\n",
       "    <tr>\n",
       "      <th>2</th>\n",
       "      <td>Ivan</td>\n",
       "      <td>34</td>\n",
       "      <td>185</td>\n",
       "    </tr>\n",
       "    <tr>\n",
       "      <th>3</th>\n",
       "      <td>Mark</td>\n",
       "      <td>78</td>\n",
       "      <td>170</td>\n",
       "    </tr>\n",
       "    <tr>\n",
       "      <th>4</th>\n",
       "      <td>Mary</td>\n",
       "      <td>25</td>\n",
       "      <td>175</td>\n",
       "    </tr>\n",
       "    <tr>\n",
       "      <th>5</th>\n",
       "      <td>Jane</td>\n",
       "      <td>14</td>\n",
       "      <td>168</td>\n",
       "    </tr>\n",
       "    <tr>\n",
       "      <th>6</th>\n",
       "      <td>Ivan</td>\n",
       "      <td>34</td>\n",
       "      <td>185</td>\n",
       "    </tr>\n",
       "    <tr>\n",
       "      <th>7</th>\n",
       "      <td>Mark</td>\n",
       "      <td>78</td>\n",
       "      <td>170</td>\n",
       "    </tr>\n",
       "  </tbody>\n",
       "</table>\n",
       "</div>"
      ],
      "text/plain": [
       "   name  age  height\n",
       "0  Mary   25     175\n",
       "1  Jane   14     168\n",
       "2  Ivan   34     185\n",
       "3  Mark   78     170\n",
       "4  Mary   25     175\n",
       "5  Jane   14     168\n",
       "6  Ivan   34     185\n",
       "7  Mark   78     170"
      ]
     },
     "execution_count": 36,
     "metadata": {},
     "output_type": "execute_result"
    }
   ],
   "source": [
    "pd.concat([df, df], ignore_index=True)  # игнорируем индексы"
   ]
  },
  {
   "cell_type": "markdown",
   "metadata": {
    "id": "3SGYjwwnKQZS"
   },
   "source": [
    "## Чтение данных\n",
    "\n",
    "Обычно табличные данные хранятся в файлах. Такие наборы данных принято называть дата-сетами. Файлы с дата-сетом могут иметь различный формат. Pandas поддерживает операции чтения и записи для CSV, Excel 2007+, SQL, HTML, JSON, буфер обмена и др.\n",
    "\n",
    "Несколько примеров, как получить дата-сет из файлов разных форматов:\n",
    "\n",
    "* **CSV**. Используется функция `read_csv()`. Аргумент `file` является строкой, в которой записан путь до файла с дата-сетом. Для записи данных из `DataFrame` в CSV-файл используется метод `to_csv(file)`.\n",
    "* **Excel**. Используется функция `read_excel()`. Для записи данных из `DataFrame` в Excel-файл используется метод `to_excel()`.\n",
    "* **JSON**. Используется функция `read_json()`. Для записи данных из DataFrame в JSON используется метод `to_json()`.\n",
    "* **Онлайн-таблицы** (на страницах сайта). Используется функция `read_ html()`.\n",
    "\n",
    "Рассмотрим эти несколько основных способов прочитать данные."
   ]
  },
  {
   "cell_type": "code",
   "execution_count": 45,
   "metadata": {},
   "outputs": [],
   "source": [
    "!pip install wget --q"
   ]
  },
  {
   "cell_type": "code",
   "execution_count": 49,
   "metadata": {
    "id": "nPMyqVDqoTx9"
   },
   "outputs": [
    {
     "data": {
      "text/plain": [
       "'example.csv'"
      ]
     },
     "execution_count": 49,
     "metadata": {},
     "output_type": "execute_result"
    },
    {
     "name": "stderr",
     "output_type": "stream",
     "text": [
      "4:80: E501 line too long (99 > 79 characters)\n"
     ]
    }
   ],
   "source": [
    "import wget\n",
    "\n",
    "\n",
    "wget.download('https://raw.githubusercontent.com/KatiaKozlova/files/main/57-10/pandas/example.csv')"
   ]
  },
  {
   "cell_type": "code",
   "execution_count": 51,
   "metadata": {
    "colab": {
     "base_uri": "https://localhost:8080/",
     "height": 112
    },
    "id": "OyYg4Lr-KQZT",
    "outputId": "bdd8cec9-88d0-496b-efd5-29e3ca5773be"
   },
   "outputs": [
    {
     "data": {
      "text/html": [
       "<div>\n",
       "<style scoped>\n",
       "    .dataframe tbody tr th:only-of-type {\n",
       "        vertical-align: middle;\n",
       "    }\n",
       "\n",
       "    .dataframe tbody tr th {\n",
       "        vertical-align: top;\n",
       "    }\n",
       "\n",
       "    .dataframe thead th {\n",
       "        text-align: right;\n",
       "    }\n",
       "</style>\n",
       "<table border=\"1\" class=\"dataframe\">\n",
       "  <thead>\n",
       "    <tr style=\"text-align: right;\">\n",
       "      <th></th>\n",
       "      <th>name</th>\n",
       "      <th>age</th>\n",
       "    </tr>\n",
       "  </thead>\n",
       "  <tbody>\n",
       "    <tr>\n",
       "      <th>0</th>\n",
       "      <td>Mary</td>\n",
       "      <td>25</td>\n",
       "    </tr>\n",
       "    <tr>\n",
       "      <th>1</th>\n",
       "      <td>Ivan</td>\n",
       "      <td>34</td>\n",
       "    </tr>\n",
       "  </tbody>\n",
       "</table>\n",
       "</div>"
      ],
      "text/plain": [
       "   name  age\n",
       "0  Mary   25\n",
       "1  Ivan   34"
      ]
     },
     "execution_count": 51,
     "metadata": {},
     "output_type": "execute_result"
    }
   ],
   "source": [
    "df = pd.read_csv('example.csv', sep='\\t')  # разделитель табуляция\n",
    "df"
   ]
  },
  {
   "cell_type": "code",
   "execution_count": 55,
   "metadata": {
    "id": "DBtAt4nso2J3"
   },
   "outputs": [
    {
     "data": {
      "text/plain": [
       "'example.xlsx'"
      ]
     },
     "execution_count": 55,
     "metadata": {},
     "output_type": "execute_result"
    },
    {
     "name": "stderr",
     "output_type": "stream",
     "text": [
      "1:80: E501 line too long (89 > 79 characters)\n"
     ]
    }
   ],
   "source": [
    "wget.download('https://github.com/KatiaKozlova/files/raw/main/57-10/pandas/example.xlsx')"
   ]
  },
  {
   "cell_type": "code",
   "execution_count": 56,
   "metadata": {
    "colab": {
     "base_uri": "https://localhost:8080/",
     "height": 112
    },
    "id": "lnjlU1QWKQZT",
    "outputId": "2febc2ec-4c9e-49e0-8914-f4fa6e189f31"
   },
   "outputs": [
    {
     "data": {
      "text/html": [
       "<div>\n",
       "<style scoped>\n",
       "    .dataframe tbody tr th:only-of-type {\n",
       "        vertical-align: middle;\n",
       "    }\n",
       "\n",
       "    .dataframe tbody tr th {\n",
       "        vertical-align: top;\n",
       "    }\n",
       "\n",
       "    .dataframe thead th {\n",
       "        text-align: right;\n",
       "    }\n",
       "</style>\n",
       "<table border=\"1\" class=\"dataframe\">\n",
       "  <thead>\n",
       "    <tr style=\"text-align: right;\">\n",
       "      <th></th>\n",
       "      <th>name</th>\n",
       "      <th>age</th>\n",
       "    </tr>\n",
       "  </thead>\n",
       "  <tbody>\n",
       "    <tr>\n",
       "      <th>0</th>\n",
       "      <td>Mary</td>\n",
       "      <td>25</td>\n",
       "    </tr>\n",
       "    <tr>\n",
       "      <th>1</th>\n",
       "      <td>Ivan</td>\n",
       "      <td>34</td>\n",
       "    </tr>\n",
       "  </tbody>\n",
       "</table>\n",
       "</div>"
      ],
      "text/plain": [
       "   name  age\n",
       "0  Mary   25\n",
       "1  Ivan   34"
      ]
     },
     "execution_count": 56,
     "metadata": {},
     "output_type": "execute_result"
    }
   ],
   "source": [
    "df = pd.read_excel(\"example.xlsx\", sheet_name=\"example\")\n",
    "df"
   ]
  },
  {
   "cell_type": "code",
   "execution_count": 59,
   "metadata": {
    "colab": {
     "base_uri": "https://localhost:8080/",
     "height": 493
    },
    "id": "wA5c5SObKQZU",
    "outputId": "67badca0-ef27-4399-bf75-c36ad20d9738"
   },
   "outputs": [
    {
     "data": {
      "text/html": [
       "<div>\n",
       "<style scoped>\n",
       "    .dataframe tbody tr th:only-of-type {\n",
       "        vertical-align: middle;\n",
       "    }\n",
       "\n",
       "    .dataframe tbody tr th {\n",
       "        vertical-align: top;\n",
       "    }\n",
       "\n",
       "    .dataframe thead th {\n",
       "        text-align: right;\n",
       "    }\n",
       "</style>\n",
       "<table border=\"1\" class=\"dataframe\">\n",
       "  <thead>\n",
       "    <tr style=\"text-align: right;\">\n",
       "      <th></th>\n",
       "      <th>Conventional Gloss</th>\n",
       "      <th>Variants</th>\n",
       "      <th>Meaning</th>\n",
       "      <th>Reference</th>\n",
       "    </tr>\n",
       "  </thead>\n",
       "  <tbody>\n",
       "    <tr>\n",
       "      <th>0</th>\n",
       "      <td>NaN</td>\n",
       "      <td>-A</td>\n",
       "      <td>athematic (TAMA athematic tense-aspect-mood, A...</td>\n",
       "      <td>[43]</td>\n",
       "    </tr>\n",
       "    <tr>\n",
       "      <th>1</th>\n",
       "      <td>NaN</td>\n",
       "      <td>A-</td>\n",
       "      <td>associating (prefix on case abbreviation)</td>\n",
       "      <td>[24]</td>\n",
       "    </tr>\n",
       "    <tr>\n",
       "      <th>2</th>\n",
       "      <td>NaN</td>\n",
       "      <td>AA</td>\n",
       "      <td>addressee authority (cf. SA)</td>\n",
       "      <td>[21]</td>\n",
       "    </tr>\n",
       "    <tr>\n",
       "      <th>3</th>\n",
       "      <td>NaN</td>\n",
       "      <td>AB</td>\n",
       "      <td>from. May be equivalent to ABESS or ABL. Compo...</td>\n",
       "      <td>[citation needed]</td>\n",
       "    </tr>\n",
       "    <tr>\n",
       "      <th>4</th>\n",
       "      <td>NaN</td>\n",
       "      <td>AB, ABV[citation needed]</td>\n",
       "      <td>above deictic center</td>\n",
       "      <td>[44]</td>\n",
       "    </tr>\n",
       "    <tr>\n",
       "      <th>...</th>\n",
       "      <td>...</td>\n",
       "      <td>...</td>\n",
       "      <td>...</td>\n",
       "      <td>...</td>\n",
       "    </tr>\n",
       "    <tr>\n",
       "      <th>1040</th>\n",
       "      <td>NaN</td>\n",
       "      <td>WP, WPST</td>\n",
       "      <td>witnessed past</td>\n",
       "      <td>[81][101]</td>\n",
       "    </tr>\n",
       "    <tr>\n",
       "      <th>1041</th>\n",
       "      <td>X</td>\n",
       "      <td>?</td>\n",
       "      <td>(unidentified morpheme)</td>\n",
       "      <td>[32][31]</td>\n",
       "    </tr>\n",
       "    <tr>\n",
       "      <th>1042</th>\n",
       "      <td>NaN</td>\n",
       "      <td>YNQ, PQ, P.INT, PI</td>\n",
       "      <td>yes–no question, polar question/interrogative ...</td>\n",
       "      <td>[136][16][19][1]</td>\n",
       "    </tr>\n",
       "    <tr>\n",
       "      <th>1043</th>\n",
       "      <td>NaN</td>\n",
       "      <td>-Z</td>\n",
       "      <td>-(al)izer (e.g. ADJZ adjectivizer, NZ nominali...</td>\n",
       "      <td>NaN</td>\n",
       "    </tr>\n",
       "    <tr>\n",
       "      <th>1044</th>\n",
       "      <td>ZO</td>\n",
       "      <td>NaN</td>\n",
       "      <td>zoic gender (animals)</td>\n",
       "      <td>[137]</td>\n",
       "    </tr>\n",
       "  </tbody>\n",
       "</table>\n",
       "<p>1045 rows × 4 columns</p>\n",
       "</div>"
      ],
      "text/plain": [
       "     Conventional Gloss                  Variants  \\\n",
       "0                   NaN                        -A   \n",
       "1                   NaN                        A-   \n",
       "2                   NaN                        AA   \n",
       "3                   NaN                        AB   \n",
       "4                   NaN  AB, ABV[citation needed]   \n",
       "...                 ...                       ...   \n",
       "1040                NaN                  WP, WPST   \n",
       "1041                  X                         ?   \n",
       "1042                NaN        YNQ, PQ, P.INT, PI   \n",
       "1043                NaN                        -Z   \n",
       "1044                 ZO                       NaN   \n",
       "\n",
       "                                                Meaning          Reference  \n",
       "0     athematic (TAMA athematic tense-aspect-mood, A...               [43]  \n",
       "1             associating (prefix on case abbreviation)               [24]  \n",
       "2                          addressee authority (cf. SA)               [21]  \n",
       "3     from. May be equivalent to ABESS or ABL. Compo...  [citation needed]  \n",
       "4                                  above deictic center               [44]  \n",
       "...                                                 ...                ...  \n",
       "1040                                     witnessed past          [81][101]  \n",
       "1041                            (unidentified morpheme)           [32][31]  \n",
       "1042  yes–no question, polar question/interrogative ...   [136][16][19][1]  \n",
       "1043  -(al)izer (e.g. ADJZ adjectivizer, NZ nominali...                NaN  \n",
       "1044                              zoic gender (animals)              [137]  \n",
       "\n",
       "[1045 rows x 4 columns]"
      ]
     },
     "execution_count": 59,
     "metadata": {},
     "output_type": "execute_result"
    }
   ],
   "source": [
    "site = 'https://en.wikipedia.org/wiki/List_of_glossing_abbreviations'\n",
    "df = pd.read_html(site)[1]\n",
    "df"
   ]
  },
  {
   "cell_type": "code",
   "execution_count": 180,
   "metadata": {
    "id": "rsxdwW3hKQZU"
   },
   "outputs": [
    {
     "name": "stderr",
     "output_type": "stream",
     "text": [
      "1:80: E501 line too long (84 > 79 characters)\n"
     ]
    }
   ],
   "source": [
    "site = 'https://raw.githubusercontent.com/cldf-datasets/wals/master/raw/country.csv'\n",
    "df = pd.read_csv(site)"
   ]
  },
  {
   "cell_type": "markdown",
   "metadata": {
    "id": "nmaQtmrjKQZU"
   },
   "source": [
    "Верхушка датафрейма (по умолчанию 5):"
   ]
  },
  {
   "cell_type": "code",
   "execution_count": 182,
   "metadata": {
    "colab": {
     "base_uri": "https://localhost:8080/",
     "height": 143
    },
    "id": "aeVtS0eGKQZU",
    "outputId": "1cd9a075-499d-4fc1-869d-e6c981501ecd"
   },
   "outputs": [
    {
     "data": {
      "text/html": [
       "<div>\n",
       "<style scoped>\n",
       "    .dataframe tbody tr th:only-of-type {\n",
       "        vertical-align: middle;\n",
       "    }\n",
       "\n",
       "    .dataframe tbody tr th {\n",
       "        vertical-align: top;\n",
       "    }\n",
       "\n",
       "    .dataframe thead th {\n",
       "        text-align: right;\n",
       "    }\n",
       "</style>\n",
       "<table border=\"1\" class=\"dataframe\">\n",
       "  <thead>\n",
       "    <tr style=\"text-align: right;\">\n",
       "      <th></th>\n",
       "      <th>pk</th>\n",
       "      <th>jsondata</th>\n",
       "      <th>id</th>\n",
       "      <th>name</th>\n",
       "      <th>description</th>\n",
       "      <th>markup_description</th>\n",
       "      <th>continent</th>\n",
       "    </tr>\n",
       "  </thead>\n",
       "  <tbody>\n",
       "    <tr>\n",
       "      <th>0</th>\n",
       "      <td>1</td>\n",
       "      <td>NaN</td>\n",
       "      <td>AF</td>\n",
       "      <td>Afghanistan</td>\n",
       "      <td>NaN</td>\n",
       "      <td>NaN</td>\n",
       "      <td>Asia</td>\n",
       "    </tr>\n",
       "    <tr>\n",
       "      <th>1</th>\n",
       "      <td>2</td>\n",
       "      <td>NaN</td>\n",
       "      <td>AL</td>\n",
       "      <td>Albania</td>\n",
       "      <td>NaN</td>\n",
       "      <td>NaN</td>\n",
       "      <td>Europe</td>\n",
       "    </tr>\n",
       "    <tr>\n",
       "      <th>2</th>\n",
       "      <td>3</td>\n",
       "      <td>NaN</td>\n",
       "      <td>DZ</td>\n",
       "      <td>Algeria</td>\n",
       "      <td>NaN</td>\n",
       "      <td>NaN</td>\n",
       "      <td>Africa</td>\n",
       "    </tr>\n",
       "  </tbody>\n",
       "</table>\n",
       "</div>"
      ],
      "text/plain": [
       "   pk  jsondata  id         name  description  markup_description continent\n",
       "0   1       NaN  AF  Afghanistan          NaN                 NaN      Asia\n",
       "1   2       NaN  AL      Albania          NaN                 NaN    Europe\n",
       "2   3       NaN  DZ      Algeria          NaN                 NaN    Africa"
      ]
     },
     "execution_count": 182,
     "metadata": {},
     "output_type": "execute_result"
    }
   ],
   "source": [
    "df.head(3)"
   ]
  },
  {
   "cell_type": "markdown",
   "metadata": {
    "id": "JtX2i8EZKQZU"
   },
   "source": [
    "Конец:"
   ]
  },
  {
   "cell_type": "code",
   "execution_count": 185,
   "metadata": {
    "colab": {
     "base_uri": "https://localhost:8080/",
     "height": 143
    },
    "id": "mu_tGz4pKQZU",
    "outputId": "cfaaf16b-e56a-4a04-a6bf-1423a1853953"
   },
   "outputs": [
    {
     "data": {
      "text/html": [
       "<div>\n",
       "<style scoped>\n",
       "    .dataframe tbody tr th:only-of-type {\n",
       "        vertical-align: middle;\n",
       "    }\n",
       "\n",
       "    .dataframe tbody tr th {\n",
       "        vertical-align: top;\n",
       "    }\n",
       "\n",
       "    .dataframe thead th {\n",
       "        text-align: right;\n",
       "    }\n",
       "</style>\n",
       "<table border=\"1\" class=\"dataframe\">\n",
       "  <thead>\n",
       "    <tr style=\"text-align: right;\">\n",
       "      <th></th>\n",
       "      <th>pk</th>\n",
       "      <th>jsondata</th>\n",
       "      <th>id</th>\n",
       "      <th>name</th>\n",
       "      <th>description</th>\n",
       "      <th>markup_description</th>\n",
       "      <th>continent</th>\n",
       "    </tr>\n",
       "  </thead>\n",
       "  <tbody>\n",
       "    <tr>\n",
       "      <th>189</th>\n",
       "      <td>190</td>\n",
       "      <td>NaN</td>\n",
       "      <td>ZM</td>\n",
       "      <td>Zambia</td>\n",
       "      <td>NaN</td>\n",
       "      <td>NaN</td>\n",
       "      <td>Africa</td>\n",
       "    </tr>\n",
       "    <tr>\n",
       "      <th>190</th>\n",
       "      <td>191</td>\n",
       "      <td>NaN</td>\n",
       "      <td>ZW</td>\n",
       "      <td>Zimbabwe</td>\n",
       "      <td>NaN</td>\n",
       "      <td>NaN</td>\n",
       "      <td>Africa</td>\n",
       "    </tr>\n",
       "    <tr>\n",
       "      <th>191</th>\n",
       "      <td>192</td>\n",
       "      <td>NaN</td>\n",
       "      <td>SS</td>\n",
       "      <td>South Sudan</td>\n",
       "      <td>NaN</td>\n",
       "      <td>NaN</td>\n",
       "      <td>Africa</td>\n",
       "    </tr>\n",
       "  </tbody>\n",
       "</table>\n",
       "</div>"
      ],
      "text/plain": [
       "      pk  jsondata  id         name  description  markup_description continent\n",
       "189  190       NaN  ZM       Zambia          NaN                 NaN    Africa\n",
       "190  191       NaN  ZW     Zimbabwe          NaN                 NaN    Africa\n",
       "191  192       NaN  SS  South Sudan          NaN                 NaN    Africa"
      ]
     },
     "execution_count": 185,
     "metadata": {},
     "output_type": "execute_result"
    }
   ],
   "source": [
    "df.tail(3)"
   ]
  },
  {
   "cell_type": "markdown",
   "metadata": {
    "id": "qc2MAc1dKQZV"
   },
   "source": [
    "С помощью property `shape` -  можно получить размеры `DataFrame`."
   ]
  },
  {
   "cell_type": "code",
   "execution_count": 196,
   "metadata": {
    "colab": {
     "base_uri": "https://localhost:8080/"
    },
    "id": "PVF_KevnKQZV",
    "outputId": "8eb928a9-61c3-41eb-a580-455099002b25"
   },
   "outputs": [
    {
     "data": {
      "text/plain": [
       "(192, 7)"
      ]
     },
     "execution_count": 196,
     "metadata": {},
     "output_type": "execute_result"
    }
   ],
   "source": [
    "df.shape"
   ]
  },
  {
   "cell_type": "markdown",
   "metadata": {
    "id": "ESMZCuCQKQZV"
   },
   "source": [
    "## Сохранение данных\n",
    "\n",
    "Сохраняем данные в текстовом формате (`csv`):"
   ]
  },
  {
   "cell_type": "code",
   "execution_count": 199,
   "metadata": {
    "id": "rySWDbclKQZV"
   },
   "outputs": [],
   "source": [
    "df.to_csv(\"wals_country.csv\", index=None)"
   ]
  },
  {
   "cell_type": "markdown",
   "metadata": {
    "id": "E6Bp8mb1KQZW"
   },
   "source": [
    "Сохраняем данные в бинарном формате Excel (`xlsx`):"
   ]
  },
  {
   "cell_type": "code",
   "execution_count": 202,
   "metadata": {
    "id": "ipihkGMtKQZW"
   },
   "outputs": [],
   "source": [
    "df.to_excel(\"wals_country.xlsx\", index=None)"
   ]
  },
  {
   "cell_type": "markdown",
   "metadata": {
    "id": "0BDpnzi9KQZW"
   },
   "source": [
    "Данные можно сохраняться в разных форматах\n",
    "\n",
    "Текстовые формат `csv` и бинарные форматы: `pickle`, `hdf5`, `feather`, `parquet`, `excel` (не оптимизированный формат)\n",
    "\n",
    "Достоинства бинарных форматов:\n",
    "\n",
    "- быстрота сохранения\\загрузки дынных,\n",
    "- небольшой размер данных на диске\n",
    "\n",
    "[Здесь](https://towardsdatascience.com/the-best-format-to-save-pandas-data-414dca023e0d) можно посмотреть сравнение разных форматов сохранение"
   ]
  },
  {
   "cell_type": "markdown",
   "metadata": {
    "id": "Q8Pex734KQZd"
   },
   "source": [
    "## Манипуляции с данными"
   ]
  },
  {
   "cell_type": "markdown",
   "metadata": {
    "id": "fIyDipAMKQZd"
   },
   "source": [
    "**Фильтрация данных**\n",
    "\n",
    "Можно удалять отдельные строки или столбцы"
   ]
  },
  {
   "cell_type": "code",
   "execution_count": 207,
   "metadata": {
    "colab": {
     "base_uri": "https://localhost:8080/",
     "height": 339
    },
    "id": "ykGlgL06KQZd",
    "outputId": "045b1386-6cf8-4a62-c069-c8f8b8cae30f"
   },
   "outputs": [
    {
     "data": {
      "text/html": [
       "<div>\n",
       "<style scoped>\n",
       "    .dataframe tbody tr th:only-of-type {\n",
       "        vertical-align: middle;\n",
       "    }\n",
       "\n",
       "    .dataframe tbody tr th {\n",
       "        vertical-align: top;\n",
       "    }\n",
       "\n",
       "    .dataframe thead th {\n",
       "        text-align: right;\n",
       "    }\n",
       "</style>\n",
       "<table border=\"1\" class=\"dataframe\">\n",
       "  <thead>\n",
       "    <tr style=\"text-align: right;\">\n",
       "      <th></th>\n",
       "      <th>pk</th>\n",
       "      <th>id</th>\n",
       "      <th>name</th>\n",
       "      <th>markup_description</th>\n",
       "      <th>continent</th>\n",
       "    </tr>\n",
       "  </thead>\n",
       "  <tbody>\n",
       "    <tr>\n",
       "      <th>0</th>\n",
       "      <td>1</td>\n",
       "      <td>AF</td>\n",
       "      <td>Afghanistan</td>\n",
       "      <td>NaN</td>\n",
       "      <td>Asia</td>\n",
       "    </tr>\n",
       "    <tr>\n",
       "      <th>1</th>\n",
       "      <td>2</td>\n",
       "      <td>AL</td>\n",
       "      <td>Albania</td>\n",
       "      <td>NaN</td>\n",
       "      <td>Europe</td>\n",
       "    </tr>\n",
       "  </tbody>\n",
       "</table>\n",
       "</div>"
      ],
      "text/plain": [
       "   pk  id         name  markup_description continent\n",
       "0   1  AF  Afghanistan                 NaN      Asia\n",
       "1   2  AL      Albania                 NaN    Europe"
      ]
     },
     "execution_count": 207,
     "metadata": {},
     "output_type": "execute_result"
    }
   ],
   "source": [
    "df = df.drop([\"jsondata\", \"description\"], axis=1)  # убираем столбцы\n",
    "\n",
    "# проверяем\n",
    "df.head(2)"
   ]
  },
  {
   "cell_type": "markdown",
   "metadata": {
    "id": "qci_0SuwKQZd"
   },
   "source": [
    "Можно удалять те, где есть пропуски"
   ]
  },
  {
   "cell_type": "code",
   "execution_count": 210,
   "metadata": {
    "colab": {
     "base_uri": "https://localhost:8080/",
     "height": 53
    },
    "id": "mDgRzB6UKQZd",
    "outputId": "799f58fc-3129-41a2-ef84-13eb23ff78d9"
   },
   "outputs": [
    {
     "data": {
      "text/html": [
       "<div>\n",
       "<style scoped>\n",
       "    .dataframe tbody tr th:only-of-type {\n",
       "        vertical-align: middle;\n",
       "    }\n",
       "\n",
       "    .dataframe tbody tr th {\n",
       "        vertical-align: top;\n",
       "    }\n",
       "\n",
       "    .dataframe thead th {\n",
       "        text-align: right;\n",
       "    }\n",
       "</style>\n",
       "<table border=\"1\" class=\"dataframe\">\n",
       "  <thead>\n",
       "    <tr style=\"text-align: right;\">\n",
       "      <th></th>\n",
       "      <th>pk</th>\n",
       "      <th>id</th>\n",
       "      <th>name</th>\n",
       "      <th>markup_description</th>\n",
       "      <th>continent</th>\n",
       "    </tr>\n",
       "  </thead>\n",
       "  <tbody>\n",
       "  </tbody>\n",
       "</table>\n",
       "</div>"
      ],
      "text/plain": [
       "Empty DataFrame\n",
       "Columns: [pk, id, name, markup_description, continent]\n",
       "Index: []"
      ]
     },
     "execution_count": 210,
     "metadata": {},
     "output_type": "execute_result"
    }
   ],
   "source": [
    "df.dropna()"
   ]
  },
  {
   "cell_type": "markdown",
   "metadata": {
    "id": "zzV2eE_HKQZe"
   },
   "source": [
    "Здесь во всех строчка в столбца markup_description ничего нет и все удаляется"
   ]
  },
  {
   "cell_type": "code",
   "execution_count": 213,
   "metadata": {
    "colab": {
     "base_uri": "https://localhost:8080/"
    },
    "id": "1bY189pgKQZe",
    "outputId": "62cd0ee2-33a8-429f-9d13-2271bea3ea3a"
   },
   "outputs": [
    {
     "data": {
      "text/plain": [
       "((192, 5), (0, 5))"
      ]
     },
     "execution_count": 213,
     "metadata": {},
     "output_type": "execute_result"
    }
   ],
   "source": [
    "df.shape, df.dropna().shape"
   ]
  },
  {
   "cell_type": "markdown",
   "metadata": {
    "id": "m0H_RXVRKQZe"
   },
   "source": [
    "Удалим столбцы, где все значения пустые"
   ]
  },
  {
   "cell_type": "code",
   "execution_count": 216,
   "metadata": {
    "colab": {
     "base_uri": "https://localhost:8080/",
     "height": 206
    },
    "id": "rqzcJ74iKQZe",
    "outputId": "54518f44-c1a3-40c7-8343-34e14e581e80"
   },
   "outputs": [
    {
     "data": {
      "text/html": [
       "<div>\n",
       "<style scoped>\n",
       "    .dataframe tbody tr th:only-of-type {\n",
       "        vertical-align: middle;\n",
       "    }\n",
       "\n",
       "    .dataframe tbody tr th {\n",
       "        vertical-align: top;\n",
       "    }\n",
       "\n",
       "    .dataframe thead th {\n",
       "        text-align: right;\n",
       "    }\n",
       "</style>\n",
       "<table border=\"1\" class=\"dataframe\">\n",
       "  <thead>\n",
       "    <tr style=\"text-align: right;\">\n",
       "      <th></th>\n",
       "      <th>pk</th>\n",
       "      <th>id</th>\n",
       "      <th>name</th>\n",
       "      <th>continent</th>\n",
       "    </tr>\n",
       "  </thead>\n",
       "  <tbody>\n",
       "    <tr>\n",
       "      <th>0</th>\n",
       "      <td>1</td>\n",
       "      <td>AF</td>\n",
       "      <td>Afghanistan</td>\n",
       "      <td>Asia</td>\n",
       "    </tr>\n",
       "    <tr>\n",
       "      <th>1</th>\n",
       "      <td>2</td>\n",
       "      <td>AL</td>\n",
       "      <td>Albania</td>\n",
       "      <td>Europe</td>\n",
       "    </tr>\n",
       "    <tr>\n",
       "      <th>2</th>\n",
       "      <td>3</td>\n",
       "      <td>DZ</td>\n",
       "      <td>Algeria</td>\n",
       "      <td>Africa</td>\n",
       "    </tr>\n",
       "    <tr>\n",
       "      <th>3</th>\n",
       "      <td>4</td>\n",
       "      <td>AS</td>\n",
       "      <td>American Samoa</td>\n",
       "      <td>Australia &amp; Oceania</td>\n",
       "    </tr>\n",
       "    <tr>\n",
       "      <th>4</th>\n",
       "      <td>5</td>\n",
       "      <td>AO</td>\n",
       "      <td>Angola</td>\n",
       "      <td>Africa</td>\n",
       "    </tr>\n",
       "  </tbody>\n",
       "</table>\n",
       "</div>"
      ],
      "text/plain": [
       "   pk  id            name            continent\n",
       "0   1  AF     Afghanistan                 Asia\n",
       "1   2  AL         Albania               Europe\n",
       "2   3  DZ         Algeria               Africa\n",
       "3   4  AS  American Samoa  Australia & Oceania\n",
       "4   5  AO          Angola               Africa"
      ]
     },
     "execution_count": 216,
     "metadata": {},
     "output_type": "execute_result"
    }
   ],
   "source": [
    "df.dropna(how=\"all\", axis=1).head()"
   ]
  },
  {
   "cell_type": "markdown",
   "metadata": {
    "id": "B5RfMo-jKQZe"
   },
   "source": [
    "Можно выбрать нужные столбцы:"
   ]
  },
  {
   "cell_type": "code",
   "execution_count": 219,
   "metadata": {
    "colab": {
     "base_uri": "https://localhost:8080/",
     "height": 206
    },
    "id": "AZKoz88eKQZe",
    "outputId": "b861f018-e42a-4605-9a3f-034d4de7168d",
    "scrolled": true
   },
   "outputs": [
    {
     "data": {
      "text/html": [
       "<div>\n",
       "<style scoped>\n",
       "    .dataframe tbody tr th:only-of-type {\n",
       "        vertical-align: middle;\n",
       "    }\n",
       "\n",
       "    .dataframe tbody tr th {\n",
       "        vertical-align: top;\n",
       "    }\n",
       "\n",
       "    .dataframe thead th {\n",
       "        text-align: right;\n",
       "    }\n",
       "</style>\n",
       "<table border=\"1\" class=\"dataframe\">\n",
       "  <thead>\n",
       "    <tr style=\"text-align: right;\">\n",
       "      <th></th>\n",
       "      <th>pk</th>\n",
       "      <th>id</th>\n",
       "      <th>name</th>\n",
       "    </tr>\n",
       "  </thead>\n",
       "  <tbody>\n",
       "    <tr>\n",
       "      <th>0</th>\n",
       "      <td>1</td>\n",
       "      <td>AF</td>\n",
       "      <td>Afghanistan</td>\n",
       "    </tr>\n",
       "    <tr>\n",
       "      <th>1</th>\n",
       "      <td>2</td>\n",
       "      <td>AL</td>\n",
       "      <td>Albania</td>\n",
       "    </tr>\n",
       "    <tr>\n",
       "      <th>2</th>\n",
       "      <td>3</td>\n",
       "      <td>DZ</td>\n",
       "      <td>Algeria</td>\n",
       "    </tr>\n",
       "    <tr>\n",
       "      <th>3</th>\n",
       "      <td>4</td>\n",
       "      <td>AS</td>\n",
       "      <td>American Samoa</td>\n",
       "    </tr>\n",
       "    <tr>\n",
       "      <th>4</th>\n",
       "      <td>5</td>\n",
       "      <td>AO</td>\n",
       "      <td>Angola</td>\n",
       "    </tr>\n",
       "  </tbody>\n",
       "</table>\n",
       "</div>"
      ],
      "text/plain": [
       "   pk  id            name\n",
       "0   1  AF     Afghanistan\n",
       "1   2  AL         Albania\n",
       "2   3  DZ         Algeria\n",
       "3   4  AS  American Samoa\n",
       "4   5  AO          Angola"
      ]
     },
     "execution_count": 219,
     "metadata": {},
     "output_type": "execute_result"
    }
   ],
   "source": [
    "df[[\"pk\", \"id\", \"name\"]].head()"
   ]
  },
  {
   "cell_type": "markdown",
   "metadata": {},
   "source": [
    "Или столбец:"
   ]
  },
  {
   "cell_type": "code",
   "execution_count": 222,
   "metadata": {
    "id": "rLa74v6KKQZf",
    "outputId": "aaada583-e2ba-490b-d327-467812990bc0"
   },
   "outputs": [
    {
     "data": {
      "text/plain": [
       "0       Afghanistan\n",
       "1           Albania\n",
       "2           Algeria\n",
       "3    American Samoa\n",
       "4            Angola\n",
       "Name: name, dtype: object"
      ]
     },
     "execution_count": 222,
     "metadata": {},
     "output_type": "execute_result"
    }
   ],
   "source": [
    "df[\"name\"].head()"
   ]
  },
  {
   "cell_type": "code",
   "execution_count": 224,
   "metadata": {},
   "outputs": [
    {
     "data": {
      "text/plain": [
       "0       Afghanistan\n",
       "1           Albania\n",
       "2           Algeria\n",
       "3    American Samoa\n",
       "4            Angola\n",
       "Name: name, dtype: object"
      ]
     },
     "execution_count": 224,
     "metadata": {},
     "output_type": "execute_result"
    }
   ],
   "source": [
    "df.name.head()"
   ]
  },
  {
   "cell_type": "markdown",
   "metadata": {
    "id": "54r9Gf73KQZf"
   },
   "source": [
    "Фильтруем, где pk < 4"
   ]
  },
  {
   "cell_type": "markdown",
   "metadata": {},
   "source": [
    "Или строки (срезами):"
   ]
  },
  {
   "cell_type": "code",
   "execution_count": 228,
   "metadata": {},
   "outputs": [
    {
     "data": {
      "text/html": [
       "<div>\n",
       "<style scoped>\n",
       "    .dataframe tbody tr th:only-of-type {\n",
       "        vertical-align: middle;\n",
       "    }\n",
       "\n",
       "    .dataframe tbody tr th {\n",
       "        vertical-align: top;\n",
       "    }\n",
       "\n",
       "    .dataframe thead th {\n",
       "        text-align: right;\n",
       "    }\n",
       "</style>\n",
       "<table border=\"1\" class=\"dataframe\">\n",
       "  <thead>\n",
       "    <tr style=\"text-align: right;\">\n",
       "      <th></th>\n",
       "      <th>pk</th>\n",
       "      <th>id</th>\n",
       "      <th>name</th>\n",
       "      <th>markup_description</th>\n",
       "      <th>continent</th>\n",
       "    </tr>\n",
       "  </thead>\n",
       "  <tbody>\n",
       "    <tr>\n",
       "      <th>2</th>\n",
       "      <td>3</td>\n",
       "      <td>DZ</td>\n",
       "      <td>Algeria</td>\n",
       "      <td>NaN</td>\n",
       "      <td>Africa</td>\n",
       "    </tr>\n",
       "    <tr>\n",
       "      <th>3</th>\n",
       "      <td>4</td>\n",
       "      <td>AS</td>\n",
       "      <td>American Samoa</td>\n",
       "      <td>NaN</td>\n",
       "      <td>Australia &amp; Oceania</td>\n",
       "    </tr>\n",
       "    <tr>\n",
       "      <th>4</th>\n",
       "      <td>5</td>\n",
       "      <td>AO</td>\n",
       "      <td>Angola</td>\n",
       "      <td>NaN</td>\n",
       "      <td>Africa</td>\n",
       "    </tr>\n",
       "    <tr>\n",
       "      <th>5</th>\n",
       "      <td>6</td>\n",
       "      <td>AR</td>\n",
       "      <td>Argentina</td>\n",
       "      <td>NaN</td>\n",
       "      <td>South America</td>\n",
       "    </tr>\n",
       "    <tr>\n",
       "      <th>6</th>\n",
       "      <td>7</td>\n",
       "      <td>AM</td>\n",
       "      <td>Armenia</td>\n",
       "      <td>NaN</td>\n",
       "      <td>Asia</td>\n",
       "    </tr>\n",
       "  </tbody>\n",
       "</table>\n",
       "</div>"
      ],
      "text/plain": [
       "   pk  id            name  markup_description            continent\n",
       "2   3  DZ         Algeria                 NaN               Africa\n",
       "3   4  AS  American Samoa                 NaN  Australia & Oceania\n",
       "4   5  AO          Angola                 NaN               Africa\n",
       "5   6  AR       Argentina                 NaN        South America\n",
       "6   7  AM         Armenia                 NaN                 Asia"
      ]
     },
     "execution_count": 228,
     "metadata": {},
     "output_type": "execute_result"
    }
   ],
   "source": [
    "df[2:7]"
   ]
  },
  {
   "cell_type": "code",
   "execution_count": 230,
   "metadata": {
    "id": "3Hw_PImiKQZf",
    "outputId": "e3b103e7-3c97-4266-fd47-69b259e6cd5a"
   },
   "outputs": [
    {
     "data": {
      "text/html": [
       "<div>\n",
       "<style scoped>\n",
       "    .dataframe tbody tr th:only-of-type {\n",
       "        vertical-align: middle;\n",
       "    }\n",
       "\n",
       "    .dataframe tbody tr th {\n",
       "        vertical-align: top;\n",
       "    }\n",
       "\n",
       "    .dataframe thead th {\n",
       "        text-align: right;\n",
       "    }\n",
       "</style>\n",
       "<table border=\"1\" class=\"dataframe\">\n",
       "  <thead>\n",
       "    <tr style=\"text-align: right;\">\n",
       "      <th></th>\n",
       "      <th>pk</th>\n",
       "      <th>id</th>\n",
       "      <th>name</th>\n",
       "      <th>markup_description</th>\n",
       "      <th>continent</th>\n",
       "    </tr>\n",
       "  </thead>\n",
       "  <tbody>\n",
       "    <tr>\n",
       "      <th>0</th>\n",
       "      <td>1</td>\n",
       "      <td>AF</td>\n",
       "      <td>Afghanistan</td>\n",
       "      <td>NaN</td>\n",
       "      <td>Asia</td>\n",
       "    </tr>\n",
       "    <tr>\n",
       "      <th>1</th>\n",
       "      <td>2</td>\n",
       "      <td>AL</td>\n",
       "      <td>Albania</td>\n",
       "      <td>NaN</td>\n",
       "      <td>Europe</td>\n",
       "    </tr>\n",
       "    <tr>\n",
       "      <th>2</th>\n",
       "      <td>3</td>\n",
       "      <td>DZ</td>\n",
       "      <td>Algeria</td>\n",
       "      <td>NaN</td>\n",
       "      <td>Africa</td>\n",
       "    </tr>\n",
       "  </tbody>\n",
       "</table>\n",
       "</div>"
      ],
      "text/plain": [
       "   pk  id         name  markup_description continent\n",
       "0   1  AF  Afghanistan                 NaN      Asia\n",
       "1   2  AL      Albania                 NaN    Europe\n",
       "2   3  DZ      Algeria                 NaN    Africa"
      ]
     },
     "execution_count": 230,
     "metadata": {},
     "output_type": "execute_result"
    }
   ],
   "source": [
    "df[df[\"pk\"] < 4]"
   ]
  },
  {
   "cell_type": "code",
   "execution_count": 232,
   "metadata": {},
   "outputs": [
    {
     "data": {
      "text/html": [
       "<div>\n",
       "<style scoped>\n",
       "    .dataframe tbody tr th:only-of-type {\n",
       "        vertical-align: middle;\n",
       "    }\n",
       "\n",
       "    .dataframe tbody tr th {\n",
       "        vertical-align: top;\n",
       "    }\n",
       "\n",
       "    .dataframe thead th {\n",
       "        text-align: right;\n",
       "    }\n",
       "</style>\n",
       "<table border=\"1\" class=\"dataframe\">\n",
       "  <thead>\n",
       "    <tr style=\"text-align: right;\">\n",
       "      <th></th>\n",
       "      <th>pk</th>\n",
       "      <th>id</th>\n",
       "      <th>name</th>\n",
       "      <th>markup_description</th>\n",
       "      <th>continent</th>\n",
       "    </tr>\n",
       "  </thead>\n",
       "  <tbody>\n",
       "    <tr>\n",
       "      <th>10</th>\n",
       "      <td>11</td>\n",
       "      <td>BH</td>\n",
       "      <td>Bahrain</td>\n",
       "      <td>NaN</td>\n",
       "      <td>Asia</td>\n",
       "    </tr>\n",
       "    <tr>\n",
       "      <th>11</th>\n",
       "      <td>12</td>\n",
       "      <td>BD</td>\n",
       "      <td>Bangladesh</td>\n",
       "      <td>NaN</td>\n",
       "      <td>Asia</td>\n",
       "    </tr>\n",
       "    <tr>\n",
       "      <th>12</th>\n",
       "      <td>13</td>\n",
       "      <td>BY</td>\n",
       "      <td>Belarus</td>\n",
       "      <td>NaN</td>\n",
       "      <td>Europe</td>\n",
       "    </tr>\n",
       "    <tr>\n",
       "      <th>13</th>\n",
       "      <td>14</td>\n",
       "      <td>BE</td>\n",
       "      <td>Belgium</td>\n",
       "      <td>NaN</td>\n",
       "      <td>Europe</td>\n",
       "    </tr>\n",
       "    <tr>\n",
       "      <th>14</th>\n",
       "      <td>15</td>\n",
       "      <td>BZ</td>\n",
       "      <td>Belize</td>\n",
       "      <td>NaN</td>\n",
       "      <td>North America</td>\n",
       "    </tr>\n",
       "    <tr>\n",
       "      <th>15</th>\n",
       "      <td>16</td>\n",
       "      <td>BJ</td>\n",
       "      <td>Benin</td>\n",
       "      <td>NaN</td>\n",
       "      <td>Africa</td>\n",
       "    </tr>\n",
       "    <tr>\n",
       "      <th>16</th>\n",
       "      <td>17</td>\n",
       "      <td>BT</td>\n",
       "      <td>Bhutan</td>\n",
       "      <td>NaN</td>\n",
       "      <td>Asia</td>\n",
       "    </tr>\n",
       "    <tr>\n",
       "      <th>17</th>\n",
       "      <td>18</td>\n",
       "      <td>BO</td>\n",
       "      <td>Bolivia</td>\n",
       "      <td>NaN</td>\n",
       "      <td>South America</td>\n",
       "    </tr>\n",
       "    <tr>\n",
       "      <th>18</th>\n",
       "      <td>19</td>\n",
       "      <td>BA</td>\n",
       "      <td>Bosnia-Herzegovina</td>\n",
       "      <td>NaN</td>\n",
       "      <td>Europe</td>\n",
       "    </tr>\n",
       "    <tr>\n",
       "      <th>19</th>\n",
       "      <td>20</td>\n",
       "      <td>BW</td>\n",
       "      <td>Botswana</td>\n",
       "      <td>NaN</td>\n",
       "      <td>Africa</td>\n",
       "    </tr>\n",
       "    <tr>\n",
       "      <th>20</th>\n",
       "      <td>21</td>\n",
       "      <td>BR</td>\n",
       "      <td>Brazil</td>\n",
       "      <td>NaN</td>\n",
       "      <td>South America</td>\n",
       "    </tr>\n",
       "    <tr>\n",
       "      <th>21</th>\n",
       "      <td>22</td>\n",
       "      <td>BG</td>\n",
       "      <td>Bulgaria</td>\n",
       "      <td>NaN</td>\n",
       "      <td>Europe</td>\n",
       "    </tr>\n",
       "    <tr>\n",
       "      <th>22</th>\n",
       "      <td>23</td>\n",
       "      <td>BF</td>\n",
       "      <td>Burkina Faso</td>\n",
       "      <td>NaN</td>\n",
       "      <td>Africa</td>\n",
       "    </tr>\n",
       "    <tr>\n",
       "      <th>23</th>\n",
       "      <td>24</td>\n",
       "      <td>BI</td>\n",
       "      <td>Burundi</td>\n",
       "      <td>NaN</td>\n",
       "      <td>Africa</td>\n",
       "    </tr>\n",
       "  </tbody>\n",
       "</table>\n",
       "</div>"
      ],
      "text/plain": [
       "    pk  id                name  markup_description      continent\n",
       "10  11  BH             Bahrain                 NaN           Asia\n",
       "11  12  BD          Bangladesh                 NaN           Asia\n",
       "12  13  BY             Belarus                 NaN         Europe\n",
       "13  14  BE             Belgium                 NaN         Europe\n",
       "14  15  BZ              Belize                 NaN  North America\n",
       "15  16  BJ               Benin                 NaN         Africa\n",
       "16  17  BT              Bhutan                 NaN           Asia\n",
       "17  18  BO             Bolivia                 NaN  South America\n",
       "18  19  BA  Bosnia-Herzegovina                 NaN         Europe\n",
       "19  20  BW            Botswana                 NaN         Africa\n",
       "20  21  BR              Brazil                 NaN  South America\n",
       "21  22  BG            Bulgaria                 NaN         Europe\n",
       "22  23  BF        Burkina Faso                 NaN         Africa\n",
       "23  24  BI             Burundi                 NaN         Africa"
      ]
     },
     "execution_count": 232,
     "metadata": {},
     "output_type": "execute_result"
    }
   ],
   "source": [
    "df[df[\"name\"].str.startswith('B')]"
   ]
  },
  {
   "cell_type": "markdown",
   "metadata": {
    "id": "Lj-wbaqCKQZf"
   },
   "source": [
    "Посмотрим, какие вообще есть континенты:"
   ]
  },
  {
   "cell_type": "code",
   "execution_count": 235,
   "metadata": {
    "id": "cct_pnCRKQZf",
    "outputId": "0e97e946-d161-40c8-9a06-a211fa53fe8e"
   },
   "outputs": [
    {
     "data": {
      "text/plain": [
       "continent\n",
       "Africa                 54\n",
       "Asia                   46\n",
       "Europe                 38\n",
       "Australia & Oceania    22\n",
       "North America          17\n",
       "South America          13\n",
       "Eurasia                 2\n",
       "Name: count, dtype: int64"
      ]
     },
     "execution_count": 235,
     "metadata": {},
     "output_type": "execute_result"
    }
   ],
   "source": [
    "df[\"continent\"].value_counts()"
   ]
  },
  {
   "cell_type": "code",
   "execution_count": 237,
   "metadata": {
    "id": "PO-xVT1vKQZg",
    "outputId": "931d4539-b479-4d86-820e-e8222e0a84f5"
   },
   "outputs": [
    {
     "data": {
      "text/html": [
       "<div>\n",
       "<style scoped>\n",
       "    .dataframe tbody tr th:only-of-type {\n",
       "        vertical-align: middle;\n",
       "    }\n",
       "\n",
       "    .dataframe tbody tr th {\n",
       "        vertical-align: top;\n",
       "    }\n",
       "\n",
       "    .dataframe thead th {\n",
       "        text-align: right;\n",
       "    }\n",
       "</style>\n",
       "<table border=\"1\" class=\"dataframe\">\n",
       "  <thead>\n",
       "    <tr style=\"text-align: right;\">\n",
       "      <th></th>\n",
       "      <th>id</th>\n",
       "      <th>name</th>\n",
       "    </tr>\n",
       "  </thead>\n",
       "  <tbody>\n",
       "    <tr>\n",
       "      <th>14</th>\n",
       "      <td>BZ</td>\n",
       "      <td>Belize</td>\n",
       "    </tr>\n",
       "    <tr>\n",
       "      <th>26</th>\n",
       "      <td>CA</td>\n",
       "      <td>Canada</td>\n",
       "    </tr>\n",
       "    <tr>\n",
       "      <th>34</th>\n",
       "      <td>CR</td>\n",
       "      <td>Costa Rica</td>\n",
       "    </tr>\n",
       "    <tr>\n",
       "      <th>42</th>\n",
       "      <td>DM</td>\n",
       "      <td>Dominica</td>\n",
       "    </tr>\n",
       "    <tr>\n",
       "      <th>46</th>\n",
       "      <td>SV</td>\n",
       "      <td>El Salvador</td>\n",
       "    </tr>\n",
       "    <tr>\n",
       "      <th>63</th>\n",
       "      <td>GD</td>\n",
       "      <td>Grenada</td>\n",
       "    </tr>\n",
       "    <tr>\n",
       "      <th>66</th>\n",
       "      <td>GT</td>\n",
       "      <td>Guatemala</td>\n",
       "    </tr>\n",
       "    <tr>\n",
       "      <th>70</th>\n",
       "      <td>HT</td>\n",
       "      <td>Haiti</td>\n",
       "    </tr>\n",
       "    <tr>\n",
       "      <th>71</th>\n",
       "      <td>HN</td>\n",
       "      <td>Honduras</td>\n",
       "    </tr>\n",
       "    <tr>\n",
       "      <th>81</th>\n",
       "      <td>JM</td>\n",
       "      <td>Jamaica</td>\n",
       "    </tr>\n",
       "    <tr>\n",
       "      <th>105</th>\n",
       "      <td>MQ</td>\n",
       "      <td>Martinique</td>\n",
       "    </tr>\n",
       "    <tr>\n",
       "      <th>109</th>\n",
       "      <td>MX</td>\n",
       "      <td>Mexico</td>\n",
       "    </tr>\n",
       "    <tr>\n",
       "      <th>120</th>\n",
       "      <td>AN</td>\n",
       "      <td>Netherlands Antilles</td>\n",
       "    </tr>\n",
       "    <tr>\n",
       "      <th>123</th>\n",
       "      <td>NI</td>\n",
       "      <td>Nicaragua</td>\n",
       "    </tr>\n",
       "    <tr>\n",
       "      <th>158</th>\n",
       "      <td>LC</td>\n",
       "      <td>St. Lucia</td>\n",
       "    </tr>\n",
       "    <tr>\n",
       "      <th>173</th>\n",
       "      <td>TT</td>\n",
       "      <td>Trinidad and Tobago</td>\n",
       "    </tr>\n",
       "    <tr>\n",
       "      <th>182</th>\n",
       "      <td>US</td>\n",
       "      <td>United States</td>\n",
       "    </tr>\n",
       "  </tbody>\n",
       "</table>\n",
       "</div>"
      ],
      "text/plain": [
       "     id                  name\n",
       "14   BZ                Belize\n",
       "26   CA                Canada\n",
       "34   CR            Costa Rica\n",
       "42   DM              Dominica\n",
       "46   SV           El Salvador\n",
       "63   GD               Grenada\n",
       "66   GT             Guatemala\n",
       "70   HT                 Haiti\n",
       "71   HN              Honduras\n",
       "81   JM               Jamaica\n",
       "105  MQ            Martinique\n",
       "109  MX                Mexico\n",
       "120  AN  Netherlands Antilles\n",
       "123  NI             Nicaragua\n",
       "158  LC             St. Lucia\n",
       "173  TT   Trinidad and Tobago\n",
       "182  US         United States"
      ]
     },
     "execution_count": 237,
     "metadata": {},
     "output_type": "execute_result"
    }
   ],
   "source": [
    "df[df[\"continent\"] == \"North America\"][['id', 'name']]"
   ]
  },
  {
   "cell_type": "markdown",
   "metadata": {
    "id": "rQZe2zobKQZg"
   },
   "source": [
    "Отсортируем эти страны по алфавиту в обратную сторону по ID:"
   ]
  },
  {
   "cell_type": "code",
   "execution_count": 255,
   "metadata": {
    "id": "AILrw6FpKQZg",
    "outputId": "55ee6d59-3494-454e-a38c-d9d3a1fab02f",
    "scrolled": true
   },
   "outputs": [
    {
     "data": {
      "text/html": [
       "<div>\n",
       "<style scoped>\n",
       "    .dataframe tbody tr th:only-of-type {\n",
       "        vertical-align: middle;\n",
       "    }\n",
       "\n",
       "    .dataframe tbody tr th {\n",
       "        vertical-align: top;\n",
       "    }\n",
       "\n",
       "    .dataframe thead th {\n",
       "        text-align: right;\n",
       "    }\n",
       "</style>\n",
       "<table border=\"1\" class=\"dataframe\">\n",
       "  <thead>\n",
       "    <tr style=\"text-align: right;\">\n",
       "      <th></th>\n",
       "      <th>pk</th>\n",
       "      <th>id</th>\n",
       "      <th>name</th>\n",
       "      <th>markup_description</th>\n",
       "      <th>continent</th>\n",
       "    </tr>\n",
       "  </thead>\n",
       "  <tbody>\n",
       "    <tr>\n",
       "      <th>182</th>\n",
       "      <td>183</td>\n",
       "      <td>US</td>\n",
       "      <td>United States</td>\n",
       "      <td>NaN</td>\n",
       "      <td>North America</td>\n",
       "    </tr>\n",
       "    <tr>\n",
       "      <th>173</th>\n",
       "      <td>174</td>\n",
       "      <td>TT</td>\n",
       "      <td>Trinidad and Tobago</td>\n",
       "      <td>NaN</td>\n",
       "      <td>North America</td>\n",
       "    </tr>\n",
       "    <tr>\n",
       "      <th>46</th>\n",
       "      <td>47</td>\n",
       "      <td>SV</td>\n",
       "      <td>El Salvador</td>\n",
       "      <td>NaN</td>\n",
       "      <td>North America</td>\n",
       "    </tr>\n",
       "    <tr>\n",
       "      <th>123</th>\n",
       "      <td>124</td>\n",
       "      <td>NI</td>\n",
       "      <td>Nicaragua</td>\n",
       "      <td>NaN</td>\n",
       "      <td>North America</td>\n",
       "    </tr>\n",
       "    <tr>\n",
       "      <th>109</th>\n",
       "      <td>110</td>\n",
       "      <td>MX</td>\n",
       "      <td>Mexico</td>\n",
       "      <td>NaN</td>\n",
       "      <td>North America</td>\n",
       "    </tr>\n",
       "    <tr>\n",
       "      <th>105</th>\n",
       "      <td>106</td>\n",
       "      <td>MQ</td>\n",
       "      <td>Martinique</td>\n",
       "      <td>NaN</td>\n",
       "      <td>North America</td>\n",
       "    </tr>\n",
       "    <tr>\n",
       "      <th>158</th>\n",
       "      <td>159</td>\n",
       "      <td>LC</td>\n",
       "      <td>St. Lucia</td>\n",
       "      <td>NaN</td>\n",
       "      <td>North America</td>\n",
       "    </tr>\n",
       "    <tr>\n",
       "      <th>81</th>\n",
       "      <td>82</td>\n",
       "      <td>JM</td>\n",
       "      <td>Jamaica</td>\n",
       "      <td>NaN</td>\n",
       "      <td>North America</td>\n",
       "    </tr>\n",
       "    <tr>\n",
       "      <th>70</th>\n",
       "      <td>71</td>\n",
       "      <td>HT</td>\n",
       "      <td>Haiti</td>\n",
       "      <td>NaN</td>\n",
       "      <td>North America</td>\n",
       "    </tr>\n",
       "    <tr>\n",
       "      <th>71</th>\n",
       "      <td>72</td>\n",
       "      <td>HN</td>\n",
       "      <td>Honduras</td>\n",
       "      <td>NaN</td>\n",
       "      <td>North America</td>\n",
       "    </tr>\n",
       "    <tr>\n",
       "      <th>66</th>\n",
       "      <td>67</td>\n",
       "      <td>GT</td>\n",
       "      <td>Guatemala</td>\n",
       "      <td>NaN</td>\n",
       "      <td>North America</td>\n",
       "    </tr>\n",
       "    <tr>\n",
       "      <th>63</th>\n",
       "      <td>64</td>\n",
       "      <td>GD</td>\n",
       "      <td>Grenada</td>\n",
       "      <td>NaN</td>\n",
       "      <td>North America</td>\n",
       "    </tr>\n",
       "    <tr>\n",
       "      <th>42</th>\n",
       "      <td>43</td>\n",
       "      <td>DM</td>\n",
       "      <td>Dominica</td>\n",
       "      <td>NaN</td>\n",
       "      <td>North America</td>\n",
       "    </tr>\n",
       "    <tr>\n",
       "      <th>34</th>\n",
       "      <td>35</td>\n",
       "      <td>CR</td>\n",
       "      <td>Costa Rica</td>\n",
       "      <td>NaN</td>\n",
       "      <td>North America</td>\n",
       "    </tr>\n",
       "    <tr>\n",
       "      <th>26</th>\n",
       "      <td>27</td>\n",
       "      <td>CA</td>\n",
       "      <td>Canada</td>\n",
       "      <td>NaN</td>\n",
       "      <td>North America</td>\n",
       "    </tr>\n",
       "    <tr>\n",
       "      <th>14</th>\n",
       "      <td>15</td>\n",
       "      <td>BZ</td>\n",
       "      <td>Belize</td>\n",
       "      <td>NaN</td>\n",
       "      <td>North America</td>\n",
       "    </tr>\n",
       "    <tr>\n",
       "      <th>120</th>\n",
       "      <td>121</td>\n",
       "      <td>AN</td>\n",
       "      <td>Netherlands Antilles</td>\n",
       "      <td>NaN</td>\n",
       "      <td>North America</td>\n",
       "    </tr>\n",
       "  </tbody>\n",
       "</table>\n",
       "</div>"
      ],
      "text/plain": [
       "      pk  id                  name  markup_description      continent\n",
       "182  183  US         United States                 NaN  North America\n",
       "173  174  TT   Trinidad and Tobago                 NaN  North America\n",
       "46    47  SV           El Salvador                 NaN  North America\n",
       "123  124  NI             Nicaragua                 NaN  North America\n",
       "109  110  MX                Mexico                 NaN  North America\n",
       "105  106  MQ            Martinique                 NaN  North America\n",
       "158  159  LC             St. Lucia                 NaN  North America\n",
       "81    82  JM               Jamaica                 NaN  North America\n",
       "70    71  HT                 Haiti                 NaN  North America\n",
       "71    72  HN              Honduras                 NaN  North America\n",
       "66    67  GT             Guatemala                 NaN  North America\n",
       "63    64  GD               Grenada                 NaN  North America\n",
       "42    43  DM              Dominica                 NaN  North America\n",
       "34    35  CR            Costa Rica                 NaN  North America\n",
       "26    27  CA                Canada                 NaN  North America\n",
       "14    15  BZ                Belize                 NaN  North America\n",
       "120  121  AN  Netherlands Antilles                 NaN  North America"
      ]
     },
     "execution_count": 255,
     "metadata": {},
     "output_type": "execute_result"
    }
   ],
   "source": [
    "df[df[\"continent\"] == \"North America\"].sort_values(by=\"id\", ascending=False)"
   ]
  },
  {
   "cell_type": "markdown",
   "metadata": {},
   "source": [
    "Cоздадим ещё один столбец `new_id` из ID и PK:"
   ]
  },
  {
   "cell_type": "code",
   "execution_count": 259,
   "metadata": {},
   "outputs": [],
   "source": [
    "df['new_id'] = df['pk'].apply(str) + '_' + df['id']"
   ]
  },
  {
   "cell_type": "code",
   "execution_count": 261,
   "metadata": {
    "scrolled": true
   },
   "outputs": [
    {
     "data": {
      "text/html": [
       "<div>\n",
       "<style scoped>\n",
       "    .dataframe tbody tr th:only-of-type {\n",
       "        vertical-align: middle;\n",
       "    }\n",
       "\n",
       "    .dataframe tbody tr th {\n",
       "        vertical-align: top;\n",
       "    }\n",
       "\n",
       "    .dataframe thead th {\n",
       "        text-align: right;\n",
       "    }\n",
       "</style>\n",
       "<table border=\"1\" class=\"dataframe\">\n",
       "  <thead>\n",
       "    <tr style=\"text-align: right;\">\n",
       "      <th></th>\n",
       "      <th>pk</th>\n",
       "      <th>id</th>\n",
       "      <th>name</th>\n",
       "      <th>markup_description</th>\n",
       "      <th>continent</th>\n",
       "      <th>new_id</th>\n",
       "    </tr>\n",
       "  </thead>\n",
       "  <tbody>\n",
       "    <tr>\n",
       "      <th>0</th>\n",
       "      <td>1</td>\n",
       "      <td>AF</td>\n",
       "      <td>Afghanistan</td>\n",
       "      <td>NaN</td>\n",
       "      <td>Asia</td>\n",
       "      <td>1_AF</td>\n",
       "    </tr>\n",
       "    <tr>\n",
       "      <th>1</th>\n",
       "      <td>2</td>\n",
       "      <td>AL</td>\n",
       "      <td>Albania</td>\n",
       "      <td>NaN</td>\n",
       "      <td>Europe</td>\n",
       "      <td>2_AL</td>\n",
       "    </tr>\n",
       "    <tr>\n",
       "      <th>2</th>\n",
       "      <td>3</td>\n",
       "      <td>DZ</td>\n",
       "      <td>Algeria</td>\n",
       "      <td>NaN</td>\n",
       "      <td>Africa</td>\n",
       "      <td>3_DZ</td>\n",
       "    </tr>\n",
       "    <tr>\n",
       "      <th>3</th>\n",
       "      <td>4</td>\n",
       "      <td>AS</td>\n",
       "      <td>American Samoa</td>\n",
       "      <td>NaN</td>\n",
       "      <td>Australia &amp; Oceania</td>\n",
       "      <td>4_AS</td>\n",
       "    </tr>\n",
       "    <tr>\n",
       "      <th>4</th>\n",
       "      <td>5</td>\n",
       "      <td>AO</td>\n",
       "      <td>Angola</td>\n",
       "      <td>NaN</td>\n",
       "      <td>Africa</td>\n",
       "      <td>5_AO</td>\n",
       "    </tr>\n",
       "  </tbody>\n",
       "</table>\n",
       "</div>"
      ],
      "text/plain": [
       "   pk  id            name  markup_description            continent new_id\n",
       "0   1  AF     Afghanistan                 NaN                 Asia   1_AF\n",
       "1   2  AL         Albania                 NaN               Europe   2_AL\n",
       "2   3  DZ         Algeria                 NaN               Africa   3_DZ\n",
       "3   4  AS  American Samoa                 NaN  Australia & Oceania   4_AS\n",
       "4   5  AO          Angola                 NaN               Africa   5_AO"
      ]
     },
     "execution_count": 261,
     "metadata": {},
     "output_type": "execute_result"
    }
   ],
   "source": [
    "df.head()"
   ]
  },
  {
   "cell_type": "markdown",
   "metadata": {},
   "source": [
    "Чтобы в таблицу добавить колонку, подойдёт метод `assign()`. Данный метод даёт возможность создавать колонки при помощи лямбда-функции. Обратите внимание: данный метод возвращает новую таблицу, а не меняет исходную."
   ]
  },
  {
   "cell_type": "markdown",
   "metadata": {
    "id": "-jxrk9RiKQZg"
   },
   "source": [
    "Допустим, мы хотим получить список стран по континентам\n",
    "\n",
    "1. Группируем по континенту\n",
    "2. Из имен составляем списки"
   ]
  },
  {
   "cell_type": "code",
   "execution_count": 265,
   "metadata": {
    "id": "8MuZ4SaRKQZh",
    "outputId": "ee62db75-83d5-479a-83af-282c1a725a60"
   },
   "outputs": [
    {
     "data": {
      "text/html": [
       "<div>\n",
       "<style scoped>\n",
       "    .dataframe tbody tr th:only-of-type {\n",
       "        vertical-align: middle;\n",
       "    }\n",
       "\n",
       "    .dataframe tbody tr th {\n",
       "        vertical-align: top;\n",
       "    }\n",
       "\n",
       "    .dataframe thead th {\n",
       "        text-align: right;\n",
       "    }\n",
       "</style>\n",
       "<table border=\"1\" class=\"dataframe\">\n",
       "  <thead>\n",
       "    <tr style=\"text-align: right;\">\n",
       "      <th></th>\n",
       "      <th>name</th>\n",
       "    </tr>\n",
       "    <tr>\n",
       "      <th>continent</th>\n",
       "      <th></th>\n",
       "    </tr>\n",
       "  </thead>\n",
       "  <tbody>\n",
       "    <tr>\n",
       "      <th>Africa</th>\n",
       "      <td>[Algeria, Angola, Benin, Botswana, Burkina Fas...</td>\n",
       "    </tr>\n",
       "    <tr>\n",
       "      <th>Asia</th>\n",
       "      <td>[Afghanistan, Armenia, Azerbaijan, Bahrain, Ba...</td>\n",
       "    </tr>\n",
       "    <tr>\n",
       "      <th>Australia &amp; Oceania</th>\n",
       "      <td>[American Samoa, Australia, Fiji, French Polyn...</td>\n",
       "    </tr>\n",
       "    <tr>\n",
       "      <th>Eurasia</th>\n",
       "      <td>[Russia, Turkey]</td>\n",
       "    </tr>\n",
       "    <tr>\n",
       "      <th>Europe</th>\n",
       "      <td>[Albania, Austria, Belarus, Belgium, Bosnia-He...</td>\n",
       "    </tr>\n",
       "    <tr>\n",
       "      <th>North America</th>\n",
       "      <td>[Belize, Canada, Costa Rica, Dominica, El Salv...</td>\n",
       "    </tr>\n",
       "    <tr>\n",
       "      <th>South America</th>\n",
       "      <td>[Argentina, Bolivia, Brazil, Chile, Colombia, ...</td>\n",
       "    </tr>\n",
       "  </tbody>\n",
       "</table>\n",
       "</div>"
      ],
      "text/plain": [
       "                                                                  name\n",
       "continent                                                             \n",
       "Africa               [Algeria, Angola, Benin, Botswana, Burkina Fas...\n",
       "Asia                 [Afghanistan, Armenia, Azerbaijan, Bahrain, Ba...\n",
       "Australia & Oceania  [American Samoa, Australia, Fiji, French Polyn...\n",
       "Eurasia                                               [Russia, Turkey]\n",
       "Europe               [Albania, Austria, Belarus, Belgium, Bosnia-He...\n",
       "North America        [Belize, Canada, Costa Rica, Dominica, El Salv...\n",
       "South America        [Argentina, Bolivia, Brazil, Chile, Colombia, ..."
      ]
     },
     "execution_count": 265,
     "metadata": {},
     "output_type": "execute_result"
    }
   ],
   "source": [
    "df.groupby(\"continent\").agg({\"name\": list})"
   ]
  },
  {
   "cell_type": "markdown",
   "metadata": {
    "id": "vY-3UqjhKQZh"
   },
   "source": [
    "Посчитаем среднее по pk (**это не имеет смысла, просто пример**)"
   ]
  },
  {
   "cell_type": "code",
   "execution_count": 268,
   "metadata": {
    "id": "LgNiBOaNKQZh",
    "outputId": "3a4c83d9-b169-4dcf-a4a0-abef7cd99570"
   },
   "outputs": [
    {
     "data": {
      "text/html": [
       "<div>\n",
       "<style scoped>\n",
       "    .dataframe tbody tr th:only-of-type {\n",
       "        vertical-align: middle;\n",
       "    }\n",
       "\n",
       "    .dataframe tbody tr th {\n",
       "        vertical-align: top;\n",
       "    }\n",
       "\n",
       "    .dataframe thead th {\n",
       "        text-align: right;\n",
       "    }\n",
       "</style>\n",
       "<table border=\"1\" class=\"dataframe\">\n",
       "  <thead>\n",
       "    <tr style=\"text-align: right;\">\n",
       "      <th></th>\n",
       "      <th>pk</th>\n",
       "    </tr>\n",
       "    <tr>\n",
       "      <th>continent</th>\n",
       "      <th></th>\n",
       "    </tr>\n",
       "  </thead>\n",
       "  <tbody>\n",
       "    <tr>\n",
       "      <th>Africa</th>\n",
       "      <td>94.703704</td>\n",
       "    </tr>\n",
       "    <tr>\n",
       "      <th>Asia</th>\n",
       "      <td>104.195652</td>\n",
       "    </tr>\n",
       "    <tr>\n",
       "      <th>Australia &amp; Oceania</th>\n",
       "      <td>113.909091</td>\n",
       "    </tr>\n",
       "    <tr>\n",
       "      <th>Eurasia</th>\n",
       "      <td>159.500000</td>\n",
       "    </tr>\n",
       "    <tr>\n",
       "      <th>Europe</th>\n",
       "      <td>85.921053</td>\n",
       "    </tr>\n",
       "    <tr>\n",
       "      <th>North America</th>\n",
       "      <td>88.235294</td>\n",
       "    </tr>\n",
       "    <tr>\n",
       "      <th>South America</th>\n",
       "      <td>79.307692</td>\n",
       "    </tr>\n",
       "  </tbody>\n",
       "</table>\n",
       "</div>"
      ],
      "text/plain": [
       "                             pk\n",
       "continent                      \n",
       "Africa                94.703704\n",
       "Asia                 104.195652\n",
       "Australia & Oceania  113.909091\n",
       "Eurasia              159.500000\n",
       "Europe                85.921053\n",
       "North America         88.235294\n",
       "South America         79.307692"
      ]
     },
     "execution_count": 268,
     "metadata": {},
     "output_type": "execute_result"
    }
   ],
   "source": [
    "df.groupby(\"continent\").agg({\"pk\": \"mean\"})"
   ]
  },
  {
   "cell_type": "markdown",
   "metadata": {
    "id": "qGjQAoe2KQZh"
   },
   "source": [
    "Можно применять функции к столбцам. Например, есть функция, которая принимает один аргумент и возвращает один аргумент. Ее можно применить к столбцу и преобраховать его содержимое."
   ]
  },
  {
   "cell_type": "code",
   "execution_count": 271,
   "metadata": {
    "id": "tYWXS96PKQZh"
   },
   "outputs": [],
   "source": [
    "def change_id(text):\n",
    "    if type(text) == str:\n",
    "        text = text.lower() * 2\n",
    "    return text"
   ]
  },
  {
   "cell_type": "code",
   "execution_count": 133,
   "metadata": {
    "id": "CbDetUGZKQZh",
    "outputId": "1faff034-d318-4e7c-d64a-7ff1f14a45f7"
   },
   "outputs": [
    {
     "data": {
      "text/plain": [
       "0      afaf\n",
       "1      alal\n",
       "2      dzdz\n",
       "3      asas\n",
       "4      aoao\n",
       "       ... \n",
       "187    wfwf\n",
       "188    yeye\n",
       "189    zmzm\n",
       "190    zwzw\n",
       "191    ssss\n",
       "Name: id, Length: 192, dtype: object"
      ]
     },
     "execution_count": 133,
     "metadata": {},
     "output_type": "execute_result"
    }
   ],
   "source": [
    "df[\"id\"].apply(change_id)"
   ]
  },
  {
   "cell_type": "markdown",
   "metadata": {
    "id": "dEVtVAjXKQZi"
   },
   "source": [
    "## Практика"
   ]
  },
  {
   "cell_type": "markdown",
   "metadata": {
    "id": "KMAjZwlSKQZi"
   },
   "source": [
    "Скачаем данные по кинопрокату [тут](https://opendata.mkrf.ru/opendata/7705851331-register_movies)"
   ]
  },
  {
   "cell_type": "markdown",
   "metadata": {
    "id": "XRQFI8EjKQZi"
   },
   "source": [
    "Считаем таблицу (можно прямо из zip), замените путь на путь к вашему файлу"
   ]
  },
  {
   "cell_type": "code",
   "execution_count": null,
   "metadata": {
    "id": "xe2Cwki_KQZi",
    "outputId": "3c9abccb-6853-4b2a-8996-6e8f566e1913"
   },
   "outputs": [
    {
     "name": "stderr",
     "output_type": "stream",
     "text": [
      "/home/@share/Documents/hse/seminars/venv/lib/python3.9/site-packages/IPython/core/interactiveshell.py:3441: DtypeWarning: Columns (2,13,18,19,20,32,35,37,40,44) have mixed types.Specify dtype option on import or set low_memory=False.\n",
      "  exec(code_obj, self.user_global_ns, self.user_ns)\n"
     ]
    }
   ],
   "source": [
    "your_zip = \"data-7-structure-4.csv.zip\"\n",
    "df = pd.read_csv(your_zip)"
   ]
  },
  {
   "cell_type": "markdown",
   "metadata": {
    "id": "kHqUVULnKQZi"
   },
   "source": [
    "Описательная статистика по числовым значениям (минимум, максимум, перцентили)"
   ]
  },
  {
   "cell_type": "code",
   "execution_count": null,
   "metadata": {
    "id": "PV_oo-gJKQZj",
    "outputId": "0b9bd916-502a-401d-8b46-f51d137bb4de"
   },
   "outputs": [
    {
     "data": {
      "text/html": [
       "<div>\n",
       "<style scoped>\n",
       "    .dataframe tbody tr th:only-of-type {\n",
       "        vertical-align: middle;\n",
       "    }\n",
       "\n",
       "    .dataframe tbody tr th {\n",
       "        vertical-align: top;\n",
       "    }\n",
       "\n",
       "    .dataframe thead th {\n",
       "        text-align: right;\n",
       "    }\n",
       "</style>\n",
       "<table border=\"1\" class=\"dataframe\">\n",
       "  <thead>\n",
       "    <tr style=\"text-align: right;\">\n",
       "      <th></th>\n",
       "      <th>Идентификатор записи реестра</th>\n",
       "      <th>Язык оригинала</th>\n",
       "      <th>Количество серий</th>\n",
       "      <th>Продолжительность демонстрации, часы</th>\n",
       "      <th>Продолжительность демонстрации, минуты</th>\n",
       "      <th>Запись удалена</th>\n",
       "      <th>Не показывать на сайте mkrf.ru</th>\n",
       "    </tr>\n",
       "  </thead>\n",
       "  <tbody>\n",
       "    <tr>\n",
       "      <th>count</th>\n",
       "      <td>9.382700e+04</td>\n",
       "      <td>4.00000</td>\n",
       "      <td>36259.000000</td>\n",
       "      <td>77278.000000</td>\n",
       "      <td>91308.000000</td>\n",
       "      <td>0.0</td>\n",
       "      <td>0.0</td>\n",
       "    </tr>\n",
       "    <tr>\n",
       "      <th>mean</th>\n",
       "      <td>2.471519e+06</td>\n",
       "      <td>44.75000</td>\n",
       "      <td>4.103643</td>\n",
       "      <td>1.815704</td>\n",
       "      <td>32.214373</td>\n",
       "      <td>NaN</td>\n",
       "      <td>NaN</td>\n",
       "    </tr>\n",
       "    <tr>\n",
       "      <th>std</th>\n",
       "      <td>9.145315e+05</td>\n",
       "      <td>6.70199</td>\n",
       "      <td>12.083681</td>\n",
       "      <td>4.846307</td>\n",
       "      <td>26.854649</td>\n",
       "      <td>NaN</td>\n",
       "      <td>NaN</td>\n",
       "    </tr>\n",
       "    <tr>\n",
       "      <th>min</th>\n",
       "      <td>2.157027e+06</td>\n",
       "      <td>38.00000</td>\n",
       "      <td>0.000000</td>\n",
       "      <td>0.000000</td>\n",
       "      <td>0.000000</td>\n",
       "      <td>NaN</td>\n",
       "      <td>NaN</td>\n",
       "    </tr>\n",
       "    <tr>\n",
       "      <th>25%</th>\n",
       "      <td>2.181938e+06</td>\n",
       "      <td>39.50000</td>\n",
       "      <td>1.000000</td>\n",
       "      <td>1.000000</td>\n",
       "      <td>20.000000</td>\n",
       "      <td>NaN</td>\n",
       "      <td>NaN</td>\n",
       "    </tr>\n",
       "    <tr>\n",
       "      <th>50%</th>\n",
       "      <td>2.207024e+06</td>\n",
       "      <td>45.00000</td>\n",
       "      <td>1.000000</td>\n",
       "      <td>1.000000</td>\n",
       "      <td>31.000000</td>\n",
       "      <td>NaN</td>\n",
       "      <td>NaN</td>\n",
       "    </tr>\n",
       "    <tr>\n",
       "      <th>75%</th>\n",
       "      <td>2.231976e+06</td>\n",
       "      <td>50.25000</td>\n",
       "      <td>2.000000</td>\n",
       "      <td>2.000000</td>\n",
       "      <td>44.000000</td>\n",
       "      <td>NaN</td>\n",
       "      <td>NaN</td>\n",
       "    </tr>\n",
       "    <tr>\n",
       "      <th>max</th>\n",
       "      <td>6.750280e+06</td>\n",
       "      <td>51.00000</td>\n",
       "      <td>532.000000</td>\n",
       "      <td>288.000000</td>\n",
       "      <td>5454.000000</td>\n",
       "      <td>NaN</td>\n",
       "      <td>NaN</td>\n",
       "    </tr>\n",
       "  </tbody>\n",
       "</table>\n",
       "</div>"
      ],
      "text/plain": [
       "       Идентификатор записи реестра  Язык оригинала  Количество серий  \\\n",
       "count                  9.382700e+04         4.00000      36259.000000   \n",
       "mean                   2.471519e+06        44.75000          4.103643   \n",
       "std                    9.145315e+05         6.70199         12.083681   \n",
       "min                    2.157027e+06        38.00000          0.000000   \n",
       "25%                    2.181938e+06        39.50000          1.000000   \n",
       "50%                    2.207024e+06        45.00000          1.000000   \n",
       "75%                    2.231976e+06        50.25000          2.000000   \n",
       "max                    6.750280e+06        51.00000        532.000000   \n",
       "\n",
       "       Продолжительность демонстрации, часы  \\\n",
       "count                          77278.000000   \n",
       "mean                               1.815704   \n",
       "std                                4.846307   \n",
       "min                                0.000000   \n",
       "25%                                1.000000   \n",
       "50%                                1.000000   \n",
       "75%                                2.000000   \n",
       "max                              288.000000   \n",
       "\n",
       "       Продолжительность демонстрации, минуты  Запись удалена  \\\n",
       "count                            91308.000000             0.0   \n",
       "mean                                32.214373             NaN   \n",
       "std                                 26.854649             NaN   \n",
       "min                                  0.000000             NaN   \n",
       "25%                                 20.000000             NaN   \n",
       "50%                                 31.000000             NaN   \n",
       "75%                                 44.000000             NaN   \n",
       "max                               5454.000000             NaN   \n",
       "\n",
       "       Не показывать на сайте mkrf.ru  \n",
       "count                             0.0  \n",
       "mean                              NaN  \n",
       "std                               NaN  \n",
       "min                               NaN  \n",
       "25%                               NaN  \n",
       "50%                               NaN  \n",
       "75%                               NaN  \n",
       "max                               NaN  "
      ]
     },
     "execution_count": 39,
     "metadata": {},
     "output_type": "execute_result"
    }
   ],
   "source": [
    "df.describe()"
   ]
  },
  {
   "cell_type": "markdown",
   "metadata": {
    "id": "dqvgWZ8ZKQZj"
   },
   "source": [
    "Покажите верхушку датафрейма"
   ]
  },
  {
   "cell_type": "code",
   "execution_count": null,
   "metadata": {
    "id": "qhaQBlLSKQZj"
   },
   "outputs": [],
   "source": []
  },
  {
   "cell_type": "markdown",
   "metadata": {
    "id": "s5ap_tLsKQZj"
   },
   "source": [
    "Покажите, какие есть столбцы в датафрейме (атрибут df.columns)"
   ]
  },
  {
   "cell_type": "code",
   "execution_count": null,
   "metadata": {
    "id": "LpDeJIoAKQZj"
   },
   "outputs": [],
   "source": []
  },
  {
   "cell_type": "markdown",
   "metadata": {
    "id": "ePVHr5StKQZj"
   },
   "source": [
    "Выберите столбцы ```[\"Название фильма\", \"Год производства\", \"Вид Фильма\", \"Продолжительность демонстрации, минуты\", \"Страна производства\"]```"
   ]
  },
  {
   "cell_type": "code",
   "execution_count": null,
   "metadata": {
    "id": "-IKatIGOKQZk"
   },
   "outputs": [],
   "source": []
  },
  {
   "cell_type": "markdown",
   "metadata": {
    "id": "encZm_RYKQZk"
   },
   "source": [
    "Сколько фильмов каждого типа в наборе данных?"
   ]
  },
  {
   "cell_type": "code",
   "execution_count": null,
   "metadata": {
    "id": "DXxMowq8KQZk"
   },
   "outputs": [],
   "source": []
  },
  {
   "cell_type": "markdown",
   "metadata": {
    "id": "XyXpzihkKQZk"
   },
   "source": [
    "Какая проблема есть в данных? Как можно ее исправить с помощью ```apply```?"
   ]
  },
  {
   "cell_type": "code",
   "execution_count": 275,
   "metadata": {
    "id": "g0gXKcZ6KQZk"
   },
   "outputs": [],
   "source": [
    "def fix_film_type(text):\n",
    "\n",
    "    # ваш код\n",
    "\n",
    "    return new_text"
   ]
  },
  {
   "cell_type": "code",
   "execution_count": null,
   "metadata": {
    "id": "490EFPbdKQZk"
   },
   "outputs": [],
   "source": [
    "# тестируем\n",
    "\n",
    "text = \"\"\n",
    "\n",
    "fix_film_type(text)"
   ]
  },
  {
   "cell_type": "code",
   "execution_count": null,
   "metadata": {
    "id": "3A337iA5KQZk"
   },
   "outputs": [],
   "source": [
    "# применяем\n",
    "\n"
   ]
  },
  {
   "cell_type": "code",
   "execution_count": null,
   "metadata": {
    "id": "rRpY846GKQZl"
   },
   "outputs": [],
   "source": [
    "# повторим запрос по количеству фильмов\n",
    "\n"
   ]
  },
  {
   "cell_type": "markdown",
   "metadata": {
    "id": "rGEdOoo3KQZl"
   },
   "source": [
    "Заменим длинные названия столбцов на более короткие на латинице"
   ]
  },
  {
   "cell_type": "code",
   "execution_count": null,
   "metadata": {
    "id": "2bf7AUmHKQZl"
   },
   "outputs": [],
   "source": []
  },
  {
   "cell_type": "markdown",
   "metadata": {
    "id": "hZUOHVisKQZl"
   },
   "source": [
    "Какова средняя или медианная продолжительность фильмов по странам? И сколько фильмов?"
   ]
  },
  {
   "cell_type": "code",
   "execution_count": null,
   "metadata": {
    "id": "Mxp1NUZaKQZl"
   },
   "outputs": [],
   "source": []
  }
 ],
 "metadata": {
  "colab": {
   "provenance": []
  },
  "interpreter": {
   "hash": "2ce43fa76ab3efd8b793de81ff92f0816c1b946b31e6af34d67351b015f361e9"
  },
  "kernelspec": {
   "display_name": "Python 3 (ipykernel)",
   "language": "python",
   "name": "python3"
  },
  "language_info": {
   "codemirror_mode": {
    "name": "ipython",
    "version": 3
   },
   "file_extension": ".py",
   "mimetype": "text/x-python",
   "name": "python",
   "nbconvert_exporter": "python",
   "pygments_lexer": "ipython3",
   "version": "3.11.5"
  }
 },
 "nbformat": 4,
 "nbformat_minor": 4
}
