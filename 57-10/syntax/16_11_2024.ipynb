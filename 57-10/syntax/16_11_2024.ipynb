{
  "cells": [
    {
      "cell_type": "markdown",
      "source": [
        "# Синтаксис: зависимостный парсинг (*dependency parsing*)"
      ],
      "metadata": {
        "id": "TUFB-T4ka_vB"
      }
    },
    {
      "cell_type": "markdown",
      "source": [
        "Зависимостный парсинг $-$ одна из немногих задач, где лингвистика и компьютерные науки продуктивно взаимодействуют. Основную теорию тут разрабатывают лингвисты, они же размечают корпусы, а модели построены на самых последних разработках в области машинного обучения.\n",
        "\n",
        "**Что такое парсинг вообще и в какой момент его нужно использовать?**\n",
        "\n",
        "Сначала мы токенизируем текст и лемматизируем (делаем морфологический разбор), а потом мы переходим к **синтаксису** и вот тут-то нам и нужен парсер.\n",
        "\n",
        "Самые популярные парсеры:\n",
        "    \n",
        "- [**SyntaxNet (DRAGNN)**](https://github.com/tensorflow/models/tree/f2f25096d3dc6561a855dab914cf2913100728d6/research/syntaxnet) от гугла.<br>SyntaxNet активно развивается, но его достаточно трудоемко ставить.\n",
        "- **UDPipe** от Карлова Университета в Чехии.<br>UDPipe работает похуже, но установить его легче.\n",
        "- [**Spacy**](https://spacy.io/)\n",
        "- **TurkuNLP** - от университета Турку (это Финляндия).<br>Позиционируется он как парсер для финского, но там есть много других предобученных моделей и можно обучать свои.\n",
        "- [**MaltParser**](http://www.maltparser.org/)"
      ],
      "metadata": {
        "id": "5bEykYPDa49m"
      }
    },
    {
      "cell_type": "markdown",
      "source": [
        "При парсинге используется **грамматика зависимостей**, а не грамматика составляющих. Так, любое предложение можно представить в виде дерева зависимостей.\n",
        "\n",
        "![](https://upload.wikimedia.org/wikipedia/commons/0/0d/Wearetryingtounderstandthedifference_%282%29.jpg)"
      ],
      "metadata": {
        "id": "Oe6ZLemGdboL"
      }
    },
    {
      "cell_type": "markdown",
      "source": [
        "## SpaCy"
      ],
      "metadata": {
        "id": "jZmKcqsaeIKq"
      }
    },
    {
      "cell_type": "markdown",
      "metadata": {
        "id": "JPpBL05IKLjY"
      },
      "source": [
        "+ Библиотека для продвинутого NLP\n",
        "+ Ряд языков: английский, русский, китайский, немецкий, французский, итальянский, польский, испанский и др. Разрабатываются модели для всё новых языков\n",
        "+ Про spaCy: https://spacy.io/usage\n",
        "+ Установка:\n",
        "```python\n",
        "pip install -U spacy\n",
        "```\n",
        "    - для английского:\n",
        "    ```python\n",
        "    python -m spacy download en_core_web_sm\n",
        "    ```\n",
        "    - для русского:\n",
        "    ```python\n",
        "    python -m spacy download ru_core_news_sm\n",
        "    ```"
      ]
    },
    {
      "cell_type": "code",
      "source": [
        "!pip install -U spacy --q\n",
        "!python -m spacy download en_core_web_sm --q\n",
        "!python -m spacy download ru_core_news_sm --q"
      ],
      "metadata": {
        "id": "x7Pqt_57LYXJ"
      },
      "execution_count": null,
      "outputs": []
    },
    {
      "cell_type": "code",
      "execution_count": null,
      "metadata": {
        "id": "7Rzo5Yc8KLja"
      },
      "outputs": [],
      "source": [
        "import spacy"
      ]
    },
    {
      "cell_type": "markdown",
      "metadata": {
        "id": "pos1rraaKLjd"
      },
      "source": [
        "### Функционал"
      ]
    },
    {
      "cell_type": "markdown",
      "metadata": {
        "id": "zpRgnhiOKLje"
      },
      "source": [
        "#### Лемматизация (+ токенизация): `.lemma_`"
      ]
    },
    {
      "cell_type": "code",
      "source": [
        "nlp_en = spacy.load(\"en_core_web_sm\")"
      ],
      "metadata": {
        "id": "DLPAWFBjm4HJ"
      },
      "execution_count": null,
      "outputs": []
    },
    {
      "cell_type": "code",
      "source": [
        "chomsky_doc = nlp_en(\"Colorless green ideas sleep furiously\")\n",
        "shakespeare_doc = nlp_en(\"To be, or not to be, that is the question: Whether 'tis nobler in the mind to suffer\")"
      ],
      "metadata": {
        "id": "7h2jb-xUOh2w"
      },
      "execution_count": null,
      "outputs": []
    },
    {
      "cell_type": "code",
      "execution_count": null,
      "metadata": {
        "id": "am9qPlyeKLjf",
        "outputId": "3c5ec93b-8e92-4c2e-bd20-89abbbc22f6f",
        "colab": {
          "base_uri": "https://localhost:8080/"
        }
      },
      "outputs": [
        {
          "output_type": "stream",
          "name": "stdout",
          "text": [
            "Colorless colorless\n",
            "green green\n",
            "ideas idea\n",
            "sleep sleep\n",
            "furiously furiously\n"
          ]
        }
      ],
      "source": [
        "for token in chomsky_doc:\n",
        "    print(token.text, token.lemma_)"
      ]
    },
    {
      "cell_type": "code",
      "execution_count": null,
      "metadata": {
        "id": "JxjCMvYFKLjg",
        "outputId": "1d857a7f-03aa-482a-ad75-3d005bd52d1f",
        "colab": {
          "base_uri": "https://localhost:8080/"
        }
      },
      "outputs": [
        {
          "output_type": "stream",
          "name": "stdout",
          "text": [
            "To to\n",
            "be be\n",
            ", ,\n",
            "or or\n",
            "not not\n",
            "to to\n",
            "be be\n",
            ", ,\n",
            "that that\n",
            "is be\n",
            "the the\n",
            "question question\n",
            ": :\n",
            "Whether whether\n",
            "' '\n",
            "tis tis\n",
            "nobler nobler\n",
            "in in\n",
            "the the\n",
            "mind mind\n",
            "to to\n",
            "suffer suffer\n"
          ]
        }
      ],
      "source": [
        "for token in shakespeare_doc:\n",
        "    print(token.text, token.lemma_)"
      ]
    },
    {
      "cell_type": "markdown",
      "source": [
        "#### Частеречная разметка: `.pos_`"
      ],
      "metadata": {
        "id": "yHNsr0TFOTDG"
      }
    },
    {
      "cell_type": "markdown",
      "source": [
        "[Документация](https://spacy.io/usage/linguistic-features#pos-tagging) с тегами."
      ],
      "metadata": {
        "id": "eHaXR6KBIh7Z"
      }
    },
    {
      "cell_type": "code",
      "execution_count": null,
      "metadata": {
        "id": "_oeiP4NdKLjd",
        "outputId": "dd76ab9c-a09a-477a-b3f5-f2d617639805",
        "colab": {
          "base_uri": "https://localhost:8080/"
        }
      },
      "outputs": [
        {
          "output_type": "stream",
          "name": "stdout",
          "text": [
            "Colorless ADJ\n",
            "green ADJ\n",
            "ideas NOUN\n",
            "sleep VERB\n",
            "furiously ADV\n"
          ]
        }
      ],
      "source": [
        "for token in chomsky_doc:\n",
        "    print(token.text, token.pos_)"
      ]
    },
    {
      "cell_type": "markdown",
      "source": [
        "#### Морфологический анализ: `.morph`"
      ],
      "metadata": {
        "id": "Jbt68hmhOvbi"
      }
    },
    {
      "cell_type": "code",
      "execution_count": null,
      "metadata": {
        "id": "ksDI8VvIKLjf",
        "outputId": "59d92aee-f68c-4c82-ec9c-d48416c7bd1b",
        "colab": {
          "base_uri": "https://localhost:8080/"
        }
      },
      "outputs": [
        {
          "output_type": "stream",
          "name": "stdout",
          "text": [
            "Colorless ADJ Degree=Pos\n",
            "green ADJ Degree=Pos\n",
            "ideas NOUN Number=Plur\n",
            "sleep VERB Tense=Pres|VerbForm=Fin\n",
            "furiously ADV \n"
          ]
        }
      ],
      "source": [
        "for token in chomsky_doc:\n",
        "    print(token.text, token.pos_, token.morph)"
      ]
    },
    {
      "cell_type": "markdown",
      "metadata": {
        "id": "s0ewrNhtKLjg"
      },
      "source": [
        "#### Синтаксис: деревья зависимостей"
      ]
    },
    {
      "cell_type": "markdown",
      "source": [
        "[Документация](https://spacy.io/usage/linguistic-features#dependency-parse) с тегами."
      ],
      "metadata": {
        "id": "HmKF71lAISEK"
      }
    },
    {
      "cell_type": "code",
      "execution_count": null,
      "metadata": {
        "id": "8qXmohD4KLjg",
        "outputId": "eb4338cc-e3a0-4a82-eb40-f3239bbb9104",
        "colab": {
          "base_uri": "https://localhost:8080/"
        }
      },
      "outputs": [
        {
          "output_type": "stream",
          "name": "stdout",
          "text": [
            "Colorless colorless ADJ amod\n",
            "green green ADJ amod\n",
            "ideas idea NOUN nsubj\n",
            "sleep sleep VERB ROOT\n",
            "furiously furiously ADV advmod\n"
          ]
        }
      ],
      "source": [
        "for token in chomsky_doc:\n",
        "    print(token.text, token.lemma_, token.pos_, token.dep_)"
      ]
    },
    {
      "cell_type": "markdown",
      "metadata": {
        "id": "5m4ZZR3dKLjh"
      },
      "source": [
        "#### Навигация по дереву: вершины и зависимые"
      ]
    },
    {
      "cell_type": "markdown",
      "metadata": {
        "id": "Ynj_OhfqKLjh"
      },
      "source": [
        "Используется терминология `.head` (вершина) и `.children` (зависимые)"
      ]
    },
    {
      "cell_type": "code",
      "execution_count": null,
      "metadata": {
        "id": "YuV3moVYKLjh",
        "outputId": "14526fd7-0177-445e-d074-35f0805c752e",
        "colab": {
          "base_uri": "https://localhost:8080/"
        }
      },
      "outputs": [
        {
          "output_type": "stream",
          "name": "stdout",
          "text": [
            "Colorless amod ideas NOUN []\n",
            "green amod ideas NOUN []\n",
            "ideas nsubj sleep VERB [Colorless, green]\n",
            "sleep ROOT sleep VERB [ideas, furiously]\n",
            "furiously advmod sleep VERB []\n"
          ]
        }
      ],
      "source": [
        "for token in chomsky_doc:\n",
        "    print(token.text, token.dep_, token.head.text, token.head.pos_,\n",
        "            [child for child in token.children])"
      ]
    },
    {
      "cell_type": "code",
      "source": [
        "donkey_doc = nlp_en(\"If a farmer owns a donkey, he beats it.\")"
      ],
      "metadata": {
        "id": "rp5m3nr3P0RU"
      },
      "execution_count": null,
      "outputs": []
    },
    {
      "cell_type": "code",
      "execution_count": null,
      "metadata": {
        "id": "UUy1TmKSKLjh",
        "outputId": "d6d97b1b-3f09-476c-f329-e8f1a0abb05e",
        "colab": {
          "base_uri": "https://localhost:8080/"
        }
      },
      "outputs": [
        {
          "output_type": "stream",
          "name": "stdout",
          "text": [
            "If mark owns VERB []\n",
            "a det farmer NOUN []\n",
            "farmer nsubj owns VERB [a]\n",
            "owns advcl beats VERB [If, farmer, donkey]\n",
            "a det donkey NOUN []\n",
            "donkey dobj owns VERB [a]\n",
            ", punct beats VERB []\n",
            "he nsubj beats VERB []\n",
            "beats ROOT beats VERB [owns, ,, he, it, .]\n",
            "it dobj beats VERB []\n",
            ". punct beats VERB []\n"
          ]
        }
      ],
      "source": [
        "for token in donkey_doc:\n",
        "    print(token.text, token.dep_, token.head.text, token.head.pos_,\n",
        "            [child for child in token.children])"
      ]
    },
    {
      "cell_type": "markdown",
      "metadata": {
        "id": "B7EKvs8gKLjh"
      },
      "source": [
        "Найдём детей *beats* справа (`.rights`) и слева (`.lefts`) в дереве:"
      ]
    },
    {
      "cell_type": "code",
      "execution_count": null,
      "metadata": {
        "id": "pnyF60eRKLji",
        "outputId": "50853d01-00f8-4fc1-d6cf-041cfaff9256",
        "colab": {
          "base_uri": "https://localhost:8080/"
        }
      },
      "outputs": [
        {
          "output_type": "stream",
          "name": "stdout",
          "text": [
            "beats\n",
            "3 left child(ren): ['owns', ',', 'he']\n",
            "2 right child(ren): ['it', '.']\n"
          ]
        }
      ],
      "source": [
        "donkey_doc = nlp_en(\"If a farmer owns a donkey, he beats it.\")\n",
        "print(donkey_doc[8])\n",
        "print(f'{donkey_doc[8].n_lefts} left child(ren): {[token.text for token in donkey_doc[8].lefts]}')\n",
        "print(f'{donkey_doc[8].n_rights} right child(ren): {[token.text for token in donkey_doc[8].rights]}')"
      ]
    },
    {
      "cell_type": "markdown",
      "metadata": {
        "id": "eB9QVlFkKLji"
      },
      "source": [
        "Теперь найдём тип зависимости, детей слева, детей справа, родителей:"
      ]
    },
    {
      "cell_type": "code",
      "execution_count": null,
      "metadata": {
        "id": "PAaaWRtfKLji",
        "outputId": "fa533ef9-86e1-4491-c857-a98d462e92d2",
        "colab": {
          "base_uri": "https://localhost:8080/"
        }
      },
      "outputs": [
        {
          "output_type": "stream",
          "name": "stdout",
          "text": [
            "If mark 0 0 ['owns', 'beats']\n",
            "a det 0 0 ['farmer', 'owns', 'beats']\n",
            "farmer nsubj 1 0 ['owns', 'beats']\n",
            "owns advcl 2 1 ['beats']\n",
            "a det 0 0 ['donkey', 'owns', 'beats']\n",
            "donkey dobj 1 0 ['owns', 'beats']\n"
          ]
        }
      ],
      "source": [
        "root = [token for token in donkey_doc if token.head == token][0]  # находим корневой элемент\n",
        "subject = list(root.lefts)[0]  # берем только детей слева (ака if-часть)\n",
        "for descendant in subject.subtree:\n",
        "    assert subject is descendant or subject.is_ancestor(descendant)\n",
        "    print(descendant.text,  # слово\n",
        "          descendant.dep_,  # тип зависимости\n",
        "          descendant.n_lefts,  # сколько детей слева\n",
        "          descendant.n_rights,  # сколько детей справа\n",
        "          [ancestor.text for ancestor in descendant.ancestors]  # список родителей\n",
        "          )"
      ]
    },
    {
      "cell_type": "markdown",
      "metadata": {
        "id": "OBDCWi-dKLji"
      },
      "source": [
        "Распечатаем часть речи, тип зависимости, вершину:"
      ]
    },
    {
      "cell_type": "code",
      "execution_count": null,
      "metadata": {
        "id": "1Ja6rJTZKLjj",
        "outputId": "2a8364b0-6463-497f-be43-74c353479d4d",
        "colab": {
          "base_uri": "https://localhost:8080/"
        }
      },
      "outputs": [
        {
          "output_type": "stream",
          "name": "stdout",
          "text": [
            "If SCONJ mark owns\n",
            "a DET det farmer\n",
            "farmer NOUN nsubj owns\n",
            "owns VERB advcl beats\n",
            "a DET det donkey\n",
            "donkey NOUN dobj owns\n",
            ", PUNCT punct beats\n",
            "he PRON nsubj beats\n",
            "beats VERB ROOT beats\n",
            "it PRON dobj beats\n",
            ". PUNCT punct beats\n"
          ]
        }
      ],
      "source": [
        "for token in donkey_doc:\n",
        "    print(token.text, token.pos_, token.dep_, token.head.text)"
      ]
    },
    {
      "cell_type": "markdown",
      "metadata": {
        "id": "S65SI0T4KLjj"
      },
      "source": [
        "Визуализируем дерево:"
      ]
    },
    {
      "cell_type": "code",
      "execution_count": null,
      "metadata": {
        "id": "v7wuwD2rKLjj"
      },
      "outputs": [],
      "source": [
        "from spacy import displacy"
      ]
    },
    {
      "cell_type": "code",
      "execution_count": null,
      "metadata": {
        "id": "-6YrejUGKLjj",
        "outputId": "07dae4e3-8d1f-48be-cc94-93c82bbeeeb3",
        "colab": {
          "base_uri": "https://localhost:8080/",
          "height": 441
        }
      },
      "outputs": [
        {
          "output_type": "display_data",
          "data": {
            "text/plain": [
              "<IPython.core.display.HTML object>"
            ],
            "text/html": [
              "<span class=\"tex2jax_ignore\"><svg xmlns=\"http://www.w3.org/2000/svg\" xmlns:xlink=\"http://www.w3.org/1999/xlink\" xml:lang=\"en\" id=\"ef2685b5091c4c88812673161775f5c3-0\" class=\"displacy\" width=\"1625\" height=\"399.5\" direction=\"ltr\" style=\"max-width: none; height: 399.5px; color: #000000; background: #ffffff; font-family: Arial; direction: ltr\">\n",
              "<text class=\"displacy-token\" fill=\"currentColor\" text-anchor=\"middle\" y=\"309.5\">\n",
              "    <tspan class=\"displacy-word\" fill=\"currentColor\" x=\"50\">If</tspan>\n",
              "    <tspan class=\"displacy-tag\" dy=\"2em\" fill=\"currentColor\" x=\"50\">SCONJ</tspan>\n",
              "</text>\n",
              "\n",
              "<text class=\"displacy-token\" fill=\"currentColor\" text-anchor=\"middle\" y=\"309.5\">\n",
              "    <tspan class=\"displacy-word\" fill=\"currentColor\" x=\"225\">a</tspan>\n",
              "    <tspan class=\"displacy-tag\" dy=\"2em\" fill=\"currentColor\" x=\"225\">DET</tspan>\n",
              "</text>\n",
              "\n",
              "<text class=\"displacy-token\" fill=\"currentColor\" text-anchor=\"middle\" y=\"309.5\">\n",
              "    <tspan class=\"displacy-word\" fill=\"currentColor\" x=\"400\">farmer</tspan>\n",
              "    <tspan class=\"displacy-tag\" dy=\"2em\" fill=\"currentColor\" x=\"400\">NOUN</tspan>\n",
              "</text>\n",
              "\n",
              "<text class=\"displacy-token\" fill=\"currentColor\" text-anchor=\"middle\" y=\"309.5\">\n",
              "    <tspan class=\"displacy-word\" fill=\"currentColor\" x=\"575\">owns</tspan>\n",
              "    <tspan class=\"displacy-tag\" dy=\"2em\" fill=\"currentColor\" x=\"575\">VERB</tspan>\n",
              "</text>\n",
              "\n",
              "<text class=\"displacy-token\" fill=\"currentColor\" text-anchor=\"middle\" y=\"309.5\">\n",
              "    <tspan class=\"displacy-word\" fill=\"currentColor\" x=\"750\">a</tspan>\n",
              "    <tspan class=\"displacy-tag\" dy=\"2em\" fill=\"currentColor\" x=\"750\">DET</tspan>\n",
              "</text>\n",
              "\n",
              "<text class=\"displacy-token\" fill=\"currentColor\" text-anchor=\"middle\" y=\"309.5\">\n",
              "    <tspan class=\"displacy-word\" fill=\"currentColor\" x=\"925\">donkey,</tspan>\n",
              "    <tspan class=\"displacy-tag\" dy=\"2em\" fill=\"currentColor\" x=\"925\">NOUN</tspan>\n",
              "</text>\n",
              "\n",
              "<text class=\"displacy-token\" fill=\"currentColor\" text-anchor=\"middle\" y=\"309.5\">\n",
              "    <tspan class=\"displacy-word\" fill=\"currentColor\" x=\"1100\">he</tspan>\n",
              "    <tspan class=\"displacy-tag\" dy=\"2em\" fill=\"currentColor\" x=\"1100\">PRON</tspan>\n",
              "</text>\n",
              "\n",
              "<text class=\"displacy-token\" fill=\"currentColor\" text-anchor=\"middle\" y=\"309.5\">\n",
              "    <tspan class=\"displacy-word\" fill=\"currentColor\" x=\"1275\">beats</tspan>\n",
              "    <tspan class=\"displacy-tag\" dy=\"2em\" fill=\"currentColor\" x=\"1275\">VERB</tspan>\n",
              "</text>\n",
              "\n",
              "<text class=\"displacy-token\" fill=\"currentColor\" text-anchor=\"middle\" y=\"309.5\">\n",
              "    <tspan class=\"displacy-word\" fill=\"currentColor\" x=\"1450\">it.</tspan>\n",
              "    <tspan class=\"displacy-tag\" dy=\"2em\" fill=\"currentColor\" x=\"1450\">PRON</tspan>\n",
              "</text>\n",
              "\n",
              "<g class=\"displacy-arrow\">\n",
              "    <path class=\"displacy-arc\" id=\"arrow-ef2685b5091c4c88812673161775f5c3-0-0\" stroke-width=\"2px\" d=\"M70,264.5 C70,89.5 570.0,89.5 570.0,264.5\" fill=\"none\" stroke=\"currentColor\"/>\n",
              "    <text dy=\"1.25em\" style=\"font-size: 0.8em; letter-spacing: 1px\">\n",
              "        <textPath xlink:href=\"#arrow-ef2685b5091c4c88812673161775f5c3-0-0\" class=\"displacy-label\" startOffset=\"50%\" side=\"left\" fill=\"currentColor\" text-anchor=\"middle\">mark</textPath>\n",
              "    </text>\n",
              "    <path class=\"displacy-arrowhead\" d=\"M70,266.5 L62,254.5 78,254.5\" fill=\"currentColor\"/>\n",
              "</g>\n",
              "\n",
              "<g class=\"displacy-arrow\">\n",
              "    <path class=\"displacy-arc\" id=\"arrow-ef2685b5091c4c88812673161775f5c3-0-1\" stroke-width=\"2px\" d=\"M245,264.5 C245,177.0 390.0,177.0 390.0,264.5\" fill=\"none\" stroke=\"currentColor\"/>\n",
              "    <text dy=\"1.25em\" style=\"font-size: 0.8em; letter-spacing: 1px\">\n",
              "        <textPath xlink:href=\"#arrow-ef2685b5091c4c88812673161775f5c3-0-1\" class=\"displacy-label\" startOffset=\"50%\" side=\"left\" fill=\"currentColor\" text-anchor=\"middle\">det</textPath>\n",
              "    </text>\n",
              "    <path class=\"displacy-arrowhead\" d=\"M245,266.5 L237,254.5 253,254.5\" fill=\"currentColor\"/>\n",
              "</g>\n",
              "\n",
              "<g class=\"displacy-arrow\">\n",
              "    <path class=\"displacy-arc\" id=\"arrow-ef2685b5091c4c88812673161775f5c3-0-2\" stroke-width=\"2px\" d=\"M420,264.5 C420,177.0 565.0,177.0 565.0,264.5\" fill=\"none\" stroke=\"currentColor\"/>\n",
              "    <text dy=\"1.25em\" style=\"font-size: 0.8em; letter-spacing: 1px\">\n",
              "        <textPath xlink:href=\"#arrow-ef2685b5091c4c88812673161775f5c3-0-2\" class=\"displacy-label\" startOffset=\"50%\" side=\"left\" fill=\"currentColor\" text-anchor=\"middle\">nsubj</textPath>\n",
              "    </text>\n",
              "    <path class=\"displacy-arrowhead\" d=\"M420,266.5 L412,254.5 428,254.5\" fill=\"currentColor\"/>\n",
              "</g>\n",
              "\n",
              "<g class=\"displacy-arrow\">\n",
              "    <path class=\"displacy-arc\" id=\"arrow-ef2685b5091c4c88812673161775f5c3-0-3\" stroke-width=\"2px\" d=\"M595,264.5 C595,2.0 1275.0,2.0 1275.0,264.5\" fill=\"none\" stroke=\"currentColor\"/>\n",
              "    <text dy=\"1.25em\" style=\"font-size: 0.8em; letter-spacing: 1px\">\n",
              "        <textPath xlink:href=\"#arrow-ef2685b5091c4c88812673161775f5c3-0-3\" class=\"displacy-label\" startOffset=\"50%\" side=\"left\" fill=\"currentColor\" text-anchor=\"middle\">advcl</textPath>\n",
              "    </text>\n",
              "    <path class=\"displacy-arrowhead\" d=\"M595,266.5 L587,254.5 603,254.5\" fill=\"currentColor\"/>\n",
              "</g>\n",
              "\n",
              "<g class=\"displacy-arrow\">\n",
              "    <path class=\"displacy-arc\" id=\"arrow-ef2685b5091c4c88812673161775f5c3-0-4\" stroke-width=\"2px\" d=\"M770,264.5 C770,177.0 915.0,177.0 915.0,264.5\" fill=\"none\" stroke=\"currentColor\"/>\n",
              "    <text dy=\"1.25em\" style=\"font-size: 0.8em; letter-spacing: 1px\">\n",
              "        <textPath xlink:href=\"#arrow-ef2685b5091c4c88812673161775f5c3-0-4\" class=\"displacy-label\" startOffset=\"50%\" side=\"left\" fill=\"currentColor\" text-anchor=\"middle\">det</textPath>\n",
              "    </text>\n",
              "    <path class=\"displacy-arrowhead\" d=\"M770,266.5 L762,254.5 778,254.5\" fill=\"currentColor\"/>\n",
              "</g>\n",
              "\n",
              "<g class=\"displacy-arrow\">\n",
              "    <path class=\"displacy-arc\" id=\"arrow-ef2685b5091c4c88812673161775f5c3-0-5\" stroke-width=\"2px\" d=\"M595,264.5 C595,89.5 920.0,89.5 920.0,264.5\" fill=\"none\" stroke=\"currentColor\"/>\n",
              "    <text dy=\"1.25em\" style=\"font-size: 0.8em; letter-spacing: 1px\">\n",
              "        <textPath xlink:href=\"#arrow-ef2685b5091c4c88812673161775f5c3-0-5\" class=\"displacy-label\" startOffset=\"50%\" side=\"left\" fill=\"currentColor\" text-anchor=\"middle\">dobj</textPath>\n",
              "    </text>\n",
              "    <path class=\"displacy-arrowhead\" d=\"M920.0,266.5 L928.0,254.5 912.0,254.5\" fill=\"currentColor\"/>\n",
              "</g>\n",
              "\n",
              "<g class=\"displacy-arrow\">\n",
              "    <path class=\"displacy-arc\" id=\"arrow-ef2685b5091c4c88812673161775f5c3-0-6\" stroke-width=\"2px\" d=\"M1120,264.5 C1120,177.0 1265.0,177.0 1265.0,264.5\" fill=\"none\" stroke=\"currentColor\"/>\n",
              "    <text dy=\"1.25em\" style=\"font-size: 0.8em; letter-spacing: 1px\">\n",
              "        <textPath xlink:href=\"#arrow-ef2685b5091c4c88812673161775f5c3-0-6\" class=\"displacy-label\" startOffset=\"50%\" side=\"left\" fill=\"currentColor\" text-anchor=\"middle\">nsubj</textPath>\n",
              "    </text>\n",
              "    <path class=\"displacy-arrowhead\" d=\"M1120,266.5 L1112,254.5 1128,254.5\" fill=\"currentColor\"/>\n",
              "</g>\n",
              "\n",
              "<g class=\"displacy-arrow\">\n",
              "    <path class=\"displacy-arc\" id=\"arrow-ef2685b5091c4c88812673161775f5c3-0-7\" stroke-width=\"2px\" d=\"M1295,264.5 C1295,177.0 1440.0,177.0 1440.0,264.5\" fill=\"none\" stroke=\"currentColor\"/>\n",
              "    <text dy=\"1.25em\" style=\"font-size: 0.8em; letter-spacing: 1px\">\n",
              "        <textPath xlink:href=\"#arrow-ef2685b5091c4c88812673161775f5c3-0-7\" class=\"displacy-label\" startOffset=\"50%\" side=\"left\" fill=\"currentColor\" text-anchor=\"middle\">dobj</textPath>\n",
              "    </text>\n",
              "    <path class=\"displacy-arrowhead\" d=\"M1440.0,266.5 L1448.0,254.5 1432.0,254.5\" fill=\"currentColor\"/>\n",
              "</g>\n",
              "</svg></span>"
            ]
          },
          "metadata": {}
        }
      ],
      "source": [
        "displacy.render(donkey_doc, style='dep')"
      ]
    },
    {
      "cell_type": "markdown",
      "metadata": {
        "id": "4NOLHFHFKLjk"
      },
      "source": [
        "#### Named Entity Recognition (NER)"
      ]
    },
    {
      "cell_type": "code",
      "source": [
        "from spacy.tokens import Span"
      ],
      "metadata": {
        "id": "D9ZEAHBnXQuM"
      },
      "execution_count": null,
      "outputs": []
    },
    {
      "cell_type": "code",
      "source": [
        "doc_twit = nlp_en(\"President Donald Trump is permanently blocked on Twitter.\")\n",
        "\n",
        "for ent in doc_twit.ents:\n",
        "    print(ent.text, ent.start_char, ent.end_char, ent.label_)"
      ],
      "metadata": {
        "colab": {
          "base_uri": "https://localhost:8080/"
        },
        "id": "4NHJQCmaWAY4",
        "outputId": "9aaf4b2f-54e2-4ecd-ce7e-2e2de96aa683"
      },
      "execution_count": null,
      "outputs": [
        {
          "output_type": "stream",
          "name": "stdout",
          "text": [
            "Donald Trump 10 22 PERSON\n",
            "Twitter 49 56 PRODUCT\n"
          ]
        }
      ]
    },
    {
      "cell_type": "code",
      "execution_count": null,
      "metadata": {
        "id": "MOjDeVHQKLjl",
        "outputId": "9988d0ef-4f22-4f44-c336-4c54dd370130",
        "colab": {
          "base_uri": "https://localhost:8080/"
        }
      },
      "outputs": [
        {
          "output_type": "stream",
          "name": "stdout",
          "text": [
            "Before [('Donald Trump', 10, 22, 'PERSON'), ('Twitter', 49, 56, 'PRODUCT')]\n",
            "After [('President', 0, 9, 'PE'), ('Donald Trump', 10, 22, 'PERSON'), ('Twitter', 49, 56, 'PRODUCT')]\n"
          ]
        }
      ],
      "source": [
        "ents = [(e.text, e.start_char, e.end_char, e.label_) for e in doc_twit.ents]\n",
        "print('Before', ents)\n",
        "# the model didn't recognise \"President\" :(\n",
        "\n",
        "president_ent = Span(doc_twit, 0, 1, label=\"PE\")  # create a Span for the new entity, PE = political entity\n",
        "doc_twit.ents = list(doc_twit.ents) + [president_ent]\n",
        "\n",
        "ents = [(e.text, e.start_char, e.end_char, e.label_) for e in doc_twit.ents]\n",
        "print('After', ents)"
      ]
    },
    {
      "cell_type": "code",
      "source": [
        "displacy.render(doc_twit, style='ent')"
      ],
      "metadata": {
        "colab": {
          "base_uri": "https://localhost:8080/",
          "height": 52
        },
        "id": "aKS_S_IwV8hj",
        "outputId": "0fa5029d-5aa8-4912-ece9-d71abf37ddfd"
      },
      "execution_count": null,
      "outputs": [
        {
          "output_type": "display_data",
          "data": {
            "text/plain": [
              "<IPython.core.display.HTML object>"
            ],
            "text/html": [
              "<span class=\"tex2jax_ignore\"><div class=\"entities\" style=\"line-height: 2.5; direction: ltr\">\n",
              "<mark class=\"entity\" style=\"background: #ddd; padding: 0.45em 0.6em; margin: 0 0.25em; line-height: 1; border-radius: 0.35em;\">\n",
              "    President\n",
              "    <span style=\"font-size: 0.8em; font-weight: bold; line-height: 1; border-radius: 0.35em; vertical-align: middle; margin-left: 0.5rem\">PE</span>\n",
              "</mark>\n",
              " \n",
              "<mark class=\"entity\" style=\"background: #aa9cfc; padding: 0.45em 0.6em; margin: 0 0.25em; line-height: 1; border-radius: 0.35em;\">\n",
              "    Donald Trump\n",
              "    <span style=\"font-size: 0.8em; font-weight: bold; line-height: 1; border-radius: 0.35em; vertical-align: middle; margin-left: 0.5rem\">PERSON</span>\n",
              "</mark>\n",
              " is permanently blocked on \n",
              "<mark class=\"entity\" style=\"background: #bfeeb7; padding: 0.45em 0.6em; margin: 0 0.25em; line-height: 1; border-radius: 0.35em;\">\n",
              "    Twitter\n",
              "    <span style=\"font-size: 0.8em; font-weight: bold; line-height: 1; border-radius: 0.35em; vertical-align: middle; margin-left: 0.5rem\">PRODUCT</span>\n",
              "</mark>\n",
              ".</div></span>"
            ]
          },
          "metadata": {}
        }
      ]
    },
    {
      "cell_type": "markdown",
      "metadata": {
        "id": "u7ye8dbTKLjm"
      },
      "source": [
        "#### Как обстоят дела с другими языками?"
      ]
    },
    {
      "cell_type": "markdown",
      "metadata": {
        "id": "4dMiq7uPKLjn"
      },
      "source": [
        "Загрузим модель для русского языка:"
      ]
    },
    {
      "cell_type": "code",
      "execution_count": null,
      "metadata": {
        "id": "KpxCZDapKLjn"
      },
      "outputs": [],
      "source": [
        "nlp_ru = spacy.load(\"ru_core_news_sm\")"
      ]
    },
    {
      "cell_type": "code",
      "execution_count": null,
      "metadata": {
        "id": "COYVAB7EKLjn",
        "outputId": "c500bf9d-f4bb-4eb9-fc97-d2f2a2981f5c",
        "colab": {
          "base_uri": "https://localhost:8080/"
        }
      },
      "outputs": [
        {
          "output_type": "stream",
          "name": "stdout",
          "text": [
            "Блины блин NOUN Animacy=Inan|Case=Nom|Gender=Masc|Number=Plur\n",
            "бабушка бабушка NOUN Animacy=Anim|Case=Nom|Gender=Fem|Number=Sing\n",
            "очень очень ADV Degree=Pos\n",
            "уж уж PART \n",
            "вкусные вкусный ADJ Case=Nom|Degree=Pos|Number=Plur\n",
            "печет печет NOUN Animacy=Inan|Case=Nom|Gender=Masc|Number=Sing\n",
            ". . PUNCT \n"
          ]
        }
      ],
      "source": [
        "pancakes_doc = nlp_ru(\"Блины бабушка очень уж вкусные печет.\")\n",
        "for token in pancakes_doc:\n",
        "    print(token.text, token.lemma_, token.pos_, token.morph)"
      ]
    },
    {
      "cell_type": "code",
      "source": [
        "displacy.render(pancakes_doc, style='dep')"
      ],
      "metadata": {
        "colab": {
          "base_uri": "https://localhost:8080/",
          "height": 421
        },
        "id": "fG_B5mfKaFzL",
        "outputId": "a85af300-e727-4af7-b056-6d28e579487b"
      },
      "execution_count": null,
      "outputs": [
        {
          "output_type": "display_data",
          "data": {
            "text/plain": [
              "<IPython.core.display.HTML object>"
            ],
            "text/html": [
              "<span class=\"tex2jax_ignore\"><svg xmlns=\"http://www.w3.org/2000/svg\" xmlns:xlink=\"http://www.w3.org/1999/xlink\" xml:lang=\"ru\" id=\"7b067e941266417d89d12d0e93a41509-0\" class=\"displacy\" width=\"1100\" height=\"399.5\" direction=\"ltr\" style=\"max-width: none; height: 399.5px; color: #000000; background: #ffffff; font-family: Arial; direction: ltr\">\n",
              "<text class=\"displacy-token\" fill=\"currentColor\" text-anchor=\"middle\" y=\"309.5\">\n",
              "    <tspan class=\"displacy-word\" fill=\"currentColor\" x=\"50\">Блины</tspan>\n",
              "    <tspan class=\"displacy-tag\" dy=\"2em\" fill=\"currentColor\" x=\"50\">NOUN</tspan>\n",
              "</text>\n",
              "\n",
              "<text class=\"displacy-token\" fill=\"currentColor\" text-anchor=\"middle\" y=\"309.5\">\n",
              "    <tspan class=\"displacy-word\" fill=\"currentColor\" x=\"225\">бабушка</tspan>\n",
              "    <tspan class=\"displacy-tag\" dy=\"2em\" fill=\"currentColor\" x=\"225\">NOUN</tspan>\n",
              "</text>\n",
              "\n",
              "<text class=\"displacy-token\" fill=\"currentColor\" text-anchor=\"middle\" y=\"309.5\">\n",
              "    <tspan class=\"displacy-word\" fill=\"currentColor\" x=\"400\">очень</tspan>\n",
              "    <tspan class=\"displacy-tag\" dy=\"2em\" fill=\"currentColor\" x=\"400\">ADV</tspan>\n",
              "</text>\n",
              "\n",
              "<text class=\"displacy-token\" fill=\"currentColor\" text-anchor=\"middle\" y=\"309.5\">\n",
              "    <tspan class=\"displacy-word\" fill=\"currentColor\" x=\"575\">уж</tspan>\n",
              "    <tspan class=\"displacy-tag\" dy=\"2em\" fill=\"currentColor\" x=\"575\">PART</tspan>\n",
              "</text>\n",
              "\n",
              "<text class=\"displacy-token\" fill=\"currentColor\" text-anchor=\"middle\" y=\"309.5\">\n",
              "    <tspan class=\"displacy-word\" fill=\"currentColor\" x=\"750\">вкусные</tspan>\n",
              "    <tspan class=\"displacy-tag\" dy=\"2em\" fill=\"currentColor\" x=\"750\">ADJ</tspan>\n",
              "</text>\n",
              "\n",
              "<text class=\"displacy-token\" fill=\"currentColor\" text-anchor=\"middle\" y=\"309.5\">\n",
              "    <tspan class=\"displacy-word\" fill=\"currentColor\" x=\"925\">печет.</tspan>\n",
              "    <tspan class=\"displacy-tag\" dy=\"2em\" fill=\"currentColor\" x=\"925\">NOUN</tspan>\n",
              "</text>\n",
              "\n",
              "<g class=\"displacy-arrow\">\n",
              "    <path class=\"displacy-arc\" id=\"arrow-7b067e941266417d89d12d0e93a41509-0-0\" stroke-width=\"2px\" d=\"M70,264.5 C70,2.0 925.0,2.0 925.0,264.5\" fill=\"none\" stroke=\"currentColor\"/>\n",
              "    <text dy=\"1.25em\" style=\"font-size: 0.8em; letter-spacing: 1px\">\n",
              "        <textPath xlink:href=\"#arrow-7b067e941266417d89d12d0e93a41509-0-0\" class=\"displacy-label\" startOffset=\"50%\" side=\"left\" fill=\"currentColor\" text-anchor=\"middle\">nsubj</textPath>\n",
              "    </text>\n",
              "    <path class=\"displacy-arrowhead\" d=\"M70,266.5 L62,254.5 78,254.5\" fill=\"currentColor\"/>\n",
              "</g>\n",
              "\n",
              "<g class=\"displacy-arrow\">\n",
              "    <path class=\"displacy-arc\" id=\"arrow-7b067e941266417d89d12d0e93a41509-0-1\" stroke-width=\"2px\" d=\"M245,264.5 C245,89.5 920.0,89.5 920.0,264.5\" fill=\"none\" stroke=\"currentColor\"/>\n",
              "    <text dy=\"1.25em\" style=\"font-size: 0.8em; letter-spacing: 1px\">\n",
              "        <textPath xlink:href=\"#arrow-7b067e941266417d89d12d0e93a41509-0-1\" class=\"displacy-label\" startOffset=\"50%\" side=\"left\" fill=\"currentColor\" text-anchor=\"middle\">nsubj</textPath>\n",
              "    </text>\n",
              "    <path class=\"displacy-arrowhead\" d=\"M245,266.5 L237,254.5 253,254.5\" fill=\"currentColor\"/>\n",
              "</g>\n",
              "\n",
              "<g class=\"displacy-arrow\">\n",
              "    <path class=\"displacy-arc\" id=\"arrow-7b067e941266417d89d12d0e93a41509-0-2\" stroke-width=\"2px\" d=\"M420,264.5 C420,177.0 565.0,177.0 565.0,264.5\" fill=\"none\" stroke=\"currentColor\"/>\n",
              "    <text dy=\"1.25em\" style=\"font-size: 0.8em; letter-spacing: 1px\">\n",
              "        <textPath xlink:href=\"#arrow-7b067e941266417d89d12d0e93a41509-0-2\" class=\"displacy-label\" startOffset=\"50%\" side=\"left\" fill=\"currentColor\" text-anchor=\"middle\">advmod</textPath>\n",
              "    </text>\n",
              "    <path class=\"displacy-arrowhead\" d=\"M420,266.5 L412,254.5 428,254.5\" fill=\"currentColor\"/>\n",
              "</g>\n",
              "\n",
              "<g class=\"displacy-arrow\">\n",
              "    <path class=\"displacy-arc\" id=\"arrow-7b067e941266417d89d12d0e93a41509-0-3\" stroke-width=\"2px\" d=\"M595,264.5 C595,177.0 740.0,177.0 740.0,264.5\" fill=\"none\" stroke=\"currentColor\"/>\n",
              "    <text dy=\"1.25em\" style=\"font-size: 0.8em; letter-spacing: 1px\">\n",
              "        <textPath xlink:href=\"#arrow-7b067e941266417d89d12d0e93a41509-0-3\" class=\"displacy-label\" startOffset=\"50%\" side=\"left\" fill=\"currentColor\" text-anchor=\"middle\">advmod</textPath>\n",
              "    </text>\n",
              "    <path class=\"displacy-arrowhead\" d=\"M595,266.5 L587,254.5 603,254.5\" fill=\"currentColor\"/>\n",
              "</g>\n",
              "\n",
              "<g class=\"displacy-arrow\">\n",
              "    <path class=\"displacy-arc\" id=\"arrow-7b067e941266417d89d12d0e93a41509-0-4\" stroke-width=\"2px\" d=\"M770,264.5 C770,177.0 915.0,177.0 915.0,264.5\" fill=\"none\" stroke=\"currentColor\"/>\n",
              "    <text dy=\"1.25em\" style=\"font-size: 0.8em; letter-spacing: 1px\">\n",
              "        <textPath xlink:href=\"#arrow-7b067e941266417d89d12d0e93a41509-0-4\" class=\"displacy-label\" startOffset=\"50%\" side=\"left\" fill=\"currentColor\" text-anchor=\"middle\">amod</textPath>\n",
              "    </text>\n",
              "    <path class=\"displacy-arrowhead\" d=\"M770,266.5 L762,254.5 778,254.5\" fill=\"currentColor\"/>\n",
              "</g>\n",
              "</svg></span>"
            ]
          },
          "metadata": {}
        }
      ]
    },
    {
      "cell_type": "code",
      "execution_count": null,
      "metadata": {
        "id": "DBKwaWbDKLjn",
        "outputId": "fcaaeea6-3f45-42e6-de2f-c4780952cf50",
        "colab": {
          "base_uri": "https://localhost:8080/",
          "height": 333
        }
      },
      "outputs": [
        {
          "output_type": "display_data",
          "data": {
            "text/plain": [
              "<IPython.core.display.HTML object>"
            ],
            "text/html": [
              "<span class=\"tex2jax_ignore\"><svg xmlns=\"http://www.w3.org/2000/svg\" xmlns:xlink=\"http://www.w3.org/1999/xlink\" xml:lang=\"ru\" id=\"f178b100ac234eccbbd9d6fafb6f819c-0\" class=\"displacy\" width=\"575\" height=\"312.0\" direction=\"ltr\" style=\"max-width: none; height: 312.0px; color: #000000; background: #ffffff; font-family: Arial; direction: ltr\">\n",
              "<text class=\"displacy-token\" fill=\"currentColor\" text-anchor=\"middle\" y=\"222.0\">\n",
              "    <tspan class=\"displacy-word\" fill=\"currentColor\" x=\"50\">Какой</tspan>\n",
              "    <tspan class=\"displacy-tag\" dy=\"2em\" fill=\"currentColor\" x=\"50\">DET</tspan>\n",
              "</text>\n",
              "\n",
              "<text class=\"displacy-token\" fill=\"currentColor\" text-anchor=\"middle\" y=\"222.0\">\n",
              "    <tspan class=\"displacy-word\" fill=\"currentColor\" x=\"225\">прекрасный</tspan>\n",
              "    <tspan class=\"displacy-tag\" dy=\"2em\" fill=\"currentColor\" x=\"225\">ADJ</tspan>\n",
              "</text>\n",
              "\n",
              "<text class=\"displacy-token\" fill=\"currentColor\" text-anchor=\"middle\" y=\"222.0\">\n",
              "    <tspan class=\"displacy-word\" fill=\"currentColor\" x=\"400\">пень!</tspan>\n",
              "    <tspan class=\"displacy-tag\" dy=\"2em\" fill=\"currentColor\" x=\"400\">NOUN</tspan>\n",
              "</text>\n",
              "\n",
              "<g class=\"displacy-arrow\">\n",
              "    <path class=\"displacy-arc\" id=\"arrow-f178b100ac234eccbbd9d6fafb6f819c-0-0\" stroke-width=\"2px\" d=\"M70,177.0 C70,2.0 400.0,2.0 400.0,177.0\" fill=\"none\" stroke=\"currentColor\"/>\n",
              "    <text dy=\"1.25em\" style=\"font-size: 0.8em; letter-spacing: 1px\">\n",
              "        <textPath xlink:href=\"#arrow-f178b100ac234eccbbd9d6fafb6f819c-0-0\" class=\"displacy-label\" startOffset=\"50%\" side=\"left\" fill=\"currentColor\" text-anchor=\"middle\">det</textPath>\n",
              "    </text>\n",
              "    <path class=\"displacy-arrowhead\" d=\"M70,179.0 L62,167.0 78,167.0\" fill=\"currentColor\"/>\n",
              "</g>\n",
              "\n",
              "<g class=\"displacy-arrow\">\n",
              "    <path class=\"displacy-arc\" id=\"arrow-f178b100ac234eccbbd9d6fafb6f819c-0-1\" stroke-width=\"2px\" d=\"M245,177.0 C245,89.5 395.0,89.5 395.0,177.0\" fill=\"none\" stroke=\"currentColor\"/>\n",
              "    <text dy=\"1.25em\" style=\"font-size: 0.8em; letter-spacing: 1px\">\n",
              "        <textPath xlink:href=\"#arrow-f178b100ac234eccbbd9d6fafb6f819c-0-1\" class=\"displacy-label\" startOffset=\"50%\" side=\"left\" fill=\"currentColor\" text-anchor=\"middle\">amod</textPath>\n",
              "    </text>\n",
              "    <path class=\"displacy-arrowhead\" d=\"M245,179.0 L237,167.0 253,167.0\" fill=\"currentColor\"/>\n",
              "</g>\n",
              "</svg></span>"
            ]
          },
          "metadata": {}
        }
      ],
      "source": [
        "mouse_doc = nlp_ru(\"Какой прекрасный пень!\")\n",
        "\n",
        "displacy.render(mouse_doc, style='dep')"
      ]
    },
    {
      "cell_type": "code",
      "execution_count": null,
      "metadata": {
        "id": "Sd8ZETooKLjo",
        "outputId": "caac7a3f-14a8-47bc-f3bc-56a5bb72aa9f",
        "colab": {
          "base_uri": "https://localhost:8080/",
          "height": 528
        }
      },
      "outputs": [
        {
          "output_type": "display_data",
          "data": {
            "text/plain": [
              "<IPython.core.display.HTML object>"
            ],
            "text/html": [
              "<span class=\"tex2jax_ignore\"><svg xmlns=\"http://www.w3.org/2000/svg\" xmlns:xlink=\"http://www.w3.org/1999/xlink\" xml:lang=\"ru\" id=\"15063e8ab8544cb797df0c4613bd41ae-0\" class=\"displacy\" width=\"1450\" height=\"487.0\" direction=\"ltr\" style=\"max-width: none; height: 487.0px; color: #000000; background: #ffffff; font-family: Arial; direction: ltr\">\n",
              "<text class=\"displacy-token\" fill=\"currentColor\" text-anchor=\"middle\" y=\"397.0\">\n",
              "    <tspan class=\"displacy-word\" fill=\"currentColor\" x=\"50\">Семантику</tspan>\n",
              "    <tspan class=\"displacy-tag\" dy=\"2em\" fill=\"currentColor\" x=\"50\">NOUN</tspan>\n",
              "</text>\n",
              "\n",
              "<text class=\"displacy-token\" fill=\"currentColor\" text-anchor=\"middle\" y=\"397.0\">\n",
              "    <tspan class=\"displacy-word\" fill=\"currentColor\" x=\"225\">я</tspan>\n",
              "    <tspan class=\"displacy-tag\" dy=\"2em\" fill=\"currentColor\" x=\"225\">PRON</tspan>\n",
              "</text>\n",
              "\n",
              "<text class=\"displacy-token\" fill=\"currentColor\" text-anchor=\"middle\" y=\"397.0\">\n",
              "    <tspan class=\"displacy-word\" fill=\"currentColor\" x=\"400\">люблю,</tspan>\n",
              "    <tspan class=\"displacy-tag\" dy=\"2em\" fill=\"currentColor\" x=\"400\">VERB</tspan>\n",
              "</text>\n",
              "\n",
              "<text class=\"displacy-token\" fill=\"currentColor\" text-anchor=\"middle\" y=\"397.0\">\n",
              "    <tspan class=\"displacy-word\" fill=\"currentColor\" x=\"575\">а</tspan>\n",
              "    <tspan class=\"displacy-tag\" dy=\"2em\" fill=\"currentColor\" x=\"575\">CCONJ</tspan>\n",
              "</text>\n",
              "\n",
              "<text class=\"displacy-token\" fill=\"currentColor\" text-anchor=\"middle\" y=\"397.0\">\n",
              "    <tspan class=\"displacy-word\" fill=\"currentColor\" x=\"750\">вот</tspan>\n",
              "    <tspan class=\"displacy-tag\" dy=\"2em\" fill=\"currentColor\" x=\"750\">PART</tspan>\n",
              "</text>\n",
              "\n",
              "<text class=\"displacy-token\" fill=\"currentColor\" text-anchor=\"middle\" y=\"397.0\">\n",
              "    <tspan class=\"displacy-word\" fill=\"currentColor\" x=\"925\">синтаксис</tspan>\n",
              "    <tspan class=\"displacy-tag\" dy=\"2em\" fill=\"currentColor\" x=\"925\">NOUN</tspan>\n",
              "</text>\n",
              "\n",
              "<text class=\"displacy-token\" fill=\"currentColor\" text-anchor=\"middle\" y=\"397.0\">\n",
              "    <tspan class=\"displacy-word\" fill=\"currentColor\" x=\"1100\">не</tspan>\n",
              "    <tspan class=\"displacy-tag\" dy=\"2em\" fill=\"currentColor\" x=\"1100\">PART</tspan>\n",
              "</text>\n",
              "\n",
              "<text class=\"displacy-token\" fill=\"currentColor\" text-anchor=\"middle\" y=\"397.0\">\n",
              "    <tspan class=\"displacy-word\" fill=\"currentColor\" x=\"1275\">очень.</tspan>\n",
              "    <tspan class=\"displacy-tag\" dy=\"2em\" fill=\"currentColor\" x=\"1275\">ADV</tspan>\n",
              "</text>\n",
              "\n",
              "<g class=\"displacy-arrow\">\n",
              "    <path class=\"displacy-arc\" id=\"arrow-15063e8ab8544cb797df0c4613bd41ae-0-0\" stroke-width=\"2px\" d=\"M70,352.0 C70,177.0 390.0,177.0 390.0,352.0\" fill=\"none\" stroke=\"currentColor\"/>\n",
              "    <text dy=\"1.25em\" style=\"font-size: 0.8em; letter-spacing: 1px\">\n",
              "        <textPath xlink:href=\"#arrow-15063e8ab8544cb797df0c4613bd41ae-0-0\" class=\"displacy-label\" startOffset=\"50%\" side=\"left\" fill=\"currentColor\" text-anchor=\"middle\">obj</textPath>\n",
              "    </text>\n",
              "    <path class=\"displacy-arrowhead\" d=\"M70,354.0 L62,342.0 78,342.0\" fill=\"currentColor\"/>\n",
              "</g>\n",
              "\n",
              "<g class=\"displacy-arrow\">\n",
              "    <path class=\"displacy-arc\" id=\"arrow-15063e8ab8544cb797df0c4613bd41ae-0-1\" stroke-width=\"2px\" d=\"M245,352.0 C245,264.5 385.0,264.5 385.0,352.0\" fill=\"none\" stroke=\"currentColor\"/>\n",
              "    <text dy=\"1.25em\" style=\"font-size: 0.8em; letter-spacing: 1px\">\n",
              "        <textPath xlink:href=\"#arrow-15063e8ab8544cb797df0c4613bd41ae-0-1\" class=\"displacy-label\" startOffset=\"50%\" side=\"left\" fill=\"currentColor\" text-anchor=\"middle\">nsubj</textPath>\n",
              "    </text>\n",
              "    <path class=\"displacy-arrowhead\" d=\"M245,354.0 L237,342.0 253,342.0\" fill=\"currentColor\"/>\n",
              "</g>\n",
              "\n",
              "<g class=\"displacy-arrow\">\n",
              "    <path class=\"displacy-arc\" id=\"arrow-15063e8ab8544cb797df0c4613bd41ae-0-2\" stroke-width=\"2px\" d=\"M595,352.0 C595,89.5 1270.0,89.5 1270.0,352.0\" fill=\"none\" stroke=\"currentColor\"/>\n",
              "    <text dy=\"1.25em\" style=\"font-size: 0.8em; letter-spacing: 1px\">\n",
              "        <textPath xlink:href=\"#arrow-15063e8ab8544cb797df0c4613bd41ae-0-2\" class=\"displacy-label\" startOffset=\"50%\" side=\"left\" fill=\"currentColor\" text-anchor=\"middle\">cc</textPath>\n",
              "    </text>\n",
              "    <path class=\"displacy-arrowhead\" d=\"M595,354.0 L587,342.0 603,342.0\" fill=\"currentColor\"/>\n",
              "</g>\n",
              "\n",
              "<g class=\"displacy-arrow\">\n",
              "    <path class=\"displacy-arc\" id=\"arrow-15063e8ab8544cb797df0c4613bd41ae-0-3\" stroke-width=\"2px\" d=\"M770,352.0 C770,264.5 910.0,264.5 910.0,352.0\" fill=\"none\" stroke=\"currentColor\"/>\n",
              "    <text dy=\"1.25em\" style=\"font-size: 0.8em; letter-spacing: 1px\">\n",
              "        <textPath xlink:href=\"#arrow-15063e8ab8544cb797df0c4613bd41ae-0-3\" class=\"displacy-label\" startOffset=\"50%\" side=\"left\" fill=\"currentColor\" text-anchor=\"middle\">advmod</textPath>\n",
              "    </text>\n",
              "    <path class=\"displacy-arrowhead\" d=\"M770,354.0 L762,342.0 778,342.0\" fill=\"currentColor\"/>\n",
              "</g>\n",
              "\n",
              "<g class=\"displacy-arrow\">\n",
              "    <path class=\"displacy-arc\" id=\"arrow-15063e8ab8544cb797df0c4613bd41ae-0-4\" stroke-width=\"2px\" d=\"M945,352.0 C945,177.0 1265.0,177.0 1265.0,352.0\" fill=\"none\" stroke=\"currentColor\"/>\n",
              "    <text dy=\"1.25em\" style=\"font-size: 0.8em; letter-spacing: 1px\">\n",
              "        <textPath xlink:href=\"#arrow-15063e8ab8544cb797df0c4613bd41ae-0-4\" class=\"displacy-label\" startOffset=\"50%\" side=\"left\" fill=\"currentColor\" text-anchor=\"middle\">nsubj</textPath>\n",
              "    </text>\n",
              "    <path class=\"displacy-arrowhead\" d=\"M945,354.0 L937,342.0 953,342.0\" fill=\"currentColor\"/>\n",
              "</g>\n",
              "\n",
              "<g class=\"displacy-arrow\">\n",
              "    <path class=\"displacy-arc\" id=\"arrow-15063e8ab8544cb797df0c4613bd41ae-0-5\" stroke-width=\"2px\" d=\"M1120,352.0 C1120,264.5 1260.0,264.5 1260.0,352.0\" fill=\"none\" stroke=\"currentColor\"/>\n",
              "    <text dy=\"1.25em\" style=\"font-size: 0.8em; letter-spacing: 1px\">\n",
              "        <textPath xlink:href=\"#arrow-15063e8ab8544cb797df0c4613bd41ae-0-5\" class=\"displacy-label\" startOffset=\"50%\" side=\"left\" fill=\"currentColor\" text-anchor=\"middle\">advmod</textPath>\n",
              "    </text>\n",
              "    <path class=\"displacy-arrowhead\" d=\"M1120,354.0 L1112,342.0 1128,342.0\" fill=\"currentColor\"/>\n",
              "</g>\n",
              "\n",
              "<g class=\"displacy-arrow\">\n",
              "    <path class=\"displacy-arc\" id=\"arrow-15063e8ab8544cb797df0c4613bd41ae-0-6\" stroke-width=\"2px\" d=\"M420,352.0 C420,2.0 1275.0,2.0 1275.0,352.0\" fill=\"none\" stroke=\"currentColor\"/>\n",
              "    <text dy=\"1.25em\" style=\"font-size: 0.8em; letter-spacing: 1px\">\n",
              "        <textPath xlink:href=\"#arrow-15063e8ab8544cb797df0c4613bd41ae-0-6\" class=\"displacy-label\" startOffset=\"50%\" side=\"left\" fill=\"currentColor\" text-anchor=\"middle\">conj</textPath>\n",
              "    </text>\n",
              "    <path class=\"displacy-arrowhead\" d=\"M1275.0,354.0 L1283.0,342.0 1267.0,342.0\" fill=\"currentColor\"/>\n",
              "</g>\n",
              "</svg></span>"
            ]
          },
          "metadata": {}
        }
      ],
      "source": [
        "sem_synt_doc = nlp_ru(\"Семантику я люблю, а вот синтаксис не очень.\")\n",
        "\n",
        "displacy.render(sem_synt_doc, style='dep')"
      ]
    },
    {
      "cell_type": "code",
      "execution_count": null,
      "metadata": {
        "id": "IFwEjGleKLjo",
        "outputId": "f5dcd99c-1a8d-4ab5-91e1-3e9e86cdc776",
        "colab": {
          "base_uri": "https://localhost:8080/",
          "height": 52
        }
      },
      "outputs": [
        {
          "output_type": "display_data",
          "data": {
            "text/plain": [
              "<IPython.core.display.HTML object>"
            ],
            "text/html": [
              "<span class=\"tex2jax_ignore\"><div class=\"entities\" style=\"line-height: 2.5; direction: ltr\">Легендарный \n",
              "<mark class=\"entity\" style=\"background: #ddd; padding: 0.45em 0.6em; margin: 0 0.25em; line-height: 1; border-radius: 0.35em;\">\n",
              "    Бока\n",
              "    <span style=\"font-size: 0.8em; font-weight: bold; line-height: 1; border-radius: 0.35em; vertical-align: middle; margin-left: 0.5rem\">PER</span>\n",
              "</mark>\n",
              " и его внук популярный певец \n",
              "<mark class=\"entity\" style=\"background: #ddd; padding: 0.45em 0.6em; margin: 0 0.25em; line-height: 1; border-radius: 0.35em;\">\n",
              "    Жока\n",
              "    <span style=\"font-size: 0.8em; font-weight: bold; line-height: 1; border-radius: 0.35em; vertical-align: middle; margin-left: 0.5rem\">PER</span>\n",
              "</mark>\n",
              " пишут код на \n",
              "<mark class=\"entity\" style=\"background: #7aecec; padding: 0.45em 0.6em; margin: 0 0.25em; line-height: 1; border-radius: 0.35em;\">\n",
              "    Python\n",
              "    <span style=\"font-size: 0.8em; font-weight: bold; line-height: 1; border-radius: 0.35em; vertical-align: middle; margin-left: 0.5rem\">ORG</span>\n",
              "</mark>\n",
              ".</div></span>"
            ]
          },
          "metadata": {}
        }
      ],
      "source": [
        "kate_doc = nlp_ru(\"Легендарный Бока и его внук популярный певец Жока пишут код на Python.\")\n",
        "\n",
        "displacy.render(kate_doc, style='ent')"
      ]
    },
    {
      "cell_type": "markdown",
      "source": [
        "## Universal Dependencies Parser"
      ],
      "metadata": {
        "id": "naLr-K7ebddj"
      }
    },
    {
      "cell_type": "markdown",
      "source": [
        "[Один из туториалов-сравнений](https://habr.com/ru/company/sberbank/blog/418701/)\n",
        "\n",
        "[**Universal Dependencies**](https://universaldependencies.org/) $-$ это проект по унификации разметки синтаксических корпусов (трибанков) в рамках грамматики зависимостей.\n",
        "\n",
        "В русском языке количество типов синтаксических связей ограничено: подлежащее, сказуемое и т.д. В английском то же самое, но набор уже другой. Например, там появляется артикль, который тоже надо как-то маркировать. Если бы мы хотели написать волшебный парсер, который мог бы обрабатывать все языки, то довольно быстро уперлись бы в проблемы сопоставления разных грамматик. Героическим создателям Universal Dependencies удалось договориться между собой и разметить все корпусы, которые имелись в их распоряжении, в едином формате.\n",
        "\n",
        "Для того, чтобы разметить что-то новое, нужно обучить модель на размеченном корпусе. Таких корпусов для русского языка есть несколько (можно посмотреть на сайте Universal Dependencies). Основные и самые большие размеченные корпуса:\n",
        "+ Syntagrus\n",
        "+ Taiga"
      ],
      "metadata": {
        "id": "6SgjRPN1bgDw"
      }
    },
    {
      "cell_type": "markdown",
      "source": [
        "### UDPipe 2.0, принцип работы"
      ],
      "metadata": {
        "id": "WvEC_5HjdWuV"
      }
    },
    {
      "cell_type": "markdown",
      "source": [
        "+ Сначала текст разделяется на предложения, а предложения $-$ на слова.\n",
        "+ Затем начинает работу теггер $-$ штука, которая предсказывает морфологические свойства токена: в каком падеже слово стоит, в каком числе. По последним четырем символам каждого слова теггер генерирует гипотезы относительно части речи и морфологических тегов этого слова, а затем при помощи перцептрона отбирает лучший вариант.\n",
        "+ В UDPipe есть еще лемматизатор, который подбирает для слов начальную форму.\n",
        "+ потом происходит синтаксический парсинг\n",
        "\n",
        "В итоге получается какой-то такой разбор по грамматике зависимостей предложения:\n",
        "\n",
        "Пример для английского            |  Пример для русского\n",
        ":--------------------------------:|:-------------------------:\n",
        "![](https://habrastorage.org/getpro/habr/post_images/686/c78/066/686c780661b296250d53cba054317a18.png)  |  ![](https://github.com/hse-ling-python/seminars/blob/master/UDPipe/koshka.png?raw=1)\n",
        "\n",
        "\n",
        "\n"
      ],
      "metadata": {
        "id": "zV17Z5aAdRcT"
      }
    },
    {
      "cell_type": "markdown",
      "source": [
        "## UDPipe в Python"
      ],
      "metadata": {
        "id": "8F7nvH8Qd-dZ"
      }
    },
    {
      "cell_type": "markdown",
      "source": [
        "+ Установка:\n",
        "```python\n",
        "pip install ufal.udpipe\n",
        "pip install conllu\n",
        "```\n",
        "+ вспомогательный скрипт `model.py`: cкачайте его себе с нашего [гитхаба](https://raw.githubusercontent.com/hse-ling-python/seminars/refs/heads/master/UDPipe/model.py).\n",
        "\n",
        "+ модель для русского (либо *taiga*, либо *syntagrus*): скачать [отсюда](https://github.com/jwijffels/udpipe.models.ud.2.4/tree/master/inst/udpipe-ud-2.4-190531). ."
      ],
      "metadata": {
        "id": "ZYuOH38veEwX"
      }
    },
    {
      "cell_type": "code",
      "source": [
        "!pip install ufal.udpipe --q\n",
        "!pip install conllu --q"
      ],
      "metadata": {
        "id": "RKGloEbVbczi",
        "colab": {
          "base_uri": "https://localhost:8080/"
        },
        "outputId": "33aa5c75-7336-4293-c6f6-80d3ec145c79"
      },
      "execution_count": 1,
      "outputs": [
        {
          "output_type": "stream",
          "name": "stdout",
          "text": [
            "\u001b[?25l   \u001b[90m━━━━━━━━━━━━━━━━━━━━━━━━━━━━━━━━━━━━━━━━\u001b[0m \u001b[32m0.0/936.8 kB\u001b[0m \u001b[31m?\u001b[0m eta \u001b[36m-:--:--\u001b[0m\r\u001b[2K   \u001b[91m━━━━━━━━━━━━━━━━━━━━━━━━━━━\u001b[0m\u001b[91m╸\u001b[0m\u001b[90m━━━━━━━━━━━━\u001b[0m \u001b[32m645.1/936.8 kB\u001b[0m \u001b[31m19.3 MB/s\u001b[0m eta \u001b[36m0:00:01\u001b[0m\r\u001b[2K   \u001b[91m━━━━━━━━━━━━━━━━━━━━━━━━━━━━━━━━━━━━━━━\u001b[0m\u001b[91m╸\u001b[0m \u001b[32m931.8/936.8 kB\u001b[0m \u001b[31m19.6 MB/s\u001b[0m eta \u001b[36m0:00:01\u001b[0m\r\u001b[2K   \u001b[90m━━━━━━━━━━━━━━━━━━━━━━━━━━━━━━━━━━━━━━━━\u001b[0m \u001b[32m936.8/936.8 kB\u001b[0m \u001b[31m11.7 MB/s\u001b[0m eta \u001b[36m0:00:00\u001b[0m\n",
            "\u001b[?25h"
          ]
        }
      ]
    },
    {
      "cell_type": "code",
      "source": [
        "!wget -q https://raw.githubusercontent.com/KatiaKozlova/files/refs/heads/main/57-10/syntax/model.py\n",
        "!wget -q https://github.com/jwijffels/udpipe.models.ud.2.4/raw/refs/heads/master/inst/udpipe-ud-2.4-190531/russian-taiga-ud-2.4-190531.udpipe"
      ],
      "metadata": {
        "id": "g5lHGfmLeY1x"
      },
      "execution_count": 2,
      "outputs": []
    },
    {
      "cell_type": "code",
      "source": [
        "import ufal.udpipe\n",
        "from model import Model\n",
        "import conllu\n",
        "from nltk.parse import DependencyGraph\n",
        "\n",
        "import warnings\n",
        "import os\n",
        "from collections import defaultdict, Counter\n",
        "\n",
        "\n",
        "warnings.filterwarnings('ignore')"
      ],
      "metadata": {
        "id": "77CNHE6jeX86"
      },
      "execution_count": 3,
      "outputs": []
    },
    {
      "cell_type": "code",
      "source": [
        "our_model = Model('russian-taiga-ud-2.4-190531.udpipe')"
      ],
      "metadata": {
        "id": "M8pBDwAHe1P8"
      },
      "execution_count": 4,
      "outputs": []
    },
    {
      "cell_type": "code",
      "source": [
        "def get_conllu(my_model, text):\n",
        "    sentences = my_model.tokenize(text)\n",
        "\n",
        "    for sent in sentences:\n",
        "        my_model.tag(sent)\n",
        "        my_model.parse(sent)\n",
        "\n",
        "    conllu_text = my_model.write(sentences, \"conllu\")\n",
        "    return conllu_text"
      ],
      "metadata": {
        "id": "OlHw4q53e1xG"
      },
      "execution_count": 5,
      "outputs": []
    },
    {
      "cell_type": "markdown",
      "metadata": {
        "id": "9IgBKWSgtRGR"
      },
      "source": [
        "#### Парсинг: `get_conllu` вернёт табличку с анализом каждого слова"
      ]
    },
    {
      "cell_type": "code",
      "metadata": {
        "id": "XzSN0vzftRGS",
        "outputId": "3c83ead6-3d9a-46ed-d826-80a41cb36f4e",
        "colab": {
          "base_uri": "https://localhost:8080/"
        }
      },
      "source": [
        "parsed_text = get_conllu(our_model, 'Я была в школе целый день. И завтра тоже там буду.')\n",
        "print(parsed_text)"
      ],
      "execution_count": 6,
      "outputs": [
        {
          "output_type": "stream",
          "name": "stdout",
          "text": [
            "# newdoc\n",
            "# newpar\n",
            "# sent_id = 1\n",
            "# text = Я была в школе целый день.\n",
            "1\tЯ\tя\tPRON\t_\tCase=Nom|Number=Sing|Person=1\t6\tnsubj\t_\t_\n",
            "2\tбыла\tбыть\tAUX\t_\tAspect=Imp|Gender=Fem|Mood=Ind|Number=Sing|Tense=Past|VerbForm=Fin|Voice=Act\t6\tcop\t_\t_\n",
            "3\tв\tв\tADP\t_\t_\t4\tcase\t_\t_\n",
            "4\tшколе\tшколя\tNOUN\t_\tAnimacy=Inan|Case=Loc|Gender=Masc|Number=Sing\t6\tnmod\t_\t_\n",
            "5\tцелый\tцелый\tADJ\t_\tAnimacy=Inan|Case=Acc|Degree=Pos|Gender=Masc|Number=Sing\t6\tamod\t_\t_\n",
            "6\tдень\tдень\tNOUN\t_\tAnimacy=Inan|Case=Acc|Gender=Masc|Number=Sing\t0\troot\t_\tSpaceAfter=No\n",
            "7\t.\t.\tPUNCT\t_\t_\t6\tpunct\t_\t_\n",
            "\n",
            "# sent_id = 2\n",
            "# text = И завтра тоже там буду.\n",
            "1\tИ\tи\tCCONJ\t_\t_\t4\tcc\t_\t_\n",
            "2\tзавтра\tзавтра\tADV\t_\tDegree=Pos\t4\tadvmod\t_\t_\n",
            "3\tтоже\tтоже\tPART\t_\t_\t4\tadvmod\t_\t_\n",
            "4\tтам\tтам\tADV\t_\tDegree=Pos\t0\troot\t_\t_\n",
            "5\tбуду\tбыть\tAUX\t_\tAspect=Imp|Mood=Ind|Number=Sing|Person=1|Tense=Pres|VerbForm=Fin|Voice=Act\t4\tcop\t_\tSpaceAfter=No\n",
            "6\t.\t.\tPUNCT\t_\t_\t4\tpunct\t_\tSpaceAfter=No\n",
            "\n",
            "\n"
          ]
        }
      ]
    },
    {
      "cell_type": "code",
      "metadata": {
        "id": "Lhk3h_4ntRGV",
        "outputId": "be58ea7a-7eb1-4e53-94ec-45eede99baa9",
        "colab": {
          "base_uri": "https://localhost:8080/"
        }
      },
      "source": [
        "conllu.parse_tree(parsed_text)"
      ],
      "execution_count": 7,
      "outputs": [
        {
          "output_type": "execute_result",
          "data": {
            "text/plain": [
              "[TokenTree<token={id=6, form=день}, children=[...]>,\n",
              " TokenTree<token={id=4, form=там}, children=[...]>]"
            ]
          },
          "metadata": {},
          "execution_count": 7
        }
      ]
    },
    {
      "cell_type": "markdown",
      "metadata": {
        "id": "GDbfqJnhtRGX"
      },
      "source": [
        "Получается, что это список из объектов, по одному для каждого предложения. Каждое предложение представляет собой дерево."
      ]
    },
    {
      "cell_type": "code",
      "metadata": {
        "id": "yad-yx0DtRGb"
      },
      "source": [
        "first_tree = conllu.parse_tree(parsed_text)[0]"
      ],
      "execution_count": 8,
      "outputs": []
    },
    {
      "cell_type": "code",
      "metadata": {
        "id": "Ba825ZCEtRGf",
        "outputId": "841529a5-4a6c-4782-c2d8-0289eeff1a9d",
        "colab": {
          "base_uri": "https://localhost:8080/"
        }
      },
      "source": [
        "first_tree.print_tree()  # вот это на винде не работает, запускайте в Google Colab"
      ],
      "execution_count": 9,
      "outputs": [
        {
          "output_type": "stream",
          "name": "stdout",
          "text": [
            "(deprel:root) form:день lemma:день upos:NOUN [6]\n",
            "    (deprel:nsubj) form:Я lemma:я upos:PRON [1]\n",
            "    (deprel:cop) form:была lemma:быть upos:AUX [2]\n",
            "    (deprel:nmod) form:школе lemma:школя upos:NOUN [4]\n",
            "        (deprel:case) form:в lemma:в upos:ADP [3]\n",
            "    (deprel:amod) form:целый lemma:целый upos:ADJ [5]\n",
            "    (deprel:punct) form:. lemma:. upos:PUNCT [7]\n"
          ]
        }
      ]
    },
    {
      "cell_type": "markdown",
      "metadata": {
        "id": "tezpMBhQ__QI"
      },
      "source": [
        "Разобранные предложения хранятся в формате CONLL:\n",
        "- слово на каждой строчке,\n",
        "- тэги через табы,\n",
        "- предложения отделены двойными отступами.\n",
        "\n",
        "CONLL $-$ по названию конференции Conference on Computational Natural Language Learning, в рамках который проводились и проводятся соревнования по парсингу.\n"
      ]
    },
    {
      "cell_type": "markdown",
      "source": [
        "### Визуализация: `DependencyGraph`"
      ],
      "metadata": {
        "id": "c5vzcFMwiRQg"
      }
    },
    {
      "cell_type": "markdown",
      "source": [
        "DependencyGraph работает с форматом CONLL, поэтому напишем функцию, которая добавит в наш разбор табы и двойные отступы `get_dep_tree`."
      ],
      "metadata": {
        "id": "aw2LnakxiXGQ"
      }
    },
    {
      "cell_type": "code",
      "metadata": {
        "id": "eBBXlgm-xnp4"
      },
      "source": [
        "def get_dep_tree(text):\n",
        "    trees = []\n",
        "    for sent in text.split('\\n\\n'):\n",
        "        tree = [line for line in sent.split('\\n') if line and line[0] != '#']\n",
        "        trees.append('\\n'.join(tree))\n",
        "    return trees"
      ],
      "execution_count": 10,
      "outputs": []
    },
    {
      "cell_type": "code",
      "metadata": {
        "id": "Uyn9t-Q0x71D",
        "colab": {
          "base_uri": "https://localhost:8080/"
        },
        "outputId": "6578254e-8c88-4441-d087-377837b80294"
      },
      "source": [
        "conll_parsed_text = get_dep_tree(parsed_text)\n",
        "conll_parsed_text"
      ],
      "execution_count": 11,
      "outputs": [
        {
          "output_type": "execute_result",
          "data": {
            "text/plain": [
              "['1\\tЯ\\tя\\tPRON\\t_\\tCase=Nom|Number=Sing|Person=1\\t6\\tnsubj\\t_\\t_\\n2\\tбыла\\tбыть\\tAUX\\t_\\tAspect=Imp|Gender=Fem|Mood=Ind|Number=Sing|Tense=Past|VerbForm=Fin|Voice=Act\\t6\\tcop\\t_\\t_\\n3\\tв\\tв\\tADP\\t_\\t_\\t4\\tcase\\t_\\t_\\n4\\tшколе\\tшколя\\tNOUN\\t_\\tAnimacy=Inan|Case=Loc|Gender=Masc|Number=Sing\\t6\\tnmod\\t_\\t_\\n5\\tцелый\\tцелый\\tADJ\\t_\\tAnimacy=Inan|Case=Acc|Degree=Pos|Gender=Masc|Number=Sing\\t6\\tamod\\t_\\t_\\n6\\tдень\\tдень\\tNOUN\\t_\\tAnimacy=Inan|Case=Acc|Gender=Masc|Number=Sing\\t0\\troot\\t_\\tSpaceAfter=No\\n7\\t.\\t.\\tPUNCT\\t_\\t_\\t6\\tpunct\\t_\\t_',\n",
              " '1\\tИ\\tи\\tCCONJ\\t_\\t_\\t4\\tcc\\t_\\t_\\n2\\tзавтра\\tзавтра\\tADV\\t_\\tDegree=Pos\\t4\\tadvmod\\t_\\t_\\n3\\tтоже\\tтоже\\tPART\\t_\\t_\\t4\\tadvmod\\t_\\t_\\n4\\tтам\\tтам\\tADV\\t_\\tDegree=Pos\\t0\\troot\\t_\\t_\\n5\\tбуду\\tбыть\\tAUX\\t_\\tAspect=Imp|Mood=Ind|Number=Sing|Person=1|Tense=Pres|VerbForm=Fin|Voice=Act\\t4\\tcop\\t_\\tSpaceAfter=No\\n6\\t.\\t.\\tPUNCT\\t_\\t_\\t4\\tpunct\\t_\\tSpaceAfter=No',\n",
              " '']"
            ]
          },
          "metadata": {},
          "execution_count": 11
        }
      ]
    },
    {
      "cell_type": "markdown",
      "metadata": {
        "id": "sMa3cs-lAwMJ"
      },
      "source": [
        "Нарисуем:\n"
      ]
    },
    {
      "cell_type": "code",
      "metadata": {
        "id": "PqYYoesgyHrO",
        "colab": {
          "base_uri": "https://localhost:8080/",
          "height": 428
        },
        "outputId": "46d6e921-81e4-401e-f390-284e3b6bc0d7"
      },
      "source": [
        "graph_first_tree = DependencyGraph(conll_parsed_text[0])\n",
        "graph_first_tree"
      ],
      "execution_count": 12,
      "outputs": [
        {
          "output_type": "execute_result",
          "data": {
            "text/plain": [
              "<DependencyGraph with 8 nodes>"
            ],
            "image/svg+xml": "<?xml version=\"1.0\" encoding=\"UTF-8\" standalone=\"no\"?>\n<!DOCTYPE svg PUBLIC \"-//W3C//DTD SVG 1.1//EN\"\n \"http://www.w3.org/Graphics/SVG/1.1/DTD/svg11.dtd\">\n<!-- Generated by graphviz version 2.43.0 (0)\n -->\n<!-- Title: G Pages: 1 -->\n<svg width=\"400pt\" height=\"305pt\"\n viewBox=\"0.00 0.00 400.00 305.00\" xmlns=\"http://www.w3.org/2000/svg\" xmlns:xlink=\"http://www.w3.org/1999/xlink\">\n<g id=\"graph0\" class=\"graph\" transform=\"scale(1 1) rotate(0) translate(4 301)\">\n<title>G</title>\n<polygon fill=\"white\" stroke=\"transparent\" points=\"-4,4 -4,-301 396,-301 396,4 -4,4\"/>\n<!-- 0 -->\n<g id=\"node1\" class=\"node\">\n<title>0</title>\n<text text-anchor=\"middle\" x=\"192\" y=\"-275.3\" font-family=\"Times,serif\" font-size=\"14.00\">0 (None)</text>\n</g>\n<!-- 6 -->\n<g id=\"node2\" class=\"node\">\n<title>6</title>\n<text text-anchor=\"middle\" x=\"192\" y=\"-188.3\" font-family=\"Times,serif\" font-size=\"14.00\">6 (день)</text>\n</g>\n<!-- 0&#45;&gt;6 -->\n<g id=\"edge1\" class=\"edge\">\n<title>0&#45;&gt;6</title>\n<path fill=\"none\" stroke=\"black\" d=\"M192,-260.8C192,-249.16 192,-233.55 192,-220.24\"/>\n<polygon fill=\"black\" stroke=\"black\" points=\"195.5,-220.18 192,-210.18 188.5,-220.18 195.5,-220.18\"/>\n<text text-anchor=\"middle\" x=\"203\" y=\"-231.8\" font-family=\"Times,serif\" font-size=\"14.00\">root</text>\n</g>\n<!-- 1 -->\n<g id=\"node3\" class=\"node\">\n<title>1</title>\n<text text-anchor=\"middle\" x=\"27\" y=\"-101.3\" font-family=\"Times,serif\" font-size=\"14.00\">1 (Я)</text>\n</g>\n<!-- 6&#45;&gt;1 -->\n<g id=\"edge3\" class=\"edge\">\n<title>6&#45;&gt;1</title>\n<path fill=\"none\" stroke=\"black\" d=\"M160.38,-178.7C144.95,-172.4 126.26,-164.32 110,-156 93.88,-147.75 76.64,-137.6 62.07,-128.6\"/>\n<polygon fill=\"black\" stroke=\"black\" points=\"63.71,-125.5 53.38,-123.18 60.01,-131.44 63.71,-125.5\"/>\n<text text-anchor=\"middle\" x=\"125\" y=\"-144.8\" font-family=\"Times,serif\" font-size=\"14.00\">nsubj</text>\n</g>\n<!-- 2 -->\n<g id=\"node4\" class=\"node\">\n<title>2</title>\n<text text-anchor=\"middle\" x=\"105\" y=\"-101.3\" font-family=\"Times,serif\" font-size=\"14.00\">2 (была)</text>\n</g>\n<!-- 6&#45;&gt;2 -->\n<g id=\"edge4\" class=\"edge\">\n<title>6&#45;&gt;2</title>\n<path fill=\"none\" stroke=\"black\" d=\"M174.39,-173.8C161.66,-161.36 144.27,-144.36 130.08,-130.5\"/>\n<polygon fill=\"black\" stroke=\"black\" points=\"132.18,-127.66 122.58,-123.18 127.29,-132.67 132.18,-127.66\"/>\n<text text-anchor=\"middle\" x=\"164\" y=\"-144.8\" font-family=\"Times,serif\" font-size=\"14.00\">cop</text>\n</g>\n<!-- 4 -->\n<g id=\"node6\" class=\"node\">\n<title>4</title>\n<text text-anchor=\"middle\" x=\"192\" y=\"-101.3\" font-family=\"Times,serif\" font-size=\"14.00\">4 (школе)</text>\n</g>\n<!-- 6&#45;&gt;4 -->\n<g id=\"edge5\" class=\"edge\">\n<title>6&#45;&gt;4</title>\n<path fill=\"none\" stroke=\"black\" d=\"M192,-173.8C192,-162.16 192,-146.55 192,-133.24\"/>\n<polygon fill=\"black\" stroke=\"black\" points=\"195.5,-133.18 192,-123.18 188.5,-133.18 195.5,-133.18\"/>\n<text text-anchor=\"middle\" x=\"208\" y=\"-144.8\" font-family=\"Times,serif\" font-size=\"14.00\">nmod</text>\n</g>\n<!-- 5 -->\n<g id=\"node7\" class=\"node\">\n<title>5</title>\n<text text-anchor=\"middle\" x=\"283\" y=\"-101.3\" font-family=\"Times,serif\" font-size=\"14.00\">5 (целый)</text>\n</g>\n<!-- 6&#45;&gt;5 -->\n<g id=\"edge6\" class=\"edge\">\n<title>6&#45;&gt;5</title>\n<path fill=\"none\" stroke=\"black\" d=\"M210.42,-173.8C223.86,-161.24 242.26,-144.05 257.18,-130.12\"/>\n<polygon fill=\"black\" stroke=\"black\" points=\"259.69,-132.56 264.61,-123.18 254.92,-127.44 259.69,-132.56\"/>\n<text text-anchor=\"middle\" x=\"258.5\" y=\"-144.8\" font-family=\"Times,serif\" font-size=\"14.00\">amod</text>\n</g>\n<!-- 7 -->\n<g id=\"node8\" class=\"node\">\n<title>7</title>\n<text text-anchor=\"middle\" x=\"365\" y=\"-101.3\" font-family=\"Times,serif\" font-size=\"14.00\">7 (.)</text>\n</g>\n<!-- 6&#45;&gt;7 -->\n<g id=\"edge7\" class=\"edge\">\n<title>6&#45;&gt;7</title>\n<path fill=\"none\" stroke=\"black\" d=\"M223.9,-179.2C240.3,-172.84 260.47,-164.56 278,-156 295.14,-147.63 313.54,-137.27 328.98,-128.16\"/>\n<polygon fill=\"black\" stroke=\"black\" points=\"330.9,-131.09 337.7,-122.96 327.32,-125.08 330.9,-131.09\"/>\n<text text-anchor=\"middle\" x=\"320.5\" y=\"-144.8\" font-family=\"Times,serif\" font-size=\"14.00\">punct</text>\n</g>\n<!-- 3 -->\n<g id=\"node5\" class=\"node\">\n<title>3</title>\n<text text-anchor=\"middle\" x=\"192\" y=\"-14.3\" font-family=\"Times,serif\" font-size=\"14.00\">3 (в)</text>\n</g>\n<!-- 4&#45;&gt;3 -->\n<g id=\"edge2\" class=\"edge\">\n<title>4&#45;&gt;3</title>\n<path fill=\"none\" stroke=\"black\" d=\"M192,-86.8C192,-75.16 192,-59.55 192,-46.24\"/>\n<polygon fill=\"black\" stroke=\"black\" points=\"195.5,-46.18 192,-36.18 188.5,-46.18 195.5,-46.18\"/>\n<text text-anchor=\"middle\" x=\"204\" y=\"-57.8\" font-family=\"Times,serif\" font-size=\"14.00\">case</text>\n</g>\n</g>\n</svg>\n"
          },
          "metadata": {},
          "execution_count": 12
        }
      ]
    },
    {
      "cell_type": "markdown",
      "source": [
        "Какая-то фигня получилась. Но это и выше было видно.\n"
      ],
      "metadata": {
        "id": "mgv99q7hilt3"
      }
    },
    {
      "cell_type": "markdown",
      "metadata": {
        "id": "y4_sfHdVF3YY"
      },
      "source": [
        "#### Узлы графа: `triples`."
      ]
    },
    {
      "cell_type": "code",
      "metadata": {
        "id": "0ek7oXMuGIth",
        "colab": {
          "base_uri": "https://localhost:8080/"
        },
        "outputId": "38c09b4a-6491-4d26-c51c-ec9df857a238"
      },
      "source": [
        "graph_first_tree.root = graph_first_tree.nodes[0]  # чтобы метод сработал нужно установить корневой элемент\n",
        "# при этом, если в разборе ошибка и вы счтаете, что root - это graph_first_tree.nodes[2],\n",
        "# использовать этот корень в .triples не получится, будет ошибка\n",
        "graph_first_tree.nodes[2]"
      ],
      "execution_count": 13,
      "outputs": [
        {
          "output_type": "execute_result",
          "data": {
            "text/plain": [
              "{'address': 2,\n",
              " 'word': 'была',\n",
              " 'lemma': 'быть',\n",
              " 'ctag': 'AUX',\n",
              " 'tag': '_',\n",
              " 'feats': 'Aspect=Imp|Gender=Fem|Mood=Ind|Number=Sing|Tense=Past|VerbForm=Fin|Voice=Act',\n",
              " 'head': 6,\n",
              " 'deps': defaultdict(list, {}),\n",
              " 'rel': 'cop'}"
            ]
          },
          "metadata": {},
          "execution_count": 13
        }
      ]
    },
    {
      "cell_type": "code",
      "metadata": {
        "id": "wzAv8A72F8dx",
        "colab": {
          "base_uri": "https://localhost:8080/"
        },
        "outputId": "83a85d88-3afb-408e-8f2a-c93f4629d478"
      },
      "source": [
        "list(graph_first_tree.triples())"
      ],
      "execution_count": 14,
      "outputs": [
        {
          "output_type": "execute_result",
          "data": {
            "text/plain": [
              "[((None, 'TOP'), 'root', ('день', 'NOUN')),\n",
              " (('день', 'NOUN'), 'nsubj', ('Я', 'PRON')),\n",
              " (('день', 'NOUN'), 'cop', ('была', 'AUX')),\n",
              " (('день', 'NOUN'), 'nmod', ('школе', 'NOUN')),\n",
              " (('школе', 'NOUN'), 'case', ('в', 'ADP')),\n",
              " (('день', 'NOUN'), 'amod', ('целый', 'ADJ')),\n",
              " (('день', 'NOUN'), 'punct', ('.', 'PUNCT'))]"
            ]
          },
          "metadata": {},
          "execution_count": 14
        }
      ]
    },
    {
      "cell_type": "markdown",
      "source": [
        "### Задачи"
      ],
      "metadata": {
        "id": "msrAWOiZi6Yb"
      }
    },
    {
      "cell_type": "markdown",
      "metadata": {
        "id": "CUQVwacANdTS"
      },
      "source": [
        "1. **Достать из корпуса все возможные модификаторы какого-нибудь слова**\n",
        "\n",
        "Сами парсить не будет, а возьмем уже готовые разборы из Тайги. Возьмем маленький кусочек (Arzamas). Cкачать его можно тут: https://linghub.ru/static/Taiga/Arzamas.zip\n",
        "\n",
        "В нем есть папка с обработанными текстами. Соберем их в один список. Нашим конечным заданием будет достать все модификаторы для какого-нибудь конкретного слова в этом корпусе."
      ]
    },
    {
      "cell_type": "code",
      "metadata": {
        "id": "HHVWFenhIk8Y"
      },
      "source": [
        "!wget -q https://linghub.ru/static/Taiga/Arzamas.zip\n",
        "!unzip -q Arzamas.zip"
      ],
      "execution_count": 15,
      "outputs": []
    },
    {
      "cell_type": "code",
      "metadata": {
        "id": "ejfly8a7JpOn"
      },
      "source": [
        "path = 'Arzamas/texts_tagged/'\n",
        "files = [path + file for file in os.listdir(path)]"
      ],
      "execution_count": 16,
      "outputs": []
    },
    {
      "cell_type": "markdown",
      "metadata": {
        "id": "buUiJEkOKTj0"
      },
      "source": [
        "Посмотрим, что вообще лежит в этих файлах:"
      ]
    },
    {
      "cell_type": "code",
      "metadata": {
        "id": "IVse55oQKNjx"
      },
      "source": [
        "with open(files[2]) as file:\n",
        "    text_file = file.read()"
      ],
      "execution_count": 17,
      "outputs": []
    },
    {
      "cell_type": "markdown",
      "metadata": {
        "id": "mwhSJ53aKdNj"
      },
      "source": [
        "Тут снова формат CONLL очевидно. Давайте еще раз на него внимательно посмотрим. У нас есть тут какая-то метаинформация через #, теги через таб, деревья для отдельных предложений."
      ]
    },
    {
      "cell_type": "code",
      "metadata": {
        "id": "SoULZ-SoKYJP",
        "colab": {
          "base_uri": "https://localhost:8080/"
        },
        "outputId": "4fc00471-6acb-40ab-a604-b24487ac3b10"
      },
      "source": [
        "tree = [x for x in text_file.split('\\n\\n')[0].split('\\n')]\n",
        "tree[:10]"
      ],
      "execution_count": 18,
      "outputs": [
        {
          "output_type": "execute_result",
          "data": {
            "text/plain": [
              "['# text = # newpar',\n",
              " '# sent_id = 13401',\n",
              " '# text = 1 / 2Рисунок на изразце в кафедральном соборе Святого Иакова Армянской церкви в ИерусалимеLibrary of Congress2 / 2Армянский монастырь Варагаванк. 1910-е годыLibrary of Congress Осип Мандельштам метко назвал Армению \"младшей сестрой земли Иудейской\".',\n",
              " '1\\t1\\t1\\tNUM\\t_\\t_\\t3\\tnummod\\t_\\t_',\n",
              " '2\\t/\\t/\\tPUNCT\\t_\\t_\\t1\\tpunct\\t_\\t_',\n",
              " '3\\t2Рисунок\\t2Рисунок\\tNOUN\\t_\\tAnimacy=Inan|Case=Nom|Gender=Masc|Number=Sing\\t29\\tnsubj\\t_\\t_',\n",
              " '4\\tна\\tна\\tADP\\t_\\t_\\t5\\tcase\\t_\\t_',\n",
              " '5\\tизразце\\tизразец\\tNOUN\\t_\\tAnimacy=Inan|Case=Loc|Gender=Masc|Number=Sing\\t3\\tnmod\\t_\\t_',\n",
              " '6\\tв\\tв\\tADP\\t_\\t_\\t8\\tcase\\t_\\t_',\n",
              " '7\\tкафедральном\\tкафедральный\\tADJ\\t_\\tCase=Loc|Degree=Pos|Gender=Masc|Number=Sing\\t8\\tamod\\t_\\t_']"
            ]
          },
          "metadata": {},
          "execution_count": 18
        }
      ]
    },
    {
      "cell_type": "markdown",
      "metadata": {
        "id": "bw3Tw80GLiiG"
      },
      "source": [
        "Соберем все деревья (то есть все предложения) из всех файлов в один список. Так мы сможем работать с этими данными как с корпусом текстов."
      ]
    },
    {
      "cell_type": "code",
      "metadata": {
        "id": "mGwgHKTSLuIk"
      },
      "source": [
        "trees = []\n",
        "\n",
        "for file in files:\n",
        "    with open(file) as text_f:\n",
        "        parsed_sents = text_f.read().split('\\n\\n')\n",
        "\n",
        "    for sent in parsed_sents:\n",
        "        # уберем мета информацию\n",
        "        tree = [line for line in sent.split('\\n') if line[0] != '#']\n",
        "        trees.append('\\n'.join(tree))"
      ],
      "execution_count": 19,
      "outputs": []
    },
    {
      "cell_type": "code",
      "metadata": {
        "id": "yFq3yGMXNnRq"
      },
      "source": [
        "modifiers = Counter()\n",
        "for tree in trees:\n",
        "    d = DependencyGraph(tree)\n",
        "    d.root = d.nodes[0]\n",
        "    triples = list(d.triples())\n",
        "\n",
        "    for e1, rel, e2 in triples:\n",
        "        if e1[0] == 'писатель' and rel == 'amod':\n",
        "            modifiers[e2[0]] += 1"
      ],
      "execution_count": 57,
      "outputs": []
    },
    {
      "cell_type": "code",
      "metadata": {
        "id": "VIQpBjQsNo-w",
        "colab": {
          "base_uri": "https://localhost:8080/"
        },
        "outputId": "9f6d52e2-be7e-4b49-cd9b-75218386bd80"
      },
      "source": [
        "modifiers"
      ],
      "execution_count": 58,
      "outputs": [
        {
          "output_type": "execute_result",
          "data": {
            "text/plain": [
              "Counter({'Очень': 1,\n",
              "         'вообще': 1,\n",
              "         'не': 3,\n",
              "         'очень': 5,\n",
              "         'слишком': 1,\n",
              "         'так': 1,\n",
              "         'горячо': 1})"
            ]
          },
          "metadata": {},
          "execution_count": 58
        }
      ]
    },
    {
      "cell_type": "markdown",
      "metadata": {
        "id": "OGJEAToTIvK9"
      },
      "source": [
        "2. **Анализ текстов с помощью зависимостей**\n",
        "\n",
        "Запомним, что теперь у нас есть способ доставать все узлы, и попробуем проанализировать тексты с помощью зависимостей."
      ]
    },
    {
      "cell_type": "markdown",
      "metadata": {
        "id": "mV2_VPUjL8Or"
      },
      "source": [
        "Рандомное дерево из получившившегося списка:"
      ]
    },
    {
      "cell_type": "code",
      "metadata": {
        "id": "TjX0PflPLwA0",
        "colab": {
          "base_uri": "https://localhost:8080/",
          "height": 139
        },
        "outputId": "b9427010-e23c-40f8-dac1-4df8d25f79a0"
      },
      "source": [
        "trees[80]"
      ],
      "execution_count": 22,
      "outputs": [
        {
          "output_type": "execute_result",
          "data": {
            "text/plain": [
              "'1\\tСогласно\\tсогласно\\tADP\\t_\\t_\\t2\\tcase\\t_\\t_\\n2\\tпреданию\\tпредание\\tNOUN\\t_\\tAnimacy=Inan|Case=Dat|Gender=Neut|Number=Sing\\t15\\tparataxis\\t_\\tSpaceAfter=No\\n3\\t,\\t,\\tPUNCT\\t_\\t_\\t2\\tpunct\\t_\\t_\\n4\\tТрдат\\tТрдат\\tPROPN\\t_\\tAnimacy=Inan|Case=Nom|Gender=Masc|Number=Sing\\t15\\tnsubj\\t_\\tSpaceAfter=No\\n5\\t,\\t,\\tPUNCT\\t_\\t_\\t4\\tpunct\\t_\\t_\\n6\\tпоначалу\\tпоначалу\\tADV\\t_\\tDegree=Pos\\t8\\tadvmod\\t_\\t_\\n7\\tне\\tне\\tPART\\t_\\t_\\t8\\tadvmod\\t_\\t_\\n8\\tслишком\\tслишком\\tADV\\t_\\tDegree=Pos\\t9\\tadvmod\\t_\\t_\\n9\\tблагосклонно\\tблагосклонно\\tADV\\t_\\tDegree=Pos\\t10\\tadvmod\\t_\\t_\\n10\\tотносившийся\\tотносиваться\\tVERB\\t_\\tAspect=Perf|Case=Nom|Gender=Masc|Number=Sing|Tense=Past|VerbForm=Part|Voice=Mid\\t4\\tamod\\t_\\t_\\n11\\tк\\tк\\tADP\\t_\\t_\\t12\\tcase\\t_\\t_\\n12\\tхристианам\\tхристианин\\tNOUN\\t_\\tAnimacy=Anim|Case=Dat|Gender=Masc|Number=Plur\\t10\\tobl\\t_\\tSpaceAfter=No\\n13\\t,\\t,\\tPUNCT\\t_\\t_\\t12\\tpunct\\t_\\t_\\n14\\tбыл\\tбыть\\tAUX\\t_\\tAspect=Imp|Gender=Masc|Mood=Ind|Number=Sing|Tense=Past|VerbForm=Fin|Voice=Act\\t15\\taux:pass\\t_\\t_\\n15\\tпереубежден\\tпереубеждать\\tVERB\\t_\\tAspect=Perf|Gender=Masc|Number=Sing|Tense=Past|Variant=Short|VerbForm=Part|Voice=Pass\\t0\\troot\\t_\\t_\\n16\\tс\\tс\\tADP\\t_\\t_\\t18\\tcase\\t_\\t_\\n17\\tпомощью\\tпомощь\\tNOUN\\t_\\tAnimacy=Inan|Case=Ins|Gender=Fem|Number=Sing\\t16\\tfixed\\t_\\t_\\n18\\tчуда\\tчудо\\tNOUN\\t_\\tAnimacy=Inan|Case=Gen|Gender=Neut|Number=Sing\\t15\\tobl\\t_\\tSpaceAfter=No\\n19\\t.\\t.\\tPUNCT\\t_\\t_\\t18\\tpunct\\t_\\t_'"
            ],
            "application/vnd.google.colaboratory.intrinsic+json": {
              "type": "string"
            }
          },
          "metadata": {},
          "execution_count": 22
        }
      ]
    },
    {
      "cell_type": "markdown",
      "metadata": {
        "id": "6mF6ooOVMLcg"
      },
      "source": [
        "Пора нарисовать красивый граф для какого-нибудь предложения из этого корпуса.\n",
        "\n",
        "Поскольку это данные, на которых можно обучать модели, они хорошо размечены и тут уже в корне дерева у нас нормальный предикат и разбор получается хороший."
      ]
    },
    {
      "cell_type": "code",
      "metadata": {
        "id": "wo8f-UMuMD7V",
        "colab": {
          "base_uri": "https://localhost:8080/",
          "height": 776
        },
        "outputId": "28fec52b-628a-476e-aa39-a56a28081d9f"
      },
      "source": [
        "graph_tree_80 = DependencyGraph(trees[80])\n",
        "graph_tree_80"
      ],
      "execution_count": 23,
      "outputs": [
        {
          "output_type": "execute_result",
          "data": {
            "text/plain": [
              "<DependencyGraph with 20 nodes>"
            ],
            "image/svg+xml": "<?xml version=\"1.0\" encoding=\"UTF-8\" standalone=\"no\"?>\n<!DOCTYPE svg PUBLIC \"-//W3C//DTD SVG 1.1//EN\"\n \"http://www.w3.org/Graphics/SVG/1.1/DTD/svg11.dtd\">\n<!-- Generated by graphviz version 2.43.0 (0)\n -->\n<!-- Title: G Pages: 1 -->\n<svg width=\"542pt\" height=\"566pt\"\n viewBox=\"0.00 0.00 542.00 566.00\" xmlns=\"http://www.w3.org/2000/svg\" xmlns:xlink=\"http://www.w3.org/1999/xlink\">\n<g id=\"graph0\" class=\"graph\" transform=\"scale(1 1) rotate(0) translate(4 562)\">\n<title>G</title>\n<polygon fill=\"white\" stroke=\"transparent\" points=\"-4,4 -4,-562 538,-562 538,4 -4,4\"/>\n<!-- 0 -->\n<g id=\"node1\" class=\"node\">\n<title>0</title>\n<text text-anchor=\"middle\" x=\"307\" y=\"-536.3\" font-family=\"Times,serif\" font-size=\"14.00\">0 (None)</text>\n</g>\n<!-- 15 -->\n<g id=\"node2\" class=\"node\">\n<title>15</title>\n<text text-anchor=\"middle\" x=\"307\" y=\"-449.3\" font-family=\"Times,serif\" font-size=\"14.00\">15 (переубежден)</text>\n</g>\n<!-- 0&#45;&gt;15 -->\n<g id=\"edge1\" class=\"edge\">\n<title>0&#45;&gt;15</title>\n<path fill=\"none\" stroke=\"black\" d=\"M307,-521.8C307,-510.16 307,-494.55 307,-481.24\"/>\n<polygon fill=\"black\" stroke=\"black\" points=\"310.5,-481.18 307,-471.18 303.5,-481.18 310.5,-481.18\"/>\n<text text-anchor=\"middle\" x=\"318\" y=\"-492.8\" font-family=\"Times,serif\" font-size=\"14.00\">root</text>\n</g>\n<!-- 2 -->\n<g id=\"node4\" class=\"node\">\n<title>2</title>\n<text text-anchor=\"middle\" x=\"135\" y=\"-362.3\" font-family=\"Times,serif\" font-size=\"14.00\">2 (преданию)</text>\n</g>\n<!-- 15&#45;&gt;2 -->\n<g id=\"edge13\" class=\"edge\">\n<title>15&#45;&gt;2</title>\n<path fill=\"none\" stroke=\"black\" d=\"M261.4,-434.82C248.19,-429.48 233.88,-423.32 221,-417 204.15,-408.73 186.11,-398.47 170.93,-389.4\"/>\n<polygon fill=\"black\" stroke=\"black\" points=\"172.72,-386.39 162.35,-384.22 169.1,-392.38 172.72,-386.39\"/>\n<text text-anchor=\"middle\" x=\"245.5\" y=\"-405.8\" font-family=\"Times,serif\" font-size=\"14.00\">parataxis</text>\n</g>\n<!-- 4 -->\n<g id=\"node6\" class=\"node\">\n<title>4</title>\n<text text-anchor=\"middle\" x=\"248\" y=\"-362.3\" font-family=\"Times,serif\" font-size=\"14.00\">4 (Трдат)</text>\n</g>\n<!-- 15&#45;&gt;4 -->\n<g id=\"edge14\" class=\"edge\">\n<title>15&#45;&gt;4</title>\n<path fill=\"none\" stroke=\"black\" d=\"M295.06,-434.8C286.66,-422.7 275.28,-406.3 265.82,-392.67\"/>\n<polygon fill=\"black\" stroke=\"black\" points=\"268.5,-390.39 259.92,-384.18 262.75,-394.39 268.5,-390.39\"/>\n<text text-anchor=\"middle\" x=\"297\" y=\"-405.8\" font-family=\"Times,serif\" font-size=\"14.00\">nsubj</text>\n</g>\n<!-- 14 -->\n<g id=\"node16\" class=\"node\">\n<title>14</title>\n<text text-anchor=\"middle\" x=\"334\" y=\"-362.3\" font-family=\"Times,serif\" font-size=\"14.00\">14 (был)</text>\n</g>\n<!-- 15&#45;&gt;14 -->\n<g id=\"edge15\" class=\"edge\">\n<title>15&#45;&gt;14</title>\n<path fill=\"none\" stroke=\"black\" d=\"M312.46,-434.8C316.2,-423.05 321.22,-407.24 325.47,-393.84\"/>\n<polygon fill=\"black\" stroke=\"black\" points=\"328.85,-394.77 328.54,-384.18 322.18,-392.65 328.85,-394.77\"/>\n<text text-anchor=\"middle\" x=\"346.5\" y=\"-405.8\" font-family=\"Times,serif\" font-size=\"14.00\">aux:pass</text>\n</g>\n<!-- 18 -->\n<g id=\"node17\" class=\"node\">\n<title>18</title>\n<text text-anchor=\"middle\" x=\"435\" y=\"-362.3\" font-family=\"Times,serif\" font-size=\"14.00\">18 (чуда)</text>\n</g>\n<!-- 15&#45;&gt;18 -->\n<g id=\"edge16\" class=\"edge\">\n<title>15&#45;&gt;18</title>\n<path fill=\"none\" stroke=\"black\" d=\"M342.9,-434.97C353.19,-429.63 364.26,-423.44 374,-417 385.81,-409.2 398.03,-399.54 408.4,-390.8\"/>\n<polygon fill=\"black\" stroke=\"black\" points=\"410.96,-393.21 416.28,-384.05 406.41,-387.9 410.96,-393.21\"/>\n<text text-anchor=\"middle\" x=\"403\" y=\"-405.8\" font-family=\"Times,serif\" font-size=\"14.00\">obl</text>\n</g>\n<!-- 1 -->\n<g id=\"node3\" class=\"node\">\n<title>1</title>\n<text text-anchor=\"middle\" x=\"45\" y=\"-275.3\" font-family=\"Times,serif\" font-size=\"14.00\">1 (Согласно)</text>\n</g>\n<!-- 2&#45;&gt;1 -->\n<g id=\"edge2\" class=\"edge\">\n<title>2&#45;&gt;1</title>\n<path fill=\"none\" stroke=\"black\" d=\"M116.79,-347.8C103.49,-335.24 85.29,-318.05 70.54,-304.12\"/>\n<polygon fill=\"black\" stroke=\"black\" points=\"72.86,-301.5 63.19,-297.18 68.05,-306.59 72.86,-301.5\"/>\n<text text-anchor=\"middle\" x=\"108\" y=\"-318.8\" font-family=\"Times,serif\" font-size=\"14.00\">case</text>\n</g>\n<!-- 3 -->\n<g id=\"node5\" class=\"node\">\n<title>3</title>\n<text text-anchor=\"middle\" x=\"135\" y=\"-275.3\" font-family=\"Times,serif\" font-size=\"14.00\">3 (,)</text>\n</g>\n<!-- 2&#45;&gt;3 -->\n<g id=\"edge3\" class=\"edge\">\n<title>2&#45;&gt;3</title>\n<path fill=\"none\" stroke=\"black\" d=\"M135,-347.8C135,-336.16 135,-320.55 135,-307.24\"/>\n<polygon fill=\"black\" stroke=\"black\" points=\"138.5,-307.18 135,-297.18 131.5,-307.18 138.5,-307.18\"/>\n<text text-anchor=\"middle\" x=\"150.5\" y=\"-318.8\" font-family=\"Times,serif\" font-size=\"14.00\">punct</text>\n</g>\n<!-- 5 -->\n<g id=\"node7\" class=\"node\">\n<title>5</title>\n<text text-anchor=\"middle\" x=\"207\" y=\"-275.3\" font-family=\"Times,serif\" font-size=\"14.00\">5 (,)</text>\n</g>\n<!-- 4&#45;&gt;5 -->\n<g id=\"edge4\" class=\"edge\">\n<title>4&#45;&gt;5</title>\n<path fill=\"none\" stroke=\"black\" d=\"M239.7,-347.8C233.98,-335.93 226.26,-319.93 219.76,-306.45\"/>\n<polygon fill=\"black\" stroke=\"black\" points=\"222.78,-304.66 215.28,-297.18 216.48,-307.7 222.78,-304.66\"/>\n<text text-anchor=\"middle\" x=\"245.5\" y=\"-318.8\" font-family=\"Times,serif\" font-size=\"14.00\">punct</text>\n</g>\n<!-- 10 -->\n<g id=\"node8\" class=\"node\">\n<title>10</title>\n<text text-anchor=\"middle\" x=\"317\" y=\"-275.3\" font-family=\"Times,serif\" font-size=\"14.00\">10 (относившийся)</text>\n</g>\n<!-- 4&#45;&gt;10 -->\n<g id=\"edge5\" class=\"edge\">\n<title>4&#45;&gt;10</title>\n<path fill=\"none\" stroke=\"black\" d=\"M261.96,-347.8C271.88,-335.59 285.35,-318.99 296.48,-305.28\"/>\n<polygon fill=\"black\" stroke=\"black\" points=\"299.47,-307.15 303.06,-297.18 294.04,-302.73 299.47,-307.15\"/>\n<text text-anchor=\"middle\" x=\"302.5\" y=\"-318.8\" font-family=\"Times,serif\" font-size=\"14.00\">amod</text>\n</g>\n<!-- 9 -->\n<g id=\"node12\" class=\"node\">\n<title>9</title>\n<text text-anchor=\"middle\" x=\"185\" y=\"-188.3\" font-family=\"Times,serif\" font-size=\"14.00\">9 (благосклонно)</text>\n</g>\n<!-- 10&#45;&gt;9 -->\n<g id=\"edge9\" class=\"edge\">\n<title>10&#45;&gt;9</title>\n<path fill=\"none\" stroke=\"black\" d=\"M290.29,-260.8C270.07,-247.78 242.12,-229.78 220.1,-215.6\"/>\n<polygon fill=\"black\" stroke=\"black\" points=\"221.98,-212.65 211.67,-210.18 218.19,-218.53 221.98,-212.65\"/>\n<text text-anchor=\"middle\" x=\"281.5\" y=\"-231.8\" font-family=\"Times,serif\" font-size=\"14.00\">advmod</text>\n</g>\n<!-- 12 -->\n<g id=\"node13\" class=\"node\">\n<title>12</title>\n<text text-anchor=\"middle\" x=\"317\" y=\"-188.3\" font-family=\"Times,serif\" font-size=\"14.00\">12 (христианам)</text>\n</g>\n<!-- 10&#45;&gt;12 -->\n<g id=\"edge10\" class=\"edge\">\n<title>10&#45;&gt;12</title>\n<path fill=\"none\" stroke=\"black\" d=\"M317,-260.8C317,-249.16 317,-233.55 317,-220.24\"/>\n<polygon fill=\"black\" stroke=\"black\" points=\"320.5,-220.18 317,-210.18 313.5,-220.18 320.5,-220.18\"/>\n<text text-anchor=\"middle\" x=\"326\" y=\"-231.8\" font-family=\"Times,serif\" font-size=\"14.00\">obl</text>\n</g>\n<!-- 6 -->\n<g id=\"node9\" class=\"node\">\n<title>6</title>\n<text text-anchor=\"middle\" x=\"140\" y=\"-14.3\" font-family=\"Times,serif\" font-size=\"14.00\">6 (поначалу)</text>\n</g>\n<!-- 7 -->\n<g id=\"node10\" class=\"node\">\n<title>7</title>\n<text text-anchor=\"middle\" x=\"230\" y=\"-14.3\" font-family=\"Times,serif\" font-size=\"14.00\">7 (не)</text>\n</g>\n<!-- 8 -->\n<g id=\"node11\" class=\"node\">\n<title>8</title>\n<text text-anchor=\"middle\" x=\"185\" y=\"-101.3\" font-family=\"Times,serif\" font-size=\"14.00\">8 (слишком)</text>\n</g>\n<!-- 8&#45;&gt;6 -->\n<g id=\"edge6\" class=\"edge\">\n<title>8&#45;&gt;6</title>\n<path fill=\"none\" stroke=\"black\" d=\"M173.58,-86.82C170.03,-81.23 166.21,-74.93 163,-69 158.97,-61.56 154.98,-53.28 151.47,-45.63\"/>\n<polygon fill=\"black\" stroke=\"black\" points=\"154.62,-44.09 147.34,-36.4 148.23,-46.95 154.62,-44.09\"/>\n<text text-anchor=\"middle\" x=\"185.5\" y=\"-57.8\" font-family=\"Times,serif\" font-size=\"14.00\">advmod</text>\n</g>\n<!-- 8&#45;&gt;7 -->\n<g id=\"edge7\" class=\"edge\">\n<title>8&#45;&gt;7</title>\n<path fill=\"none\" stroke=\"black\" d=\"M197.05,-86.91C200.77,-81.32 204.74,-75 208,-69 212.08,-61.5 216.01,-53.1 219.39,-45.35\"/>\n<polygon fill=\"black\" stroke=\"black\" points=\"222.67,-46.57 223.35,-36 216.22,-43.84 222.67,-46.57\"/>\n<text text-anchor=\"middle\" x=\"238.5\" y=\"-57.8\" font-family=\"Times,serif\" font-size=\"14.00\">advmod</text>\n</g>\n<!-- 9&#45;&gt;8 -->\n<g id=\"edge8\" class=\"edge\">\n<title>9&#45;&gt;8</title>\n<path fill=\"none\" stroke=\"black\" d=\"M185,-173.8C185,-162.16 185,-146.55 185,-133.24\"/>\n<polygon fill=\"black\" stroke=\"black\" points=\"188.5,-133.18 185,-123.18 181.5,-133.18 188.5,-133.18\"/>\n<text text-anchor=\"middle\" x=\"207.5\" y=\"-144.8\" font-family=\"Times,serif\" font-size=\"14.00\">advmod</text>\n</g>\n<!-- 11 -->\n<g id=\"node14\" class=\"node\">\n<title>11</title>\n<text text-anchor=\"middle\" x=\"296\" y=\"-101.3\" font-family=\"Times,serif\" font-size=\"14.00\">11 (к)</text>\n</g>\n<!-- 12&#45;&gt;11 -->\n<g id=\"edge11\" class=\"edge\">\n<title>12&#45;&gt;11</title>\n<path fill=\"none\" stroke=\"black\" d=\"M312.75,-173.8C309.88,-162.16 306.02,-146.55 302.73,-133.24\"/>\n<polygon fill=\"black\" stroke=\"black\" points=\"306.04,-132.04 300.24,-123.18 299.24,-133.72 306.04,-132.04\"/>\n<text text-anchor=\"middle\" x=\"320\" y=\"-144.8\" font-family=\"Times,serif\" font-size=\"14.00\">case</text>\n</g>\n<!-- 13 -->\n<g id=\"node15\" class=\"node\">\n<title>13</title>\n<text text-anchor=\"middle\" x=\"368\" y=\"-101.3\" font-family=\"Times,serif\" font-size=\"14.00\">13 (,)</text>\n</g>\n<!-- 12&#45;&gt;13 -->\n<g id=\"edge12\" class=\"edge\">\n<title>12&#45;&gt;13</title>\n<path fill=\"none\" stroke=\"black\" d=\"M327.32,-173.8C334.51,-161.82 344.23,-145.62 352.37,-132.06\"/>\n<polygon fill=\"black\" stroke=\"black\" points=\"355.55,-133.55 357.69,-123.18 349.55,-129.95 355.55,-133.55\"/>\n<text text-anchor=\"middle\" x=\"361.5\" y=\"-144.8\" font-family=\"Times,serif\" font-size=\"14.00\">punct</text>\n</g>\n<!-- 16 -->\n<g id=\"node18\" class=\"node\">\n<title>16</title>\n<text text-anchor=\"middle\" x=\"435\" y=\"-275.3\" font-family=\"Times,serif\" font-size=\"14.00\">16 (с)</text>\n</g>\n<!-- 18&#45;&gt;16 -->\n<g id=\"edge18\" class=\"edge\">\n<title>18&#45;&gt;16</title>\n<path fill=\"none\" stroke=\"black\" d=\"M435,-347.8C435,-336.16 435,-320.55 435,-307.24\"/>\n<polygon fill=\"black\" stroke=\"black\" points=\"438.5,-307.18 435,-297.18 431.5,-307.18 438.5,-307.18\"/>\n<text text-anchor=\"middle\" x=\"447\" y=\"-318.8\" font-family=\"Times,serif\" font-size=\"14.00\">case</text>\n</g>\n<!-- 19 -->\n<g id=\"node20\" class=\"node\">\n<title>19</title>\n<text text-anchor=\"middle\" x=\"507\" y=\"-275.3\" font-family=\"Times,serif\" font-size=\"14.00\">19 (.)</text>\n</g>\n<!-- 18&#45;&gt;19 -->\n<g id=\"edge19\" class=\"edge\">\n<title>18&#45;&gt;19</title>\n<path fill=\"none\" stroke=\"black\" d=\"M449.57,-347.8C460.01,-335.47 474.24,-318.68 485.92,-304.89\"/>\n<polygon fill=\"black\" stroke=\"black\" points=\"488.66,-307.07 492.45,-297.18 483.32,-302.54 488.66,-307.07\"/>\n<text text-anchor=\"middle\" x=\"491.5\" y=\"-318.8\" font-family=\"Times,serif\" font-size=\"14.00\">punct</text>\n</g>\n<!-- 17 -->\n<g id=\"node19\" class=\"node\">\n<title>17</title>\n<text text-anchor=\"middle\" x=\"442\" y=\"-188.3\" font-family=\"Times,serif\" font-size=\"14.00\">17 (помощью)</text>\n</g>\n<!-- 16&#45;&gt;17 -->\n<g id=\"edge17\" class=\"edge\">\n<title>16&#45;&gt;17</title>\n<path fill=\"none\" stroke=\"black\" d=\"M436.42,-260.8C437.37,-249.16 438.66,-233.55 439.76,-220.24\"/>\n<polygon fill=\"black\" stroke=\"black\" points=\"443.25,-220.43 440.59,-210.18 436.28,-219.85 443.25,-220.43\"/>\n<text text-anchor=\"middle\" x=\"453\" y=\"-231.8\" font-family=\"Times,serif\" font-size=\"14.00\">fixed</text>\n</g>\n</g>\n</svg>\n"
          },
          "metadata": {},
          "execution_count": 23
        }
      ]
    },
    {
      "cell_type": "markdown",
      "metadata": {
        "id": "Dwi3WDbdNUpn"
      },
      "source": [
        "Вспомним наш прекрасный метод доставания узлов:"
      ]
    },
    {
      "cell_type": "code",
      "metadata": {
        "id": "2oqR8cHtNTUA",
        "colab": {
          "base_uri": "https://localhost:8080/"
        },
        "outputId": "54f2bcfe-1200-469b-973c-c1d40cf75c4d"
      },
      "source": [
        "graph_tree_80.root = graph_tree_80.nodes[0]  # чтобы метод сработал нужно установить корневой элемент\n",
        "list(graph_tree_80.triples())"
      ],
      "execution_count": 24,
      "outputs": [
        {
          "output_type": "execute_result",
          "data": {
            "text/plain": [
              "[((None, 'TOP'), 'root', ('переубежден', 'VERB')),\n",
              " (('переубежден', 'VERB'), 'parataxis', ('преданию', 'NOUN')),\n",
              " (('преданию', 'NOUN'), 'case', ('Согласно', 'ADP')),\n",
              " (('преданию', 'NOUN'), 'punct', (',', 'PUNCT')),\n",
              " (('переубежден', 'VERB'), 'nsubj', ('Трдат', 'PROPN')),\n",
              " (('Трдат', 'PROPN'), 'punct', (',', 'PUNCT')),\n",
              " (('Трдат', 'PROPN'), 'amod', ('относившийся', 'VERB')),\n",
              " (('относившийся', 'VERB'), 'advmod', ('благосклонно', 'ADV')),\n",
              " (('благосклонно', 'ADV'), 'advmod', ('слишком', 'ADV')),\n",
              " (('слишком', 'ADV'), 'advmod', ('поначалу', 'ADV')),\n",
              " (('слишком', 'ADV'), 'advmod', ('не', 'PART')),\n",
              " (('относившийся', 'VERB'), 'obl', ('христианам', 'NOUN')),\n",
              " (('христианам', 'NOUN'), 'case', ('к', 'ADP')),\n",
              " (('христианам', 'NOUN'), 'punct', (',', 'PUNCT')),\n",
              " (('переубежден', 'VERB'), 'aux:pass', ('был', 'AUX')),\n",
              " (('переубежден', 'VERB'), 'obl', ('чуда', 'NOUN')),\n",
              " (('чуда', 'NOUN'), 'case', ('с', 'ADP')),\n",
              " (('с', 'ADP'), 'fixed', ('помощью', 'NOUN')),\n",
              " (('чуда', 'NOUN'), 'punct', ('.', 'PUNCT'))]"
            ]
          },
          "metadata": {},
          "execution_count": 24
        }
      ]
    },
    {
      "cell_type": "markdown",
      "metadata": {
        "id": "Qm0TgTG0Or6u"
      },
      "source": [
        "Какие вообще отношения в Universal Dependencies маркируются для русского языка?\n",
        "\n",
        "https://universaldependencies.org/ru/index.html"
      ]
    },
    {
      "cell_type": "markdown",
      "source": [
        "**Какие еще вопросы можно решать с помощью UDPipe?**\n",
        "\n",
        "+ Достать какую-нибудь составляющую. Например, достать из всех предложений вашего корпуса именные группы.\n",
        "+ Достать самые короткие пути (пути по графу зависимостей), соединяющие между собой какие-нибудь фразы.\n",
        "+ Искать предложения или конструкции, похожие между собой по структуре.\n",
        "+ и т.д."
      ],
      "metadata": {
        "id": "Xwfty4Fjle0w"
      }
    },
    {
      "cell_type": "markdown",
      "source": [
        "### **Задание 1 (UDPipe)**"
      ],
      "metadata": {
        "id": "BrHK63aEPxOS"
      }
    },
    {
      "cell_type": "markdown",
      "source": [
        "1. Узнайте все про модификаторы слов **во всех формах**:\n",
        "    - *рисунок*: найдите все его зависимые прилагательные,\n",
        "    - *назвать*: найдите все его прямые дополнения и подлежащия,\n",
        "    - *любить*: найдите все его зависимые наречия.\n",
        "\n",
        "2. Достаньте из Arzamas все именные группы для слов с тегом `nsubj` (т.е. все именные группы в именительном падеже) и запишите их в файл, где каждая ИГ на новой строчке."
      ],
      "metadata": {
        "id": "bXjqhoADP0Tk"
      }
    },
    {
      "cell_type": "markdown",
      "source": [
        "### **Задание 2 (Spacy)**\n",
        "\n",
        "У вас есть первые две главы [английской](https://raw.githubusercontent.com/KatiaKozlova/files/refs/heads/main/57-10/syntax/hp1_en.txt) и [русской](https://raw.githubusercontent.com/KatiaKozlova/files/refs/heads/main/57-10/syntax/hp1_ru.txt) версии *Гарри Поттера и философского камня*.\n",
        "\n",
        "1. Выделите все именнованные сущности в обеих версиях и сохраните их в два датафрейма со столбцами сущностями, типами сущностей и их кол-вом в тексте.\n",
        "2. Сравните, насколько совпадают самые частотные сущности с тегами `LOC`, `ORG` и `PER(SON)` в англоязычной и русскоязычной версиях. Визуализируйте ваши наблюдения.\n",
        "3. Для каждого человека (`PER(SON)`) найдите все его вершины-глаголы и сделайте частотный список их начальных форм как для английской версии, так и для русской. Также сравните и визуализируйте самые частотные результаты."
      ],
      "metadata": {
        "id": "fxnkd2julIcN"
      }
    },
    {
      "cell_type": "markdown",
      "source": [
        "### **Задание 3 (Spacy)\\***"
      ],
      "metadata": {
        "id": "MlF3DdR5QDRl"
      }
    },
    {
      "cell_type": "markdown",
      "metadata": {
        "id": "5Yp6OaI_KLjj"
      },
      "source": [
        "1. Дадим SpaCy на разбор предложение с синтаксической неоднозначностью. Какой анализ предлагает SpaCy?\n",
        "    + *John saw the man on the mountain with a telescope.*\n",
        "    + *I'm glad I'm a woman, and so is Lola.*\n",
        "\n",
        "2. Дадим примеры на острова (приведены ниже с традиционной оценкой их приемлемости). Какой анализ предлагает SpaCy?\n",
        "    - *What<sub>i</sub> does Sarah believe that Susan thinks that John bought \\_<sub>i</sub>?*\n",
        "    + Сложные ИГ\n",
        "      - _<sup>\\*</sup>Who<sub>i</sub> did Mary see the report that was about _<sub>i</sub>?_<br>(cf. *Mary saw the report that was about the senator.*)\n",
        "      - _<sup>?*</sup>Which sportscar<sub>i</sub> did the color of _<sub>i</sub> delight the baseball player?_<br>(cf. *The color of the sportscar delighted the baseball player.*)\n",
        "\n",
        "    + Комплементы глаголов говорения\n",
        "       - _<sup>??</sup>What<sub>i</sub> did Mary whisper that Bill liked _<sub>i</sub>?_<br>(cf. *Mary whispered that Bill liked wine.*)\n",
        "\n",
        "    + Остров подлежащего\n",
        "        - _<sup>?*</sup>The sportscar which<sub>i</sub> the color of _<sub>i</sub> delighted the baseball player…_\n",
        "\n",
        "3. Справляется ли SpaCy с эллипсисом:\n",
        "    + *John can [play the guitar]<sub>i</sub>, and Mary can _<sub>i</sub>, too.*\n",
        "\n"
      ]
    },
    {
      "cell_type": "code",
      "source": [],
      "metadata": {
        "id": "vtGb0BNusZHk"
      },
      "execution_count": null,
      "outputs": []
    }
  ],
  "metadata": {
    "kernelspec": {
      "display_name": "Python 3",
      "language": "python",
      "name": "python3"
    },
    "language_info": {
      "codemirror_mode": {
        "name": "ipython",
        "version": 3
      },
      "file_extension": ".py",
      "mimetype": "text/x-python",
      "name": "python",
      "nbconvert_exporter": "python",
      "pygments_lexer": "ipython3",
      "version": "3.8.5"
    },
    "colab": {
      "provenance": []
    }
  },
  "nbformat": 4,
  "nbformat_minor": 0
}